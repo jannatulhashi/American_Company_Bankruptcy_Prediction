{
  "cells": [
    {
      "cell_type": "markdown",
      "metadata": {
        "id": "qy7EEDS6WXn1"
      },
      "source": [
        "# Preprocessing\n"
      ]
    },
    {
      "cell_type": "code",
      "execution_count": 1,
      "metadata": {
        "id": "p9qDBIkHWc9M"
      },
      "outputs": [],
      "source": [
        "# Import our dependencies\n",
        "from sklearn.model_selection import train_test_split\n",
        "from sklearn.preprocessing import StandardScaler\n",
        "import pandas as pd\n",
        "import tensorflow as tf"
      ]
    },
    {
      "cell_type": "code",
      "execution_count": 2,
      "metadata": {
        "colab": {
          "base_uri": "https://localhost:8080/",
          "height": 256
        },
        "id": "oxENUuSzWfaX",
        "outputId": "d38b3a19-75e1-4a03-9f37-5356f48825a8",
        "scrolled": true
      },
      "outputs": [
        {
          "output_type": "execute_result",
          "data": {
            "text/plain": [
              "  company_name status_label  year  current_assets(X1)  cost_of_goods_sold(X2)  \\\n",
              "0          C_1        alive  1999             511.267                 833.107   \n",
              "1          C_1        alive  2000             485.856                 713.811   \n",
              "2          C_1        alive  2001             436.656                 526.477   \n",
              "3          C_1        alive  2002             396.412                 496.747   \n",
              "4          C_1        alive  2003             432.204                 523.302   \n",
              "\n",
              "   depreciation_and_amortization(X3)  EBITDA(X4)  inventory(X5)  \\\n",
              "0                             18.373      89.031        336.018   \n",
              "1                             18.577      64.367        320.590   \n",
              "2                             22.496      27.207        286.588   \n",
              "3                             27.172      30.745        259.954   \n",
              "4                             26.680      47.491        247.245   \n",
              "\n",
              "   net_income(X6)  total_receivables(X7)  ...  net_sales(X9)  \\\n",
              "0          35.163                128.348  ...       1024.333   \n",
              "1          18.531                115.187  ...        874.255   \n",
              "2         -58.939                 77.528  ...        638.721   \n",
              "3         -12.410                 66.322  ...        606.337   \n",
              "4           3.504                104.661  ...        651.958   \n",
              "\n",
              "   total_assets(X10)  total_long_term_debt(X11)  EBIT(X12)  gross_profit(X13)  \\\n",
              "0            740.998                    180.447     70.658            191.226   \n",
              "1            701.854                    179.987     45.790            160.444   \n",
              "2            710.199                    217.699      4.711            112.244   \n",
              "3            686.621                    164.658      3.573            109.590   \n",
              "4            709.292                    248.666     20.811            128.656   \n",
              "\n",
              "   total_current_liabilities(X14)  retained_earnings(X15)  total_revenue(X16)  \\\n",
              "0                         163.816                 201.026            1024.333   \n",
              "1                         125.392                 204.065             874.255   \n",
              "2                         150.464                 139.603             638.721   \n",
              "3                         203.575                 124.106             606.337   \n",
              "4                         131.261                 131.884             651.958   \n",
              "\n",
              "   total_liabilities(X17)  total_operating_expenses(X18)  \n",
              "0                 401.483                        935.302  \n",
              "1                 361.642                        809.888  \n",
              "2                 399.964                        611.514  \n",
              "3                 391.633                        575.592  \n",
              "4                 407.608                        604.467  \n",
              "\n",
              "[5 rows x 21 columns]"
            ],
            "text/html": [
              "\n",
              "  <div id=\"df-d29d7fb6-1a5d-49d7-9a29-c2b40a473ed2\" class=\"colab-df-container\">\n",
              "    <div>\n",
              "<style scoped>\n",
              "    .dataframe tbody tr th:only-of-type {\n",
              "        vertical-align: middle;\n",
              "    }\n",
              "\n",
              "    .dataframe tbody tr th {\n",
              "        vertical-align: top;\n",
              "    }\n",
              "\n",
              "    .dataframe thead th {\n",
              "        text-align: right;\n",
              "    }\n",
              "</style>\n",
              "<table border=\"1\" class=\"dataframe\">\n",
              "  <thead>\n",
              "    <tr style=\"text-align: right;\">\n",
              "      <th></th>\n",
              "      <th>company_name</th>\n",
              "      <th>status_label</th>\n",
              "      <th>year</th>\n",
              "      <th>current_assets(X1)</th>\n",
              "      <th>cost_of_goods_sold(X2)</th>\n",
              "      <th>depreciation_and_amortization(X3)</th>\n",
              "      <th>EBITDA(X4)</th>\n",
              "      <th>inventory(X5)</th>\n",
              "      <th>net_income(X6)</th>\n",
              "      <th>total_receivables(X7)</th>\n",
              "      <th>...</th>\n",
              "      <th>net_sales(X9)</th>\n",
              "      <th>total_assets(X10)</th>\n",
              "      <th>total_long_term_debt(X11)</th>\n",
              "      <th>EBIT(X12)</th>\n",
              "      <th>gross_profit(X13)</th>\n",
              "      <th>total_current_liabilities(X14)</th>\n",
              "      <th>retained_earnings(X15)</th>\n",
              "      <th>total_revenue(X16)</th>\n",
              "      <th>total_liabilities(X17)</th>\n",
              "      <th>total_operating_expenses(X18)</th>\n",
              "    </tr>\n",
              "  </thead>\n",
              "  <tbody>\n",
              "    <tr>\n",
              "      <th>0</th>\n",
              "      <td>C_1</td>\n",
              "      <td>alive</td>\n",
              "      <td>1999</td>\n",
              "      <td>511.267</td>\n",
              "      <td>833.107</td>\n",
              "      <td>18.373</td>\n",
              "      <td>89.031</td>\n",
              "      <td>336.018</td>\n",
              "      <td>35.163</td>\n",
              "      <td>128.348</td>\n",
              "      <td>...</td>\n",
              "      <td>1024.333</td>\n",
              "      <td>740.998</td>\n",
              "      <td>180.447</td>\n",
              "      <td>70.658</td>\n",
              "      <td>191.226</td>\n",
              "      <td>163.816</td>\n",
              "      <td>201.026</td>\n",
              "      <td>1024.333</td>\n",
              "      <td>401.483</td>\n",
              "      <td>935.302</td>\n",
              "    </tr>\n",
              "    <tr>\n",
              "      <th>1</th>\n",
              "      <td>C_1</td>\n",
              "      <td>alive</td>\n",
              "      <td>2000</td>\n",
              "      <td>485.856</td>\n",
              "      <td>713.811</td>\n",
              "      <td>18.577</td>\n",
              "      <td>64.367</td>\n",
              "      <td>320.590</td>\n",
              "      <td>18.531</td>\n",
              "      <td>115.187</td>\n",
              "      <td>...</td>\n",
              "      <td>874.255</td>\n",
              "      <td>701.854</td>\n",
              "      <td>179.987</td>\n",
              "      <td>45.790</td>\n",
              "      <td>160.444</td>\n",
              "      <td>125.392</td>\n",
              "      <td>204.065</td>\n",
              "      <td>874.255</td>\n",
              "      <td>361.642</td>\n",
              "      <td>809.888</td>\n",
              "    </tr>\n",
              "    <tr>\n",
              "      <th>2</th>\n",
              "      <td>C_1</td>\n",
              "      <td>alive</td>\n",
              "      <td>2001</td>\n",
              "      <td>436.656</td>\n",
              "      <td>526.477</td>\n",
              "      <td>22.496</td>\n",
              "      <td>27.207</td>\n",
              "      <td>286.588</td>\n",
              "      <td>-58.939</td>\n",
              "      <td>77.528</td>\n",
              "      <td>...</td>\n",
              "      <td>638.721</td>\n",
              "      <td>710.199</td>\n",
              "      <td>217.699</td>\n",
              "      <td>4.711</td>\n",
              "      <td>112.244</td>\n",
              "      <td>150.464</td>\n",
              "      <td>139.603</td>\n",
              "      <td>638.721</td>\n",
              "      <td>399.964</td>\n",
              "      <td>611.514</td>\n",
              "    </tr>\n",
              "    <tr>\n",
              "      <th>3</th>\n",
              "      <td>C_1</td>\n",
              "      <td>alive</td>\n",
              "      <td>2002</td>\n",
              "      <td>396.412</td>\n",
              "      <td>496.747</td>\n",
              "      <td>27.172</td>\n",
              "      <td>30.745</td>\n",
              "      <td>259.954</td>\n",
              "      <td>-12.410</td>\n",
              "      <td>66.322</td>\n",
              "      <td>...</td>\n",
              "      <td>606.337</td>\n",
              "      <td>686.621</td>\n",
              "      <td>164.658</td>\n",
              "      <td>3.573</td>\n",
              "      <td>109.590</td>\n",
              "      <td>203.575</td>\n",
              "      <td>124.106</td>\n",
              "      <td>606.337</td>\n",
              "      <td>391.633</td>\n",
              "      <td>575.592</td>\n",
              "    </tr>\n",
              "    <tr>\n",
              "      <th>4</th>\n",
              "      <td>C_1</td>\n",
              "      <td>alive</td>\n",
              "      <td>2003</td>\n",
              "      <td>432.204</td>\n",
              "      <td>523.302</td>\n",
              "      <td>26.680</td>\n",
              "      <td>47.491</td>\n",
              "      <td>247.245</td>\n",
              "      <td>3.504</td>\n",
              "      <td>104.661</td>\n",
              "      <td>...</td>\n",
              "      <td>651.958</td>\n",
              "      <td>709.292</td>\n",
              "      <td>248.666</td>\n",
              "      <td>20.811</td>\n",
              "      <td>128.656</td>\n",
              "      <td>131.261</td>\n",
              "      <td>131.884</td>\n",
              "      <td>651.958</td>\n",
              "      <td>407.608</td>\n",
              "      <td>604.467</td>\n",
              "    </tr>\n",
              "  </tbody>\n",
              "</table>\n",
              "<p>5 rows × 21 columns</p>\n",
              "</div>\n",
              "    <div class=\"colab-df-buttons\">\n",
              "\n",
              "  <div class=\"colab-df-container\">\n",
              "    <button class=\"colab-df-convert\" onclick=\"convertToInteractive('df-d29d7fb6-1a5d-49d7-9a29-c2b40a473ed2')\"\n",
              "            title=\"Convert this dataframe to an interactive table.\"\n",
              "            style=\"display:none;\">\n",
              "\n",
              "  <svg xmlns=\"http://www.w3.org/2000/svg\" height=\"24px\" viewBox=\"0 -960 960 960\">\n",
              "    <path d=\"M120-120v-720h720v720H120Zm60-500h600v-160H180v160Zm220 220h160v-160H400v160Zm0 220h160v-160H400v160ZM180-400h160v-160H180v160Zm440 0h160v-160H620v160ZM180-180h160v-160H180v160Zm440 0h160v-160H620v160Z\"/>\n",
              "  </svg>\n",
              "    </button>\n",
              "\n",
              "  <style>\n",
              "    .colab-df-container {\n",
              "      display:flex;\n",
              "      gap: 12px;\n",
              "    }\n",
              "\n",
              "    .colab-df-convert {\n",
              "      background-color: #E8F0FE;\n",
              "      border: none;\n",
              "      border-radius: 50%;\n",
              "      cursor: pointer;\n",
              "      display: none;\n",
              "      fill: #1967D2;\n",
              "      height: 32px;\n",
              "      padding: 0 0 0 0;\n",
              "      width: 32px;\n",
              "    }\n",
              "\n",
              "    .colab-df-convert:hover {\n",
              "      background-color: #E2EBFA;\n",
              "      box-shadow: 0px 1px 2px rgba(60, 64, 67, 0.3), 0px 1px 3px 1px rgba(60, 64, 67, 0.15);\n",
              "      fill: #174EA6;\n",
              "    }\n",
              "\n",
              "    .colab-df-buttons div {\n",
              "      margin-bottom: 4px;\n",
              "    }\n",
              "\n",
              "    [theme=dark] .colab-df-convert {\n",
              "      background-color: #3B4455;\n",
              "      fill: #D2E3FC;\n",
              "    }\n",
              "\n",
              "    [theme=dark] .colab-df-convert:hover {\n",
              "      background-color: #434B5C;\n",
              "      box-shadow: 0px 1px 3px 1px rgba(0, 0, 0, 0.15);\n",
              "      filter: drop-shadow(0px 1px 2px rgba(0, 0, 0, 0.3));\n",
              "      fill: #FFFFFF;\n",
              "    }\n",
              "  </style>\n",
              "\n",
              "    <script>\n",
              "      const buttonEl =\n",
              "        document.querySelector('#df-d29d7fb6-1a5d-49d7-9a29-c2b40a473ed2 button.colab-df-convert');\n",
              "      buttonEl.style.display =\n",
              "        google.colab.kernel.accessAllowed ? 'block' : 'none';\n",
              "\n",
              "      async function convertToInteractive(key) {\n",
              "        const element = document.querySelector('#df-d29d7fb6-1a5d-49d7-9a29-c2b40a473ed2');\n",
              "        const dataTable =\n",
              "          await google.colab.kernel.invokeFunction('convertToInteractive',\n",
              "                                                    [key], {});\n",
              "        if (!dataTable) return;\n",
              "\n",
              "        const docLinkHtml = 'Like what you see? Visit the ' +\n",
              "          '<a target=\"_blank\" href=https://colab.research.google.com/notebooks/data_table.ipynb>data table notebook</a>'\n",
              "          + ' to learn more about interactive tables.';\n",
              "        element.innerHTML = '';\n",
              "        dataTable['output_type'] = 'display_data';\n",
              "        await google.colab.output.renderOutput(dataTable, element);\n",
              "        const docLink = document.createElement('div');\n",
              "        docLink.innerHTML = docLinkHtml;\n",
              "        element.appendChild(docLink);\n",
              "      }\n",
              "    </script>\n",
              "  </div>\n",
              "\n",
              "\n",
              "<div id=\"df-2eea0958-4838-4d9c-86f4-265af13d7d03\">\n",
              "  <button class=\"colab-df-quickchart\" onclick=\"quickchart('df-2eea0958-4838-4d9c-86f4-265af13d7d03')\"\n",
              "            title=\"Suggest charts.\"\n",
              "            style=\"display:none;\">\n",
              "\n",
              "<svg xmlns=\"http://www.w3.org/2000/svg\" height=\"24px\"viewBox=\"0 0 24 24\"\n",
              "     width=\"24px\">\n",
              "    <g>\n",
              "        <path d=\"M19 3H5c-1.1 0-2 .9-2 2v14c0 1.1.9 2 2 2h14c1.1 0 2-.9 2-2V5c0-1.1-.9-2-2-2zM9 17H7v-7h2v7zm4 0h-2V7h2v10zm4 0h-2v-4h2v4z\"/>\n",
              "    </g>\n",
              "</svg>\n",
              "  </button>\n",
              "\n",
              "<style>\n",
              "  .colab-df-quickchart {\n",
              "      --bg-color: #E8F0FE;\n",
              "      --fill-color: #1967D2;\n",
              "      --hover-bg-color: #E2EBFA;\n",
              "      --hover-fill-color: #174EA6;\n",
              "      --disabled-fill-color: #AAA;\n",
              "      --disabled-bg-color: #DDD;\n",
              "  }\n",
              "\n",
              "  [theme=dark] .colab-df-quickchart {\n",
              "      --bg-color: #3B4455;\n",
              "      --fill-color: #D2E3FC;\n",
              "      --hover-bg-color: #434B5C;\n",
              "      --hover-fill-color: #FFFFFF;\n",
              "      --disabled-bg-color: #3B4455;\n",
              "      --disabled-fill-color: #666;\n",
              "  }\n",
              "\n",
              "  .colab-df-quickchart {\n",
              "    background-color: var(--bg-color);\n",
              "    border: none;\n",
              "    border-radius: 50%;\n",
              "    cursor: pointer;\n",
              "    display: none;\n",
              "    fill: var(--fill-color);\n",
              "    height: 32px;\n",
              "    padding: 0;\n",
              "    width: 32px;\n",
              "  }\n",
              "\n",
              "  .colab-df-quickchart:hover {\n",
              "    background-color: var(--hover-bg-color);\n",
              "    box-shadow: 0 1px 2px rgba(60, 64, 67, 0.3), 0 1px 3px 1px rgba(60, 64, 67, 0.15);\n",
              "    fill: var(--button-hover-fill-color);\n",
              "  }\n",
              "\n",
              "  .colab-df-quickchart-complete:disabled,\n",
              "  .colab-df-quickchart-complete:disabled:hover {\n",
              "    background-color: var(--disabled-bg-color);\n",
              "    fill: var(--disabled-fill-color);\n",
              "    box-shadow: none;\n",
              "  }\n",
              "\n",
              "  .colab-df-spinner {\n",
              "    border: 2px solid var(--fill-color);\n",
              "    border-color: transparent;\n",
              "    border-bottom-color: var(--fill-color);\n",
              "    animation:\n",
              "      spin 1s steps(1) infinite;\n",
              "  }\n",
              "\n",
              "  @keyframes spin {\n",
              "    0% {\n",
              "      border-color: transparent;\n",
              "      border-bottom-color: var(--fill-color);\n",
              "      border-left-color: var(--fill-color);\n",
              "    }\n",
              "    20% {\n",
              "      border-color: transparent;\n",
              "      border-left-color: var(--fill-color);\n",
              "      border-top-color: var(--fill-color);\n",
              "    }\n",
              "    30% {\n",
              "      border-color: transparent;\n",
              "      border-left-color: var(--fill-color);\n",
              "      border-top-color: var(--fill-color);\n",
              "      border-right-color: var(--fill-color);\n",
              "    }\n",
              "    40% {\n",
              "      border-color: transparent;\n",
              "      border-right-color: var(--fill-color);\n",
              "      border-top-color: var(--fill-color);\n",
              "    }\n",
              "    60% {\n",
              "      border-color: transparent;\n",
              "      border-right-color: var(--fill-color);\n",
              "    }\n",
              "    80% {\n",
              "      border-color: transparent;\n",
              "      border-right-color: var(--fill-color);\n",
              "      border-bottom-color: var(--fill-color);\n",
              "    }\n",
              "    90% {\n",
              "      border-color: transparent;\n",
              "      border-bottom-color: var(--fill-color);\n",
              "    }\n",
              "  }\n",
              "</style>\n",
              "\n",
              "  <script>\n",
              "    async function quickchart(key) {\n",
              "      const quickchartButtonEl =\n",
              "        document.querySelector('#' + key + ' button');\n",
              "      quickchartButtonEl.disabled = true;  // To prevent multiple clicks.\n",
              "      quickchartButtonEl.classList.add('colab-df-spinner');\n",
              "      try {\n",
              "        const charts = await google.colab.kernel.invokeFunction(\n",
              "            'suggestCharts', [key], {});\n",
              "      } catch (error) {\n",
              "        console.error('Error during call to suggestCharts:', error);\n",
              "      }\n",
              "      quickchartButtonEl.classList.remove('colab-df-spinner');\n",
              "      quickchartButtonEl.classList.add('colab-df-quickchart-complete');\n",
              "    }\n",
              "    (() => {\n",
              "      let quickchartButtonEl =\n",
              "        document.querySelector('#df-2eea0958-4838-4d9c-86f4-265af13d7d03 button');\n",
              "      quickchartButtonEl.style.display =\n",
              "        google.colab.kernel.accessAllowed ? 'block' : 'none';\n",
              "    })();\n",
              "  </script>\n",
              "</div>\n",
              "    </div>\n",
              "  </div>\n"
            ]
          },
          "metadata": {},
          "execution_count": 2
        }
      ],
      "source": [
        "# Import and read the american_bankruptcy.csv.\n",
        "\n",
        "url = \"https://raw.githubusercontent.com/jannatulhashi/American_Company_Bankruptcy_Prediction/main/american_bankruptcy.csv\"\n",
        "bankruptcy_df = pd.read_csv(url)\n",
        "bankruptcy_df.head()\n"
      ]
    },
    {
      "cell_type": "markdown",
      "metadata": {
        "id": "DdTnkZjLsrGF"
      },
      "source": [
        "### Variable Name Description\n",
        "\n",
        "**X1 :** Current assets - All the assets of a company that are expected to be sold or used as a result of standard business operations over the next year\n",
        "\n",
        "**X2 :** Cost of goods sold - The total amount a company paid as a cost directly related to the sale of products\n",
        "\n",
        "**X3 :** Depreciation and amortization - Depreciation refers to the loss of value of a tangible fixed asset over\n",
        "time (such as property, machinery, buildings, and plant). Amortization refers to the loss of value of intangible assets over time.\n",
        "\n",
        "**X4 :** EBITDA - Earnings before interest, taxes, depreciation, and amortization. It is a measure of a company's overall financial performance, serving as an alternative to net income.\n",
        "\n",
        "**X5 :** Inventory - The accounting of items and raw materials that a company either uses in production or sells.\n",
        "\n",
        "**X6 :** Net Income - The overall profitability of a company after all expenses and costs have been deducted from total revenue.\n",
        "\n",
        "**X7 :** Total Receivables - The balance of money due to a firm for goods or services delivered or used but not yet paid for by customers.\n",
        "\n",
        "**X8 :** Market value - The price of an asset in a marketplace. In this dataset, it refers to the market capitalization since companies are publicly traded in the stock market.\n",
        "\n",
        "**X9 :** Net sales - The sum of a company's gross sales minus its returns, allowances, and discounts.\n",
        "\n",
        "**X10 :** Total assets - All the assets, or items of value, a business owns.\n",
        "\n",
        "**X11 :** Total Long-term debt - A company's loans and other liabilities that will not become due within one year of the balance sheet date.\n",
        "\n",
        "**X12 :** EBIT - Earnings before interest and taxes.\n",
        "\n",
        "**X13 :** Gross Profit - The profit a business makes after subtracting all the costs that are related to manufacturing and selling its products or services.\n",
        "\n",
        "**X14 :** Total Current Liabilities - The sum of accounts payable, accrued liabilities, and taxes such as Bonds payable at the end of the year, salaries, and commissions remaining.\n",
        "\n",
        "**X15 :** Retained Earnings - The amount of profit a company has left over after paying all its direct costs, indirect costs, income taxes, and its dividends to shareholders.\n",
        "\n",
        "**X16 :** Total Revenue - The amount of income that a business has made from all sales before subtracting expenses. It may include interest and dividends from investments.\n",
        "\n",
        "**X17 :** Total Liabilities - The combined debts and obligations that the company owes to outside parties.\n",
        "\n",
        "**X18 :** Total Operating Expenses - The expenses a business incurs through its normal business operations."
      ]
    },
    {
      "cell_type": "code",
      "execution_count": 3,
      "metadata": {
        "colab": {
          "base_uri": "https://localhost:8080/"
        },
        "id": "xygn-PsmYYbz",
        "outputId": "d31d2bcf-3a41-4541-a487-74c6c789223a"
      },
      "outputs": [
        {
          "output_type": "stream",
          "name": "stdout",
          "text": [
            "<class 'pandas.core.frame.DataFrame'>\n",
            "RangeIndex: 78682 entries, 0 to 78681\n",
            "Data columns (total 21 columns):\n",
            " #   Column                             Non-Null Count  Dtype  \n",
            "---  ------                             --------------  -----  \n",
            " 0   company_name                       78682 non-null  object \n",
            " 1   status_label                       78682 non-null  object \n",
            " 2   year                               78682 non-null  int64  \n",
            " 3   current_assets(X1)                 78682 non-null  float64\n",
            " 4   cost_of_goods_sold(X2)             78682 non-null  float64\n",
            " 5   depreciation_and_amortization(X3)  78682 non-null  float64\n",
            " 6   EBITDA(X4)                         78682 non-null  float64\n",
            " 7   inventory(X5)                      78682 non-null  float64\n",
            " 8   net_income(X6)                     78682 non-null  float64\n",
            " 9   total_receivables(X7)              78682 non-null  float64\n",
            " 10  market_value(X8)                   78682 non-null  float64\n",
            " 11  net_sales(X9)                      78682 non-null  float64\n",
            " 12  total_assets(X10)                  78682 non-null  float64\n",
            " 13  total_long_term_debt(X11)          78682 non-null  float64\n",
            " 14  EBIT(X12)                          78682 non-null  float64\n",
            " 15  gross_profit(X13)                  78682 non-null  float64\n",
            " 16  total_current_liabilities(X14)     78682 non-null  float64\n",
            " 17  retained_earnings(X15)             78682 non-null  float64\n",
            " 18  total_revenue(X16)                 78682 non-null  float64\n",
            " 19  total_liabilities(X17)             78682 non-null  float64\n",
            " 20  total_operating_expenses(X18)      78682 non-null  float64\n",
            "dtypes: float64(18), int64(1), object(2)\n",
            "memory usage: 12.6+ MB\n"
          ]
        }
      ],
      "source": [
        "# Displaying a summary of the 'bankruptcy_df' DataFrame\n",
        "bankruptcy_df.info()"
      ]
    },
    {
      "cell_type": "code",
      "execution_count": 4,
      "metadata": {
        "colab": {
          "base_uri": "https://localhost:8080/"
        },
        "id": "Nqc48koAXl5y",
        "outputId": "b50783c3-c2fd-415c-e67b-50dd97da5201"
      },
      "outputs": [
        {
          "output_type": "execute_result",
          "data": {
            "text/plain": [
              "company_name                          8971\n",
              "status_label                             2\n",
              "year                                    20\n",
              "current_assets(X1)                   65895\n",
              "cost_of_goods_sold(X2)               65690\n",
              "depreciation_and_amortization(X3)    36010\n",
              "EBITDA(X4)                           59060\n",
              "inventory(X5)                        38898\n",
              "net_income(X6)                       55550\n",
              "total_receivables(X7)                49577\n",
              "market_value(X8)                     77580\n",
              "net_sales(X9)                        68596\n",
              "total_assets(X10)                    71521\n",
              "total_long_term_debt(X11)            39741\n",
              "EBIT(X12)                            56949\n",
              "gross_profit(X13)                    64952\n",
              "total_current_liabilities(X14)       58685\n",
              "retained_earnings(X15)               72062\n",
              "total_revenue(X16)                   68596\n",
              "total_liabilities(X17)               64640\n",
              "total_operating_expenses(X18)        70840\n",
              "dtype: int64"
            ]
          },
          "metadata": {},
          "execution_count": 4
        }
      ],
      "source": [
        "# Determine the number of unique values in each column.\n",
        "bankruptcy_df.nunique()"
      ]
    },
    {
      "cell_type": "code",
      "execution_count": 5,
      "metadata": {
        "colab": {
          "base_uri": "https://localhost:8080/"
        },
        "id": "ZaYR1RQltKw8",
        "outputId": "1638b35a-a80b-47c0-dd79-e7b684bc71a0"
      },
      "outputs": [
        {
          "output_type": "stream",
          "name": "stdout",
          "text": [
            "company_name                         0\n",
            "status_label                         0\n",
            "year                                 0\n",
            "current_assets(X1)                   0\n",
            "cost_of_goods_sold(X2)               0\n",
            "depreciation_and_amortization(X3)    0\n",
            "EBITDA(X4)                           0\n",
            "inventory(X5)                        0\n",
            "net_income(X6)                       0\n",
            "total_receivables(X7)                0\n",
            "market_value(X8)                     0\n",
            "net_sales(X9)                        0\n",
            "total_assets(X10)                    0\n",
            "total_long_term_debt(X11)            0\n",
            "EBIT(X12)                            0\n",
            "gross_profit(X13)                    0\n",
            "total_current_liabilities(X14)       0\n",
            "retained_earnings(X15)               0\n",
            "total_revenue(X16)                   0\n",
            "total_liabilities(X17)               0\n",
            "total_operating_expenses(X18)        0\n",
            "dtype: int64\n"
          ]
        }
      ],
      "source": [
        "# Verify missing values\n",
        "missing_values = bankruptcy_df.isnull().sum()\n",
        "print(missing_values)"
      ]
    },
    {
      "cell_type": "code",
      "execution_count": 6,
      "metadata": {
        "colab": {
          "base_uri": "https://localhost:8080/"
        },
        "id": "MfLsgfO7Ygjl",
        "outputId": "cb1cd0c1-d64f-4e24-ca1a-6cd88df46fbf"
      },
      "outputs": [
        {
          "output_type": "execute_result",
          "data": {
            "text/plain": [
              "C_4081    20\n",
              "C_6487    20\n",
              "C_1153    20\n",
              "C_4047    20\n",
              "C_4056    20\n",
              "          ..\n",
              "C_1498     1\n",
              "C_5908     1\n",
              "C_2814     1\n",
              "C_3997     1\n",
              "C_3408     1\n",
              "Name: company_name, Length: 8971, dtype: int64"
            ]
          },
          "metadata": {},
          "execution_count": 6
        }
      ],
      "source": [
        "# Look at company_name value counts for binning\n",
        "\n",
        "company_name_counts = bankruptcy_df[\"company_name\"].value_counts()\n",
        "company_name_counts"
      ]
    },
    {
      "cell_type": "code",
      "execution_count": 7,
      "metadata": {
        "colab": {
          "base_uri": "https://localhost:8080/"
        },
        "id": "6SZvBTSrYgpr",
        "outputId": "9ca92606-72a9-425b-e8c7-4a0deb1c4084"
      },
      "outputs": [
        {
          "output_type": "execute_result",
          "data": {
            "text/plain": [
              "other    78682\n",
              "Name: company_name, dtype: int64"
            ]
          },
          "metadata": {},
          "execution_count": 7
        }
      ],
      "source": [
        "# Choose a cutoff value and create a list of company_name to be replaced and  use the variable name `company_name_to_replace`\n",
        "\n",
        "cutoff_value = 100\n",
        "company_name_to_replace = company_name_counts[company_name_counts < cutoff_value].index.tolist()\n",
        "\n",
        "# Replace in dataframe\n",
        "for name in company_name_to_replace:\n",
        "    bankruptcy_df['company_name'] =  bankruptcy_df['company_name'].replace(name, \"other\")\n",
        "\n",
        "# Check to make sure binning was successful\n",
        "bankruptcy_df['company_name'].value_counts()"
      ]
    },
    {
      "cell_type": "code",
      "execution_count": 8,
      "metadata": {
        "id": "R4pwlYAuYgsn"
      },
      "outputs": [],
      "source": [
        "# Apply one-hot encoding to the `company_name`\n",
        "\n",
        "bankruptcy_df = pd.get_dummies(bankruptcy_df, columns=['company_name'])\n"
      ]
    },
    {
      "cell_type": "code",
      "execution_count": 9,
      "metadata": {
        "id": "iml-1xezk4Qo"
      },
      "outputs": [],
      "source": [
        "# Convert the status_label column to binary numeric values, with 'alive' represented as 1 and 'failed' as 0\n",
        "bankruptcy_df['status_label'] = bankruptcy_df['status_label'].apply(lambda x: 1 if x == 'alive' else 0)\n"
      ]
    },
    {
      "cell_type": "code",
      "execution_count": null,
      "metadata": {
        "colab": {
          "base_uri": "https://localhost:8080/",
          "height": 256
        },
        "id": "4ULwyPl2YgvU",
        "outputId": "be39e97e-7f2b-434b-8426-51e158205a16"
      },
      "outputs": [
        {
          "data": {
            "text/html": [
              "<div>\n",
              "<style scoped>\n",
              "    .dataframe tbody tr th:only-of-type {\n",
              "        vertical-align: middle;\n",
              "    }\n",
              "\n",
              "    .dataframe tbody tr th {\n",
              "        vertical-align: top;\n",
              "    }\n",
              "\n",
              "    .dataframe thead th {\n",
              "        text-align: right;\n",
              "    }\n",
              "</style>\n",
              "<table border=\"1\" class=\"dataframe\">\n",
              "  <thead>\n",
              "    <tr style=\"text-align: right;\">\n",
              "      <th></th>\n",
              "      <th>status_label</th>\n",
              "      <th>year</th>\n",
              "      <th>current_assets(X1)</th>\n",
              "      <th>cost_of_goods_sold(X2)</th>\n",
              "      <th>depreciation_and_amortization(X3)</th>\n",
              "      <th>EBITDA(X4)</th>\n",
              "      <th>inventory(X5)</th>\n",
              "      <th>net_income(X6)</th>\n",
              "      <th>total_receivables(X7)</th>\n",
              "      <th>market_value(X8)</th>\n",
              "      <th>...</th>\n",
              "      <th>total_assets(X10)</th>\n",
              "      <th>total_long_term_debt(X11)</th>\n",
              "      <th>EBIT(X12)</th>\n",
              "      <th>gross_profit(X13)</th>\n",
              "      <th>total_current_liabilities(X14)</th>\n",
              "      <th>retained_earnings(X15)</th>\n",
              "      <th>total_revenue(X16)</th>\n",
              "      <th>total_liabilities(X17)</th>\n",
              "      <th>total_operating_expenses(X18)</th>\n",
              "      <th>company_name_other</th>\n",
              "    </tr>\n",
              "  </thead>\n",
              "  <tbody>\n",
              "    <tr>\n",
              "      <th>0</th>\n",
              "      <td>1</td>\n",
              "      <td>1999</td>\n",
              "      <td>511.267</td>\n",
              "      <td>833.107</td>\n",
              "      <td>18.373</td>\n",
              "      <td>89.031</td>\n",
              "      <td>336.018</td>\n",
              "      <td>35.163</td>\n",
              "      <td>128.348</td>\n",
              "      <td>372.7519</td>\n",
              "      <td>...</td>\n",
              "      <td>740.998</td>\n",
              "      <td>180.447</td>\n",
              "      <td>70.658</td>\n",
              "      <td>191.226</td>\n",
              "      <td>163.816</td>\n",
              "      <td>201.026</td>\n",
              "      <td>1024.333</td>\n",
              "      <td>401.483</td>\n",
              "      <td>935.302</td>\n",
              "      <td>True</td>\n",
              "    </tr>\n",
              "    <tr>\n",
              "      <th>1</th>\n",
              "      <td>1</td>\n",
              "      <td>2000</td>\n",
              "      <td>485.856</td>\n",
              "      <td>713.811</td>\n",
              "      <td>18.577</td>\n",
              "      <td>64.367</td>\n",
              "      <td>320.590</td>\n",
              "      <td>18.531</td>\n",
              "      <td>115.187</td>\n",
              "      <td>377.1180</td>\n",
              "      <td>...</td>\n",
              "      <td>701.854</td>\n",
              "      <td>179.987</td>\n",
              "      <td>45.790</td>\n",
              "      <td>160.444</td>\n",
              "      <td>125.392</td>\n",
              "      <td>204.065</td>\n",
              "      <td>874.255</td>\n",
              "      <td>361.642</td>\n",
              "      <td>809.888</td>\n",
              "      <td>True</td>\n",
              "    </tr>\n",
              "    <tr>\n",
              "      <th>2</th>\n",
              "      <td>1</td>\n",
              "      <td>2001</td>\n",
              "      <td>436.656</td>\n",
              "      <td>526.477</td>\n",
              "      <td>22.496</td>\n",
              "      <td>27.207</td>\n",
              "      <td>286.588</td>\n",
              "      <td>-58.939</td>\n",
              "      <td>77.528</td>\n",
              "      <td>364.5928</td>\n",
              "      <td>...</td>\n",
              "      <td>710.199</td>\n",
              "      <td>217.699</td>\n",
              "      <td>4.711</td>\n",
              "      <td>112.244</td>\n",
              "      <td>150.464</td>\n",
              "      <td>139.603</td>\n",
              "      <td>638.721</td>\n",
              "      <td>399.964</td>\n",
              "      <td>611.514</td>\n",
              "      <td>True</td>\n",
              "    </tr>\n",
              "    <tr>\n",
              "      <th>3</th>\n",
              "      <td>1</td>\n",
              "      <td>2002</td>\n",
              "      <td>396.412</td>\n",
              "      <td>496.747</td>\n",
              "      <td>27.172</td>\n",
              "      <td>30.745</td>\n",
              "      <td>259.954</td>\n",
              "      <td>-12.410</td>\n",
              "      <td>66.322</td>\n",
              "      <td>143.3295</td>\n",
              "      <td>...</td>\n",
              "      <td>686.621</td>\n",
              "      <td>164.658</td>\n",
              "      <td>3.573</td>\n",
              "      <td>109.590</td>\n",
              "      <td>203.575</td>\n",
              "      <td>124.106</td>\n",
              "      <td>606.337</td>\n",
              "      <td>391.633</td>\n",
              "      <td>575.592</td>\n",
              "      <td>True</td>\n",
              "    </tr>\n",
              "    <tr>\n",
              "      <th>4</th>\n",
              "      <td>1</td>\n",
              "      <td>2003</td>\n",
              "      <td>432.204</td>\n",
              "      <td>523.302</td>\n",
              "      <td>26.680</td>\n",
              "      <td>47.491</td>\n",
              "      <td>247.245</td>\n",
              "      <td>3.504</td>\n",
              "      <td>104.661</td>\n",
              "      <td>308.9071</td>\n",
              "      <td>...</td>\n",
              "      <td>709.292</td>\n",
              "      <td>248.666</td>\n",
              "      <td>20.811</td>\n",
              "      <td>128.656</td>\n",
              "      <td>131.261</td>\n",
              "      <td>131.884</td>\n",
              "      <td>651.958</td>\n",
              "      <td>407.608</td>\n",
              "      <td>604.467</td>\n",
              "      <td>True</td>\n",
              "    </tr>\n",
              "  </tbody>\n",
              "</table>\n",
              "<p>5 rows × 21 columns</p>\n",
              "</div>"
            ],
            "text/plain": [
              "   status_label  year  current_assets(X1)  cost_of_goods_sold(X2)  \\\n",
              "0             1  1999             511.267                 833.107   \n",
              "1             1  2000             485.856                 713.811   \n",
              "2             1  2001             436.656                 526.477   \n",
              "3             1  2002             396.412                 496.747   \n",
              "4             1  2003             432.204                 523.302   \n",
              "\n",
              "   depreciation_and_amortization(X3)  EBITDA(X4)  inventory(X5)  \\\n",
              "0                             18.373      89.031        336.018   \n",
              "1                             18.577      64.367        320.590   \n",
              "2                             22.496      27.207        286.588   \n",
              "3                             27.172      30.745        259.954   \n",
              "4                             26.680      47.491        247.245   \n",
              "\n",
              "   net_income(X6)  total_receivables(X7)  market_value(X8)  ...  \\\n",
              "0          35.163                128.348          372.7519  ...   \n",
              "1          18.531                115.187          377.1180  ...   \n",
              "2         -58.939                 77.528          364.5928  ...   \n",
              "3         -12.410                 66.322          143.3295  ...   \n",
              "4           3.504                104.661          308.9071  ...   \n",
              "\n",
              "   total_assets(X10)  total_long_term_debt(X11)  EBIT(X12)  gross_profit(X13)  \\\n",
              "0            740.998                    180.447     70.658            191.226   \n",
              "1            701.854                    179.987     45.790            160.444   \n",
              "2            710.199                    217.699      4.711            112.244   \n",
              "3            686.621                    164.658      3.573            109.590   \n",
              "4            709.292                    248.666     20.811            128.656   \n",
              "\n",
              "   total_current_liabilities(X14)  retained_earnings(X15)  total_revenue(X16)  \\\n",
              "0                         163.816                 201.026            1024.333   \n",
              "1                         125.392                 204.065             874.255   \n",
              "2                         150.464                 139.603             638.721   \n",
              "3                         203.575                 124.106             606.337   \n",
              "4                         131.261                 131.884             651.958   \n",
              "\n",
              "   total_liabilities(X17)  total_operating_expenses(X18)  company_name_other  \n",
              "0                 401.483                        935.302                True  \n",
              "1                 361.642                        809.888                True  \n",
              "2                 399.964                        611.514                True  \n",
              "3                 391.633                        575.592                True  \n",
              "4                 407.608                        604.467                True  \n",
              "\n",
              "[5 rows x 21 columns]"
            ]
          },
          "execution_count": 10,
          "metadata": {},
          "output_type": "execute_result"
        }
      ],
      "source": [
        "bankruptcy_df.head()"
      ]
    },
    {
      "cell_type": "markdown",
      "metadata": {
        "id": "CcnDr9Vlenvr"
      },
      "source": [
        "Here,\n",
        "'company_name' represents the name of the company. We've applied binning and one-hot encoding to this column to reduce the number of unique values and transform it into a format suitable for modeling.\n",
        "\n",
        "'status_label', the target variable of the data set.\n",
        "\n",
        "'year', the column to split the data into training, test and verification sets.\n",
        "\n",
        "'X1' - 'X18', the 18 predictor variables."
      ]
    },
    {
      "cell_type": "code",
      "execution_count": 12,
      "metadata": {
        "id": "7i_thkFNYg0q"
      },
      "outputs": [],
      "source": [
        "# Split our preprocessed data into our features and target arrays\n",
        "X = bankruptcy_df.drop(columns='status_label', axis=1)\n",
        "y = bankruptcy_df[\"status_label\"]\n",
        "\n",
        "# Split the preprocessed data into a training and testing dataset\n",
        "X_train, X_test, y_train, y_test = train_test_split(X, y, test_size=0.2, random_state=42)\n"
      ]
    },
    {
      "cell_type": "code",
      "execution_count": 13,
      "metadata": {
        "id": "e9-eYMRmYg3P"
      },
      "outputs": [],
      "source": [
        "# Create a StandardScaler instances\n",
        "scaler = StandardScaler()\n",
        "\n",
        "# Fit the StandardScaler\n",
        "X_scaler = scaler.fit(X_train)\n",
        "\n",
        "# Scale the data\n",
        "X_train_scaled = X_scaler.transform(X_train)\n",
        "X_test_scaled = X_scaler.transform(X_test)"
      ]
    },
    {
      "cell_type": "markdown",
      "metadata": {
        "id": "cwo8HiWAgk4Q"
      },
      "source": [
        "# Compile, Train and Evaluate the Model"
      ]
    },
    {
      "cell_type": "code",
      "execution_count": null,
      "metadata": {
        "colab": {
          "base_uri": "https://localhost:8080/"
        },
        "id": "9k8ciAyBYg8k",
        "outputId": "6e60a490-5db7-4117-8a33-a95440996c7f"
      },
      "outputs": [
        {
          "name": "stdout",
          "output_type": "stream",
          "text": [
            "Model: \"sequential_1\"\n",
            "_________________________________________________________________\n",
            " Layer (type)                Output Shape              Param #   \n",
            "=================================================================\n",
            " dense_5 (Dense)             (None, 128)               2688      \n",
            "                                                                 \n",
            " dense_6 (Dense)             (None, 64)                8256      \n",
            "                                                                 \n",
            " dense_7 (Dense)             (None, 32)                2080      \n",
            "                                                                 \n",
            " dense_8 (Dense)             (None, 16)                528       \n",
            "                                                                 \n",
            " dense_9 (Dense)             (None, 1)                 17        \n",
            "                                                                 \n",
            "=================================================================\n",
            "Total params: 13569 (53.00 KB)\n",
            "Trainable params: 13569 (53.00 KB)\n",
            "Non-trainable params: 0 (0.00 Byte)\n",
            "_________________________________________________________________\n"
          ]
        }
      ],
      "source": [
        "# Define the model - deep neural net, i.e., the number of input features and hidden nodes for each layer.\n",
        "\n",
        "# Create a sequential model\n",
        "nn = tf.keras.models.Sequential()\n",
        "\n",
        "# Input Layer\n",
        "nn.add(tf.keras.layers.Dense(units=128, activation='relu', input_dim=X_train_scaled.shape[1]))\n",
        "\n",
        "# First Hidden Layer\n",
        "nn.add(tf.keras.layers.Dense(units=64, activation='relu'))\n",
        "\n",
        "# Second Hidden Layer\n",
        "nn.add(tf.keras.layers.Dense(units=32, activation='relu'))\n",
        "\n",
        "# Third Hidden layer\n",
        "nn.add(tf.keras.layers.Dense(units=16, activation='relu'))\n",
        "\n",
        "# Output Layer\n",
        "nn.add(tf.keras.layers.Dense(units=1, activation='sigmoid'))\n",
        "\n",
        "# Check the structure of the model\n",
        "nn.summary()\n"
      ]
    },
    {
      "cell_type": "code",
      "execution_count": null,
      "metadata": {
        "id": "XjgtdNeig7nj"
      },
      "outputs": [],
      "source": [
        "# Compile the model\n",
        "nn.compile(loss='binary_crossentropy', optimizer='adam', metrics=['accuracy'])"
      ]
    },
    {
      "cell_type": "code",
      "execution_count": null,
      "metadata": {
        "colab": {
          "base_uri": "https://localhost:8080/"
        },
        "id": "4DXlAugxjBt1",
        "outputId": "bee154de-7483-4db8-cf97-79cf92f97759"
      },
      "outputs": [
        {
          "name": "stdout",
          "output_type": "stream",
          "text": [
            "Epoch 1/100\n",
            "1672/1672 [==============================] - 1s 666us/step - loss: 0.2365 - accuracy: 0.9325 - val_loss: 0.2277 - val_accuracy: 0.9324\n",
            "Epoch 2/100\n",
            "1672/1672 [==============================] - 1s 624us/step - loss: 0.2245 - accuracy: 0.9344 - val_loss: 0.2265 - val_accuracy: 0.9326\n",
            "Epoch 3/100\n",
            "1672/1672 [==============================] - 1s 624us/step - loss: 0.2223 - accuracy: 0.9344 - val_loss: 0.2233 - val_accuracy: 0.9331\n",
            "Epoch 4/100\n",
            "1672/1672 [==============================] - 1s 627us/step - loss: 0.2200 - accuracy: 0.9350 - val_loss: 0.2220 - val_accuracy: 0.9326\n",
            "Epoch 5/100\n",
            "1672/1672 [==============================] - 1s 626us/step - loss: 0.2180 - accuracy: 0.9352 - val_loss: 0.2220 - val_accuracy: 0.9330\n",
            "Epoch 6/100\n",
            "1672/1672 [==============================] - 1s 624us/step - loss: 0.2165 - accuracy: 0.9349 - val_loss: 0.2229 - val_accuracy: 0.9334\n",
            "Epoch 7/100\n",
            "1672/1672 [==============================] - 1s 626us/step - loss: 0.2149 - accuracy: 0.9358 - val_loss: 0.2196 - val_accuracy: 0.9333\n",
            "Epoch 8/100\n",
            "1672/1672 [==============================] - 1s 627us/step - loss: 0.2137 - accuracy: 0.9356 - val_loss: 0.2208 - val_accuracy: 0.9330\n",
            "Epoch 9/100\n",
            "1672/1672 [==============================] - 1s 628us/step - loss: 0.2120 - accuracy: 0.9360 - val_loss: 0.2201 - val_accuracy: 0.9334\n",
            "Epoch 10/100\n",
            "1672/1672 [==============================] - 1s 627us/step - loss: 0.2102 - accuracy: 0.9365 - val_loss: 0.2159 - val_accuracy: 0.9332\n",
            "Epoch 11/100\n",
            "1672/1672 [==============================] - 1s 627us/step - loss: 0.2097 - accuracy: 0.9367 - val_loss: 0.2162 - val_accuracy: 0.9340\n",
            "Epoch 12/100\n",
            "1672/1672 [==============================] - 1s 627us/step - loss: 0.2078 - accuracy: 0.9373 - val_loss: 0.2178 - val_accuracy: 0.9332\n",
            "Epoch 13/100\n",
            "1672/1672 [==============================] - 1s 635us/step - loss: 0.2066 - accuracy: 0.9375 - val_loss: 0.2199 - val_accuracy: 0.9330\n",
            "Epoch 14/100\n",
            "1672/1672 [==============================] - 1s 627us/step - loss: 0.2056 - accuracy: 0.9375 - val_loss: 0.2261 - val_accuracy: 0.9317\n",
            "Epoch 15/100\n",
            "1672/1672 [==============================] - 1s 628us/step - loss: 0.2042 - accuracy: 0.9381 - val_loss: 0.2152 - val_accuracy: 0.9342\n",
            "Epoch 16/100\n",
            "1672/1672 [==============================] - 1s 627us/step - loss: 0.2031 - accuracy: 0.9381 - val_loss: 0.2170 - val_accuracy: 0.9339\n",
            "Epoch 17/100\n",
            "1672/1672 [==============================] - 1s 629us/step - loss: 0.2023 - accuracy: 0.9383 - val_loss: 0.2166 - val_accuracy: 0.9334\n",
            "Epoch 18/100\n",
            "1672/1672 [==============================] - 1s 628us/step - loss: 0.2015 - accuracy: 0.9388 - val_loss: 0.2173 - val_accuracy: 0.9336\n",
            "Epoch 19/100\n",
            "1672/1672 [==============================] - 1s 628us/step - loss: 0.2004 - accuracy: 0.9394 - val_loss: 0.2143 - val_accuracy: 0.9350\n",
            "Epoch 20/100\n",
            "1672/1672 [==============================] - 1s 630us/step - loss: 0.1985 - accuracy: 0.9395 - val_loss: 0.2139 - val_accuracy: 0.9348\n",
            "Epoch 21/100\n",
            "1672/1672 [==============================] - 1s 627us/step - loss: 0.1972 - accuracy: 0.9396 - val_loss: 0.2121 - val_accuracy: 0.9347\n",
            "Epoch 22/100\n",
            "1672/1672 [==============================] - 1s 626us/step - loss: 0.1964 - accuracy: 0.9405 - val_loss: 0.2164 - val_accuracy: 0.9348\n",
            "Epoch 23/100\n",
            "1672/1672 [==============================] - 1s 631us/step - loss: 0.1960 - accuracy: 0.9405 - val_loss: 0.2152 - val_accuracy: 0.9334\n",
            "Epoch 24/100\n",
            "1672/1672 [==============================] - 1s 631us/step - loss: 0.1955 - accuracy: 0.9406 - val_loss: 0.2120 - val_accuracy: 0.9355\n",
            "Epoch 25/100\n",
            "1672/1672 [==============================] - 1s 632us/step - loss: 0.1937 - accuracy: 0.9412 - val_loss: 0.2133 - val_accuracy: 0.9359\n",
            "Epoch 26/100\n",
            "1672/1672 [==============================] - 1s 629us/step - loss: 0.1924 - accuracy: 0.9413 - val_loss: 0.2167 - val_accuracy: 0.9341\n",
            "Epoch 27/100\n",
            "1672/1672 [==============================] - 1s 631us/step - loss: 0.1928 - accuracy: 0.9413 - val_loss: 0.2110 - val_accuracy: 0.9358\n",
            "Epoch 28/100\n",
            "1672/1672 [==============================] - 1s 633us/step - loss: 0.1908 - accuracy: 0.9416 - val_loss: 0.2123 - val_accuracy: 0.9355\n",
            "Epoch 29/100\n",
            "1672/1672 [==============================] - 1s 649us/step - loss: 0.1909 - accuracy: 0.9416 - val_loss: 0.2119 - val_accuracy: 0.9353\n",
            "Epoch 30/100\n",
            "1672/1672 [==============================] - 1s 645us/step - loss: 0.1901 - accuracy: 0.9416 - val_loss: 0.2119 - val_accuracy: 0.9355\n",
            "Epoch 31/100\n",
            "1672/1672 [==============================] - 2s 1ms/step - loss: 0.1891 - accuracy: 0.9419 - val_loss: 0.2104 - val_accuracy: 0.9362\n",
            "Epoch 32/100\n",
            "1672/1672 [==============================] - 1s 653us/step - loss: 0.1875 - accuracy: 0.9430 - val_loss: 0.2159 - val_accuracy: 0.9359\n",
            "Epoch 33/100\n",
            "1672/1672 [==============================] - 1s 638us/step - loss: 0.1875 - accuracy: 0.9428 - val_loss: 0.2136 - val_accuracy: 0.9361\n",
            "Epoch 34/100\n",
            "1672/1672 [==============================] - 1s 636us/step - loss: 0.1874 - accuracy: 0.9429 - val_loss: 0.2156 - val_accuracy: 0.9349\n",
            "Epoch 35/100\n",
            "1672/1672 [==============================] - 1s 634us/step - loss: 0.1849 - accuracy: 0.9431 - val_loss: 0.2108 - val_accuracy: 0.9369\n",
            "Epoch 36/100\n",
            "1672/1672 [==============================] - 1s 636us/step - loss: 0.1852 - accuracy: 0.9430 - val_loss: 0.2160 - val_accuracy: 0.9369\n",
            "Epoch 37/100\n",
            "1672/1672 [==============================] - 1s 635us/step - loss: 0.1838 - accuracy: 0.9438 - val_loss: 0.2219 - val_accuracy: 0.9329\n",
            "Epoch 38/100\n",
            "1672/1672 [==============================] - 1s 636us/step - loss: 0.1851 - accuracy: 0.9432 - val_loss: 0.2110 - val_accuracy: 0.9356\n",
            "Epoch 39/100\n",
            "1672/1672 [==============================] - 1s 639us/step - loss: 0.1823 - accuracy: 0.9441 - val_loss: 0.2185 - val_accuracy: 0.9358\n",
            "Epoch 40/100\n",
            "1672/1672 [==============================] - 1s 636us/step - loss: 0.1836 - accuracy: 0.9440 - val_loss: 0.2196 - val_accuracy: 0.9378\n",
            "Epoch 41/100\n",
            "1672/1672 [==============================] - 1s 635us/step - loss: 0.1819 - accuracy: 0.9442 - val_loss: 0.2179 - val_accuracy: 0.9351\n",
            "Epoch 42/100\n",
            "1672/1672 [==============================] - 1s 636us/step - loss: 0.1815 - accuracy: 0.9445 - val_loss: 0.2208 - val_accuracy: 0.9356\n",
            "Epoch 43/100\n",
            "1672/1672 [==============================] - 1s 636us/step - loss: 0.1805 - accuracy: 0.9444 - val_loss: 0.2240 - val_accuracy: 0.9368\n",
            "Epoch 44/100\n",
            "1672/1672 [==============================] - 1s 637us/step - loss: 0.1799 - accuracy: 0.9449 - val_loss: 0.2276 - val_accuracy: 0.9353\n",
            "Epoch 45/100\n",
            "1672/1672 [==============================] - 1s 635us/step - loss: 0.1800 - accuracy: 0.9448 - val_loss: 0.2114 - val_accuracy: 0.9375\n",
            "Epoch 46/100\n",
            "1672/1672 [==============================] - 1s 635us/step - loss: 0.1794 - accuracy: 0.9448 - val_loss: 0.2153 - val_accuracy: 0.9368\n",
            "Epoch 47/100\n",
            "1672/1672 [==============================] - 1s 635us/step - loss: 0.1780 - accuracy: 0.9459 - val_loss: 0.2237 - val_accuracy: 0.9366\n",
            "Epoch 48/100\n",
            "1672/1672 [==============================] - 1s 635us/step - loss: 0.1787 - accuracy: 0.9455 - val_loss: 0.2158 - val_accuracy: 0.9367\n",
            "Epoch 49/100\n",
            "1672/1672 [==============================] - 1s 635us/step - loss: 0.1782 - accuracy: 0.9454 - val_loss: 0.2235 - val_accuracy: 0.9366\n",
            "Epoch 50/100\n",
            "1672/1672 [==============================] - 1s 635us/step - loss: 0.1772 - accuracy: 0.9457 - val_loss: 0.2207 - val_accuracy: 0.9373\n",
            "Epoch 51/100\n",
            "1672/1672 [==============================] - 1s 634us/step - loss: 0.1758 - accuracy: 0.9459 - val_loss: 0.2213 - val_accuracy: 0.9370\n",
            "Epoch 52/100\n",
            "1672/1672 [==============================] - 1s 633us/step - loss: 0.1749 - accuracy: 0.9465 - val_loss: 0.2243 - val_accuracy: 0.9375\n",
            "Epoch 53/100\n",
            "1672/1672 [==============================] - 1s 634us/step - loss: 0.1765 - accuracy: 0.9460 - val_loss: 0.2247 - val_accuracy: 0.9352\n",
            "Epoch 54/100\n",
            "1672/1672 [==============================] - 1s 628us/step - loss: 0.1762 - accuracy: 0.9461 - val_loss: 0.2314 - val_accuracy: 0.9367\n",
            "Epoch 55/100\n",
            "1672/1672 [==============================] - 1s 632us/step - loss: 0.1770 - accuracy: 0.9463 - val_loss: 0.2212 - val_accuracy: 0.9381\n",
            "Epoch 56/100\n"
          ]
        },
        {
          "name": "stdout",
          "output_type": "stream",
          "text": [
            "1672/1672 [==============================] - 1s 617us/step - loss: 0.1736 - accuracy: 0.9474 - val_loss: 0.2269 - val_accuracy: 0.9373\n",
            "Epoch 57/100\n",
            "1672/1672 [==============================] - 1s 616us/step - loss: 0.1732 - accuracy: 0.9466 - val_loss: 0.2296 - val_accuracy: 0.9360\n",
            "Epoch 58/100\n",
            "1672/1672 [==============================] - 1s 615us/step - loss: 0.1739 - accuracy: 0.9466 - val_loss: 0.2315 - val_accuracy: 0.9373\n",
            "Epoch 59/100\n",
            "1672/1672 [==============================] - 1s 615us/step - loss: 0.1726 - accuracy: 0.9469 - val_loss: 0.2312 - val_accuracy: 0.9375\n",
            "Epoch 60/100\n",
            "1672/1672 [==============================] - 1s 614us/step - loss: 0.1739 - accuracy: 0.9468 - val_loss: 0.2262 - val_accuracy: 0.9375\n",
            "Epoch 61/100\n",
            "1672/1672 [==============================] - 1s 612us/step - loss: 0.1723 - accuracy: 0.9473 - val_loss: 0.2312 - val_accuracy: 0.9360\n",
            "Epoch 62/100\n",
            "1672/1672 [==============================] - 1s 613us/step - loss: 0.1716 - accuracy: 0.9477 - val_loss: 0.2425 - val_accuracy: 0.9374\n",
            "Epoch 63/100\n",
            "1672/1672 [==============================] - 1s 613us/step - loss: 0.1761 - accuracy: 0.9472 - val_loss: 0.2196 - val_accuracy: 0.9367\n",
            "Epoch 64/100\n",
            "1672/1672 [==============================] - 1s 610us/step - loss: 0.1709 - accuracy: 0.9476 - val_loss: 0.2200 - val_accuracy: 0.9380\n",
            "Epoch 65/100\n",
            "1672/1672 [==============================] - 1s 610us/step - loss: 0.1711 - accuracy: 0.9476 - val_loss: 0.2364 - val_accuracy: 0.9370\n",
            "Epoch 66/100\n",
            "1672/1672 [==============================] - 1s 604us/step - loss: 0.1701 - accuracy: 0.9480 - val_loss: 0.2342 - val_accuracy: 0.9377\n",
            "Epoch 67/100\n",
            "1672/1672 [==============================] - 1s 605us/step - loss: 0.1709 - accuracy: 0.9479 - val_loss: 0.2234 - val_accuracy: 0.9374\n",
            "Epoch 68/100\n",
            "1672/1672 [==============================] - 1s 607us/step - loss: 0.1705 - accuracy: 0.9477 - val_loss: 0.2240 - val_accuracy: 0.9369\n",
            "Epoch 69/100\n",
            "1672/1672 [==============================] - 1s 606us/step - loss: 0.1692 - accuracy: 0.9481 - val_loss: 0.2289 - val_accuracy: 0.9366\n",
            "Epoch 70/100\n",
            "1672/1672 [==============================] - 1s 606us/step - loss: 0.1703 - accuracy: 0.9481 - val_loss: 0.2332 - val_accuracy: 0.9363\n",
            "Epoch 71/100\n",
            "1672/1672 [==============================] - 1s 608us/step - loss: 0.1697 - accuracy: 0.9484 - val_loss: 0.2317 - val_accuracy: 0.9369\n",
            "Epoch 72/100\n",
            "1672/1672 [==============================] - 1s 607us/step - loss: 0.1678 - accuracy: 0.9485 - val_loss: 0.2240 - val_accuracy: 0.9354\n",
            "Epoch 73/100\n",
            "1672/1672 [==============================] - 1s 607us/step - loss: 0.1675 - accuracy: 0.9486 - val_loss: 0.2407 - val_accuracy: 0.9352\n",
            "Epoch 74/100\n",
            "1672/1672 [==============================] - 1s 608us/step - loss: 0.1683 - accuracy: 0.9485 - val_loss: 0.2323 - val_accuracy: 0.9381\n",
            "Epoch 75/100\n",
            "1672/1672 [==============================] - 1s 607us/step - loss: 0.1677 - accuracy: 0.9488 - val_loss: 0.2304 - val_accuracy: 0.9381\n",
            "Epoch 76/100\n",
            "1672/1672 [==============================] - 1s 607us/step - loss: 0.1671 - accuracy: 0.9485 - val_loss: 0.2257 - val_accuracy: 0.9365\n",
            "Epoch 77/100\n",
            "1672/1672 [==============================] - 1s 608us/step - loss: 0.1683 - accuracy: 0.9487 - val_loss: 0.2325 - val_accuracy: 0.9389\n",
            "Epoch 78/100\n",
            "1672/1672 [==============================] - 1s 605us/step - loss: 0.1674 - accuracy: 0.9486 - val_loss: 0.2326 - val_accuracy: 0.9352\n",
            "Epoch 79/100\n",
            "1672/1672 [==============================] - 1s 608us/step - loss: 0.1650 - accuracy: 0.9495 - val_loss: 0.2311 - val_accuracy: 0.9373\n",
            "Epoch 80/100\n",
            "1672/1672 [==============================] - 1s 604us/step - loss: 0.1663 - accuracy: 0.9491 - val_loss: 0.2415 - val_accuracy: 0.9370\n",
            "Epoch 81/100\n",
            "1672/1672 [==============================] - 1s 609us/step - loss: 0.1652 - accuracy: 0.9495 - val_loss: 0.2378 - val_accuracy: 0.9385\n",
            "Epoch 82/100\n",
            "1672/1672 [==============================] - 1s 608us/step - loss: 0.1662 - accuracy: 0.9490 - val_loss: 0.2396 - val_accuracy: 0.9374\n",
            "Epoch 83/100\n",
            "1672/1672 [==============================] - 1s 609us/step - loss: 0.1648 - accuracy: 0.9498 - val_loss: 0.2342 - val_accuracy: 0.9392\n",
            "Epoch 84/100\n",
            "1672/1672 [==============================] - 1s 611us/step - loss: 0.1661 - accuracy: 0.9495 - val_loss: 0.2394 - val_accuracy: 0.9366\n",
            "Epoch 85/100\n",
            "1672/1672 [==============================] - 1s 610us/step - loss: 0.1687 - accuracy: 0.9495 - val_loss: 0.2416 - val_accuracy: 0.9370\n",
            "Epoch 86/100\n",
            "1672/1672 [==============================] - 1s 614us/step - loss: 0.1649 - accuracy: 0.9496 - val_loss: 0.2398 - val_accuracy: 0.9385\n",
            "Epoch 87/100\n",
            "1672/1672 [==============================] - 1s 616us/step - loss: 0.1659 - accuracy: 0.9498 - val_loss: 0.2353 - val_accuracy: 0.9375\n",
            "Epoch 88/100\n",
            "1672/1672 [==============================] - 1s 616us/step - loss: 0.1650 - accuracy: 0.9493 - val_loss: 0.2314 - val_accuracy: 0.9372\n",
            "Epoch 89/100\n",
            "1672/1672 [==============================] - 1s 616us/step - loss: 0.1625 - accuracy: 0.9505 - val_loss: 0.2423 - val_accuracy: 0.9371\n",
            "Epoch 90/100\n",
            "1672/1672 [==============================] - 1s 615us/step - loss: 0.1636 - accuracy: 0.9499 - val_loss: 0.2444 - val_accuracy: 0.9390\n",
            "Epoch 91/100\n",
            "1672/1672 [==============================] - 1s 618us/step - loss: 0.1682 - accuracy: 0.9488 - val_loss: 0.2375 - val_accuracy: 0.9381\n",
            "Epoch 92/100\n",
            "1672/1672 [==============================] - 1s 617us/step - loss: 0.1648 - accuracy: 0.9496 - val_loss: 0.2437 - val_accuracy: 0.9368\n",
            "Epoch 93/100\n",
            "1672/1672 [==============================] - 1s 617us/step - loss: 0.1624 - accuracy: 0.9504 - val_loss: 0.2373 - val_accuracy: 0.9373\n",
            "Epoch 94/100\n",
            "1672/1672 [==============================] - 1s 618us/step - loss: 0.1613 - accuracy: 0.9508 - val_loss: 0.2370 - val_accuracy: 0.9374\n",
            "Epoch 95/100\n",
            "1672/1672 [==============================] - 1s 619us/step - loss: 0.1628 - accuracy: 0.9505 - val_loss: 0.2387 - val_accuracy: 0.9376\n",
            "Epoch 96/100\n",
            "1672/1672 [==============================] - 1s 619us/step - loss: 0.1646 - accuracy: 0.9499 - val_loss: 0.2473 - val_accuracy: 0.9379\n",
            "Epoch 97/100\n",
            "1672/1672 [==============================] - 1s 619us/step - loss: 0.1615 - accuracy: 0.9504 - val_loss: 0.2523 - val_accuracy: 0.9386\n",
            "Epoch 98/100\n",
            "1672/1672 [==============================] - 1s 620us/step - loss: 0.1628 - accuracy: 0.9504 - val_loss: 0.2499 - val_accuracy: 0.9352\n",
            "Epoch 99/100\n",
            "1672/1672 [==============================] - 1s 618us/step - loss: 0.1612 - accuracy: 0.9506 - val_loss: 0.2400 - val_accuracy: 0.9372\n",
            "Epoch 100/100\n",
            "1672/1672 [==============================] - 1s 620us/step - loss: 0.1618 - accuracy: 0.9502 - val_loss: 0.2457 - val_accuracy: 0.9385\n"
          ]
        }
      ],
      "source": [
        "# Train the model\n",
        "fit_model = nn.fit(X_train_scaled,y_train,validation_split=0.15, epochs=100)"
      ]
    },
    {
      "cell_type": "code",
      "execution_count": null,
      "metadata": {
        "colab": {
          "base_uri": "https://localhost:8080/"
        },
        "id": "A1mxydRLjBxi",
        "outputId": "77712af3-3c6d-42b6-8c5e-b403e613d218"
      },
      "outputs": [
        {
          "name": "stdout",
          "output_type": "stream",
          "text": [
            "492/492 - 0s - loss: 0.2610 - accuracy: 0.9363 - 168ms/epoch - 342us/step\n",
            "Loss: 0.2610222101211548, Accuracy: 0.9362648725509644\n"
          ]
        }
      ],
      "source": [
        "# Evaluate the model using the test data\n",
        "model_loss, model_accuracy = nn.evaluate(X_test_scaled,y_test,verbose=2)\n",
        "print(f\"Loss: {model_loss}, Accuracy: {model_accuracy}\")"
      ]
    },
    {
      "cell_type": "code",
      "execution_count": null,
      "metadata": {
        "colab": {
          "base_uri": "https://localhost:8080/",
          "height": 73
        },
        "id": "g9L6BwyKjB29",
        "outputId": "6d23e302-d556-464d-ce56-247eb50e70ea"
      },
      "outputs": [
        {
          "name": "stderr",
          "output_type": "stream",
          "text": [
            "/usr/local/lib/python3.10/dist-packages/keras/src/engine/training.py:3000: UserWarning: You are saving your model as an HDF5 file via `model.save()`. This file format is considered legacy. We recommend using instead the native Keras format, e.g. `model.save('my_model.keras')`.\n",
            "  saving_api.save_model(\n"
          ]
        },
        {
          "data": {
            "application/javascript": [
              "\n",
              "    async function download(id, filename, size) {\n",
              "      if (!google.colab.kernel.accessAllowed) {\n",
              "        return;\n",
              "      }\n",
              "      const div = document.createElement('div');\n",
              "      const label = document.createElement('label');\n",
              "      label.textContent = `Downloading \"${filename}\": `;\n",
              "      div.appendChild(label);\n",
              "      const progress = document.createElement('progress');\n",
              "      progress.max = size;\n",
              "      div.appendChild(progress);\n",
              "      document.body.appendChild(div);\n",
              "\n",
              "      const buffers = [];\n",
              "      let downloaded = 0;\n",
              "\n",
              "      const channel = await google.colab.kernel.comms.open(id);\n",
              "      // Send a message to notify the kernel that we're ready.\n",
              "      channel.send({})\n",
              "\n",
              "      for await (const message of channel.messages) {\n",
              "        // Send a message to notify the kernel that we're ready.\n",
              "        channel.send({})\n",
              "        if (message.buffers) {\n",
              "          for (const buffer of message.buffers) {\n",
              "            buffers.push(buffer);\n",
              "            downloaded += buffer.byteLength;\n",
              "            progress.value = downloaded;\n",
              "          }\n",
              "        }\n",
              "      }\n",
              "      const blob = new Blob(buffers, {type: 'application/binary'});\n",
              "      const a = document.createElement('a');\n",
              "      a.href = window.URL.createObjectURL(blob);\n",
              "      a.download = filename;\n",
              "      div.appendChild(a);\n",
              "      a.click();\n",
              "      div.remove();\n",
              "    }\n",
              "  "
            ],
            "text/plain": [
              "<IPython.core.display.Javascript object>"
            ]
          },
          "metadata": {},
          "output_type": "display_data"
        },
        {
          "data": {
            "application/javascript": [
              "download(\"download_4c3da1e1-46ca-47da-8d90-f7cb38c27eeb\", \"american_company_bankruptcy.h5\", 210672)"
            ],
            "text/plain": [
              "<IPython.core.display.Javascript object>"
            ]
          },
          "metadata": {},
          "output_type": "display_data"
        }
      ],
      "source": [
        "# Save and export the results to an HDF5 file\n",
        "# Export model to HDF5 File\n",
        "\n",
        "from google.colab import files\n",
        "\n",
        "nn.save('/content/american_company_bankruptcy.h5')\n",
        "files.download('/content/american_company_bankruptcy.h5')\n"
      ]
    },
    {
      "cell_type": "markdown",
      "metadata": {
        "id": "9GNvBCA2n54h"
      },
      "source": [
        "# Predicting Non-Bankrupt Companies Analysis:\n",
        "\n",
        "**Overview of the Analysis:**\n",
        "\n",
        "The primary goal of this analysis is to create a robust model capable of identifying companies that are not at risk of bankruptcy. We will achieve this by utilizing a range of financial metrics and attributes, harnessing deep learning techniques. This model will empower stakeholders to assess the financial stability of companies and make informed decisions.\n",
        "\n",
        "#### Results:\n",
        "**Data Preprocessing:**\n",
        "\n",
        "**Target Variable(s) for the Model:**\n",
        "\n",
        "**status_label:** This binary variable indicates whether a company is 'alive' or 'failed'.\n",
        "\n",
        "**Features for the Model:**\n",
        "\n",
        "Financial metrics such as:\n",
        "\n",
        "- Current assets (X1)\n",
        "\n",
        "- Cost of goods sold (X2)\n",
        "\n",
        "- Depreciation and amortization (X3)\n",
        "\n",
        "- EBITDA (X4)\n",
        "\n",
        "- Inventory (X5)\n",
        "\n",
        "- Net Income (X6)\n",
        "\n",
        "- Total Receivables (X7)\n",
        "\n",
        "- Market value (X8)\n",
        "\n",
        "- Net sales (X9)\n",
        "\n",
        "- Total assets (X10)\n",
        "\n",
        "- Total Long-term debt (X11)\n",
        "\n",
        "- EBIT (X12)\n",
        "\n",
        "- Total Current Liabilities (X13)\n",
        "\n",
        "- Retained Earnings (X14)\n",
        "\n",
        "- Total Revenue (X15)\n",
        "\n",
        "- Total Liabilities (X16)\n",
        "\n",
        "- Total Operating Expenses (X18).\n",
        "\n",
        "**One-hot encoded \"company_name\".**\n",
        "\n",
        "**Variables to be Removed:**\n",
        "\n",
        "The original **\"company_name\"** column, as it was transformed into a one-hot encoded format.\n",
        "\n",
        "**Compiling, Training, and Evaluating the Model:**\n",
        "\n",
        "**Neural Network Architecture:**\n",
        "Number of Layers: 5 (1 Input, 3 Hidden, 1 Output)\n",
        "\n",
        "**Neurons:**\n",
        "\n",
        "- Input layer: 128 neurons\n",
        "\n",
        "- First hidden layer: 64 neurons\n",
        "\n",
        "- Second hidden layer: 32 neurons\n",
        "\n",
        "- Third hidden layer: 16 neurons\n",
        "\n",
        "- Output layer: 1 neuron\n",
        "\n",
        "**Activation Functions:**\n",
        "- 'relu' for input and hidden layers.\n",
        "- 'sigmoid' for the output layer.\n",
        "\n",
        "**Reason for Architecture Choice:**\n",
        "\n",
        "The choice of neurons and layers was based on the complexity of the dataset. The 'relu' activation function is commonly used in hidden layers because of its efficiency and non-linearity. The 'sigmoid' activation function is suitable for the binary classification task at hand.\n",
        "\n",
        "**Model Performance:**\n",
        "\n",
        "- Loss: 0.24375776946544647\n",
        "- Accuracy: 93.6%\n",
        "\n",
        "**Steps to Increase Model Performance:**\n",
        "\n",
        "The data was scaled using **StandardScaler**.\n",
        "One-hot encoding was applied to categorical variables.\n",
        "The dataset was split into training and testing subsets to evaluate model performance on unseen data.\n",
        "\n",
        "**Summary:**\n",
        "\n",
        "The deep learning model developed for predicting non-bankruptcy events has shown promising results, with an accuracy rate of approximately 93.6%. The model utilized various financial metrics as features and underwent preprocessing steps such as scaling and one-hot encoding for categorical variables.\n",
        "\n",
        "**Recommendations:**\n",
        "\n",
        "While our deep learning model has shown notable success, introducing ensemble techniques, such as Random Forest, Gradient Boosting could further enhance its accuracy. Ensemble methods often provide robust predictions by combining multiple models' outputs. Moreover, techniques like feature importance from ensemble methods can offer insights into which financial metrics are most predictive of not going bankrupt."
      ]
    },
    {
      "cell_type": "code",
      "execution_count": null,
      "metadata": {
        "colab": {
          "base_uri": "https://localhost:8080/"
        },
        "id": "v6DHSPntn6q7",
        "outputId": "0ac84882-fb32-4c6f-c50a-9e6cf3406ab4"
      },
      "outputs": [
        {
          "name": "stdout",
          "output_type": "stream",
          "text": [
            "\r",
            "0% [Working]\r",
            "            \r",
            "Get:1 http://security.ubuntu.com/ubuntu jammy-security InRelease [110 kB]\n",
            "\r",
            "0% [Connecting to archive.ubuntu.com] [1 InRelease 14.2 kB/110 kB 13%] [Connect\r",
            "                                                                               \r",
            "Hit:2 http://archive.ubuntu.com/ubuntu jammy InRelease\n",
            "\r",
            "0% [Waiting for headers] [1 InRelease 110 kB/110 kB 100%] [Waiting for headers]\r",
            "                                                                               \r",
            "Get:3 https://cloud.r-project.org/bin/linux/ubuntu jammy-cran40/ InRelease [3,626 B]\n",
            "\r",
            "                                                                               \r",
            "Hit:4 https://developer.download.nvidia.com/compute/cuda/repos/ubuntu2204/x86_64  InRelease\n",
            "Get:5 http://archive.ubuntu.com/ubuntu jammy-updates InRelease [119 kB]\n",
            "Get:6 http://archive.ubuntu.com/ubuntu jammy-backports InRelease [109 kB]\n",
            "Hit:7 https://ppa.launchpadcontent.net/c2d4u.team/c2d4u4.0+/ubuntu jammy InRelease\n",
            "Hit:8 https://ppa.launchpadcontent.net/deadsnakes/ppa/ubuntu jammy InRelease\n",
            "Get:9 http://archive.ubuntu.com/ubuntu jammy-updates/main amd64 Packages [1,347 kB]\n",
            "Get:10 http://archive.ubuntu.com/ubuntu jammy-updates/universe amd64 Packages [1,269 kB]\n",
            "Hit:11 https://ppa.launchpadcontent.net/graphics-drivers/ppa/ubuntu jammy InRelease\n",
            "Hit:12 https://ppa.launchpadcontent.net/ubuntugis/ppa/ubuntu jammy InRelease\n",
            "Fetched 2,958 kB in 2s (1,343 kB/s)\n",
            "Reading package lists... Done\n"
          ]
        }
      ],
      "source": [
        "import os\n",
        "# spark_version = 'spark-3.4.1'\n",
        "spark_version = 'spark-3.4.1'\n",
        "os.environ['SPARK_VERSION']=spark_version\n",
        "\n",
        "# Install Spark and Java\n",
        "!apt-get update\n",
        "!apt-get install openjdk-11-jdk-headless -qq > /dev/null\n",
        "!wget -q http://www.apache.org/dist/spark/$SPARK_VERSION/$SPARK_VERSION-bin-hadoop3.tgz\n",
        "!tar xf $SPARK_VERSION-bin-hadoop3.tgz\n",
        "!pip install -q findspark\n",
        "\n",
        "# Set Environment Variables\n",
        "os.environ[\"JAVA_HOME\"] = \"/usr/lib/jvm/java-11-openjdk-amd64\"\n",
        "os.environ[\"SPARK_HOME\"] = f\"/content/{spark_version}-bin-hadoop3\"\n",
        "\n",
        "# Start a SparkSession\n",
        "import findspark\n",
        "findspark.init()"
      ]
    },
    {
      "cell_type": "markdown",
      "metadata": {
        "id": "0FxTSFKJFAio"
      },
      "source": [
        "After assessing the model's accuracy, PySpark SQL was integrated to delve deeper into the main dataframe **bankruptcy_df**. The use of PySpark provides scalable and efficient data exploration, allowing for a thorough understanding of underlying trends and patterns. This PySpark SQL offered a platform to derive insights from the data, complementing the model's findings and potentially guiding further refinements."
      ]
    },
    {
      "cell_type": "code",
      "execution_count": null,
      "metadata": {
        "colab": {
          "base_uri": "https://localhost:8080/"
        },
        "id": "TjdqXs_loLUq",
        "outputId": "5f823a4c-58e8-47ea-b0a6-dbf786baa354"
      },
      "outputs": [
        {
          "name": "stdout",
          "output_type": "stream",
          "text": [
            "+------------+----+------------------+----------------------+---------------------------------+----------+-------------+--------------+---------------------+----------------+-------------+-----------------+-------------------------+---------+-----------------+------------------------------+----------------------+------------------+----------------------+-----------------------------+------------------+\n",
            "|status_label|year|current_assets(X1)|cost_of_goods_sold(X2)|depreciation_and_amortization(X3)|EBITDA(X4)|inventory(X5)|net_income(X6)|total_receivables(X7)|market_value(X8)|net_sales(X9)|total_assets(X10)|total_long_term_debt(X11)|EBIT(X12)|gross_profit(X13)|total_current_liabilities(X14)|retained_earnings(X15)|total_revenue(X16)|total_liabilities(X17)|total_operating_expenses(X18)|company_name_other|\n",
            "+------------+----+------------------+----------------------+---------------------------------+----------+-------------+--------------+---------------------+----------------+-------------+-----------------+-------------------------+---------+-----------------+------------------------------+----------------------+------------------+----------------------+-----------------------------+------------------+\n",
            "|           1|1999|           511.267|               833.107|                           18.373|    89.031|      336.018|        35.163|              128.348|        372.7519|     1024.333|          740.998|                  180.447|   70.658|          191.226|                       163.816|               201.026|          1024.333|               401.483|                      935.302|                 1|\n",
            "|           1|2000|           485.856|               713.811|                           18.577|    64.367|       320.59|        18.531|              115.187|         377.118|      874.255|          701.854|                  179.987|    45.79|          160.444|                       125.392|               204.065|           874.255|               361.642|                      809.888|                 1|\n",
            "|           1|2001|           436.656|               526.477|                           22.496|    27.207|      286.588|       -58.939|               77.528|        364.5928|      638.721|          710.199|                  217.699|    4.711|          112.244|                       150.464|               139.603|           638.721|               399.964|                      611.514|                 1|\n",
            "|           1|2002|           396.412|               496.747|                           27.172|    30.745|      259.954|        -12.41|               66.322|        143.3295|      606.337|          686.621|                  164.658|    3.573|           109.59|                       203.575|               124.106|           606.337|               391.633|                      575.592|                 1|\n",
            "|           1|2003|           432.204|               523.302|                            26.68|    47.491|      247.245|         3.504|              104.661|        308.9071|      651.958|          709.292|                  248.666|   20.811|          128.656|                       131.261|               131.884|           651.958|               407.608|                      604.467|                 1|\n",
            "|           1|2004|           474.542|               598.172|                            27.95|    61.774|      255.477|        15.453|              127.121|        522.6794|      747.848|           732.23|                  227.159|   33.824|          149.676|                       160.025|                142.45|           747.848|               417.486|                      686.074|                 1|\n",
            "|           1|2005|           624.454|               704.081|                           29.222|    91.877|      323.592|        35.163|              136.272|        882.6283|      897.284|          978.819|                  318.576|   62.655|          193.203|                       187.788|                183.55|           897.284|               556.102|                      805.407|                 1|\n",
            "|           1|2006|           645.721|               837.171|                           32.199|   118.907|      342.593|         58.66|              181.691|       1226.1925|     1061.169|         1067.633|                  253.611|   86.708|          223.998|                       256.506|               242.153|          1061.169|                573.39|                      942.262|                 1|\n",
            "|           1|2007|           783.431|              1080.895|                           39.952|   168.522|      435.608|        75.144|              202.472|        747.5434|     1384.919|          1362.01|                  507.918|   128.57|          304.024|                       218.499|               318.184|          1384.919|               776.755|                     1216.397|                 1|\n",
            "|           1|2008|           851.312|              1110.677|                           40.551|    166.08|      477.424|        78.651|                227.3|        571.5948|     1423.976|         1377.511|                  392.984|  125.529|          313.299|                       254.418|               385.851|          1423.976|               720.616|                     1257.896|                 1|\n",
            "|           1|2009|           863.429|              1065.902|                            38.93|   134.345|      496.904|        44.628|              238.466|        777.8348|     1352.151|         1501.042|                  336.191|   95.415|          286.249|                        325.55|               389.641|          1352.151|               754.692|                     1217.806|                 1|\n",
            "|           1|2010|           913.985|              1408.071|                           59.296|   196.312|      507.274|        69.826|              296.489|       1049.8206|     1775.782|         1703.727|                  329.802|  137.016|          367.711|                        416.01|               467.485|          1775.782|               868.438|                      1579.47|                 1|\n",
            "|           1|2011|          1063.272|              1662.408|                           80.333|   222.693|      599.752|        67.723|              324.879|        485.2897|     2074.498|         2195.653|                  669.489|   142.36|           412.09|                       473.226|               486.582|          2074.498|              1329.631|                     1851.805|                 1|\n",
            "|           1|2012|            1033.7|                1714.5|                            108.6|     245.2|        582.9|          55.0|                315.4|        790.0029|       2167.1|           2136.9|                    622.2|    136.6|            452.6|                         389.0|                 542.4|            2167.1|                1217.4|                       1921.9|                 1|\n",
            "|           1|2013|            1116.9|                1581.4|                            113.4|     256.0|        632.9|          72.9|                297.9|         961.308|       2035.0|           2199.5|                    564.3|    142.6|            453.6|                         402.1|                 616.7|            2035.0|                1198.8|                       1779.0|                 1|\n",
            "|           1|2014|             954.1|                1342.7|                             92.3|      83.7|        566.7|          10.2|                231.1|       1046.3954|       1594.3|           1515.0|                     85.0|     -8.6|            251.6|                         412.0|                 603.9|            1594.3|                 669.9|                       1510.6|                 1|\n",
            "|           1|2015|             873.1|                1354.9|                             70.8|     136.9|        563.7|          47.7|                242.7|        842.5112|       1662.6|           1442.1|                    136.1|     66.1|            307.7|                         329.0|                 637.2|            1662.6|                 576.3|                       1525.7|                 1|\n",
            "|           1|2016|             888.5|                1422.7|                             71.0|     148.2|        601.1|          56.5|                251.4|       1200.3288|       1767.6|           1504.1|                    155.3|     77.2|            344.9|                         335.1|                 688.0|            1767.6|                 589.9|                       1619.4|                 1|\n",
            "|           1|2017|             942.7|                1413.2|                             40.5|     126.5|        547.9|          15.6|                203.0|        1551.458|       1748.3|           1524.7|                    177.2|     86.0|            335.1|                         333.3|                 701.2|            1748.3|                 588.4|                       1621.8|                 1|\n",
            "|           1|1999|          1029.438|               930.142|                           102.09|   413.739|      243.882|        87.635|              436.751|       7161.3749|     1926.947|         1672.529|                   11.024|  311.649|          996.805|                       412.954|               827.489|          1926.947|               423.978|                     1513.208|                 1|\n",
            "+------------+----+------------------+----------------------+---------------------------------+----------+-------------+--------------+---------------------+----------------+-------------+-----------------+-------------------------+---------+-----------------+------------------------------+----------------------+------------------+----------------------+-----------------------------+------------------+\n",
            "only showing top 20 rows\n",
            "\n"
          ]
        }
      ],
      "source": [
        "# Import packages\n",
        "from pyspark.sql import SparkSession\n",
        "import time\n",
        "\n",
        "# Create a SparkSession\n",
        "spark = SparkSession.builder.appName(\"BankruptcyAnalysis\").getOrCreate()\n",
        "spark_df = spark.createDataFrame(bankruptcy_df)\n",
        "\n",
        "# Show DataFrame\n",
        "spark_df.show()\n"
      ]
    },
    {
      "cell_type": "code",
      "execution_count": null,
      "metadata": {
        "id": "Vo5I1uf5qHJO"
      },
      "outputs": [],
      "source": [
        "# Create a temporary view of the DataFrame.\n",
        "\n",
        "spark_df.createOrReplaceTempView('company_bankruptcy')"
      ]
    },
    {
      "cell_type": "code",
      "execution_count": null,
      "metadata": {
        "colab": {
          "base_uri": "https://localhost:8080/"
        },
        "id": "nOiaKFHuq24v",
        "outputId": "37edcddc-ac9d-4ed9-fcfb-a30159d0f9cf"
      },
      "outputs": [
        {
          "name": "stdout",
          "output_type": "stream",
          "text": [
            "+----+--------------------------+\n",
            "|year|num_bankruptcies_companies|\n",
            "+----+--------------------------+\n",
            "|1999|                       380|\n",
            "|2000|                       404|\n",
            "|2001|                       414|\n",
            "|2002|                       414|\n",
            "|2003|                       415|\n",
            "|2004|                       404|\n",
            "|2005|                       379|\n",
            "|2006|                       366|\n",
            "|2007|                       336|\n",
            "|2008|                       284|\n",
            "|2009|                       234|\n",
            "|2010|                       218|\n",
            "|2011|                       194|\n",
            "|2012|                       182|\n",
            "|2013|                       167|\n",
            "|2014|                       142|\n",
            "|2015|                       111|\n",
            "|2016|                        83|\n",
            "|2017|                        57|\n",
            "|2018|                        36|\n",
            "+----+--------------------------+\n",
            "\n"
          ]
        }
      ],
      "source": [
        "# How many companies go bankrupt  each year?\n",
        "\n",
        "spark.sql(\"\"\"SELECT year, COUNT(*) as num_bankruptcies_companies\n",
        "             FROM company_bankruptcy\n",
        "             WHERE status_label = 0\n",
        "             GROUP BY year\n",
        "             ORDER BY year\"\"\").show()\n"
      ]
    },
    {
      "cell_type": "code",
      "execution_count": null,
      "metadata": {
        "colab": {
          "base_uri": "https://localhost:8080/"
        },
        "id": "ohZfYPtqvO-P",
        "outputId": "5f29e1d8-3b6e-4313-87d5-82b3d7feb18b"
      },
      "outputs": [
        {
          "name": "stdout",
          "output_type": "stream",
          "text": [
            "+----+-------------------+\n",
            "|year|num_alive_companies|\n",
            "+----+-------------------+\n",
            "|1999|               4928|\n",
            "|2000|               4822|\n",
            "|2001|               4483|\n",
            "|2002|               4237|\n",
            "|2003|               4002|\n",
            "|2004|               3944|\n",
            "|2005|               3826|\n",
            "|2006|               3762|\n",
            "|2007|               3673|\n",
            "|2008|               3573|\n",
            "|2009|               3509|\n",
            "|2010|               3407|\n",
            "|2011|               3319|\n",
            "|2012|               3303|\n",
            "|2013|               3317|\n",
            "|2014|               3362|\n",
            "|2015|               3243|\n",
            "|2016|               3108|\n",
            "|2017|               2957|\n",
            "|2018|               2687|\n",
            "+----+-------------------+\n",
            "\n"
          ]
        }
      ],
      "source": [
        "# How many companies remain alive each year?\n",
        "\n",
        "spark.sql(\"\"\"SELECT year, COUNT(*) AS num_alive_companies\n",
        "             FROM company_bankruptcy\n",
        "             WHERE status_label = 1\n",
        "             GROUP BY year\n",
        "             ORDER BY year\"\"\").show()\n"
      ]
    },
    {
      "cell_type": "code",
      "execution_count": null,
      "metadata": {
        "colab": {
          "base_uri": "https://localhost:8080/"
        },
        "id": "F1_Z2idivPGR",
        "outputId": "9df7a1ed-4354-472e-d226-10145086d364"
      },
      "outputs": [
        {
          "name": "stdout",
          "output_type": "stream",
          "text": [
            "+----+----------------+\n",
            "|year|num_bankruptcies|\n",
            "+----+----------------+\n",
            "|2003|             415|\n",
            "|2002|             414|\n",
            "|2001|             414|\n",
            "|2004|             404|\n",
            "|2000|             404|\n",
            "|1999|             380|\n",
            "|2005|             379|\n",
            "|2006|             366|\n",
            "|2007|             336|\n",
            "|2008|             284|\n",
            "|2009|             234|\n",
            "|2010|             218|\n",
            "|2011|             194|\n",
            "|2012|             182|\n",
            "|2013|             167|\n",
            "+----+----------------+\n",
            "\n"
          ]
        }
      ],
      "source": [
        "# Which year had the highest number of bankruptcies?\n",
        "\n",
        "spark.sql(\"\"\"SELECT year, COUNT(*) as num_bankruptcies\n",
        "             FROM company_bankruptcy\n",
        "             WHERE status_label = 0\n",
        "             GROUP BY year\n",
        "             ORDER BY num_bankruptcies DESC\n",
        "             LIMIT 15\"\"\").show()"
      ]
    },
    {
      "cell_type": "code",
      "execution_count": null,
      "metadata": {
        "colab": {
          "base_uri": "https://localhost:8080/"
        },
        "id": "g2wgRPrBvPJK",
        "outputId": "3ff39268-c813-4e8c-8a21-17bf44552a29"
      },
      "outputs": [
        {
          "name": "stdout",
          "output_type": "stream",
          "text": [
            "+-----------------+------------------+------------------+-----------------+-----------------+------------------+------------------+------------------+-----------------+-----------------+-----------------+-----------------+-----------------+-----------------+-----------------+-----------------+------------------+------------------+\n",
            "|           avg_X1|            avg_X2|            avg_X3|           avg_X4|           avg_X5|            avg_X6|            avg_X7|            avg_X8|           avg_X9|          avg_X10|          avg_X11|          avg_X12|          avg_X13|          avg_X14|          avg_X15|          avg_X16|           avg_X17|           avg_X18|\n",
            "+-----------------+------------------+------------------+-----------------+-----------------+------------------+------------------+------------------+-----------------+-----------------+-----------------+-----------------+-----------------+-----------------+-----------------+-----------------+------------------+------------------+\n",
            "|914.5426150798992|1646.9825630393852|123.74636357572612|393.6845858402984|208.5601020255357|141.99472572214026|297.79454660913393|3596.0151573521284|2447.871580967011|2952.555390746219|730.5169838147644|269.9380795921704|800.8891312651391|628.7487938662204|582.0347096594163|2447.871580967011|1809.5719736054052|2054.1870219977723|\n",
            "+-----------------+------------------+------------------+-----------------+-----------------+------------------+------------------+------------------+-----------------+-----------------+-----------------+-----------------+-----------------+-----------------+-----------------+-----------------+------------------+------------------+\n",
            "\n"
          ]
        }
      ],
      "source": [
        "# What's the average value of each predictor variable (X1 - X18) for \"alive\" companies?\n",
        "spark.sql(\"\"\"SELECT\n",
        "    AVG(`current_assets(X1)`) as avg_X1,\n",
        "    AVG(`cost_of_goods_sold(X2)`) as avg_X2,\n",
        "    AVG(`depreciation_and_amortization(X3)`) as avg_X3,\n",
        "    AVG(`EBITDA(X4)`) as avg_X4,\n",
        "    AVG(`inventory(X5)`) as avg_X5,\n",
        "    AVG(`net_income(X6)`) as avg_X6,\n",
        "    AVG(`total_receivables(X7)`) as avg_X7,\n",
        "    AVG(`market_value(X8)`) as avg_X8,\n",
        "    AVG(`net_sales(X9)`) as avg_X9,\n",
        "    AVG(`total_assets(X10)`) as avg_X10,\n",
        "    AVG(`total_long_term_debt(X11)`) as avg_X11,\n",
        "    AVG(`EBIT(X12)`) as avg_X12,\n",
        "    AVG(`gross_profit(X13)`) as avg_X13,\n",
        "    AVG(`total_current_liabilities(X14)`) as avg_X14,\n",
        "    AVG(`retained_earnings(X15)`) as avg_X15,\n",
        "    AVG(`total_revenue(X16)`) as avg_X16,\n",
        "    AVG(`total_liabilities(X17)`) as avg_X17,\n",
        "    AVG(`total_operating_expenses(X18)`) as avg_X18\n",
        "FROM company_bankruptcy\n",
        "WHERE status_label = 1\"\"\").show()\n",
        "\n"
      ]
    },
    {
      "cell_type": "markdown",
      "metadata": {
        "id": "OFtb1XHq5GG_"
      },
      "source": [
        "These average values, which cover diverse financial metrics from asset management to profitability indicators, consistently show positive signs. They support the notion that the \"alive\" companies in this dataset are indeed financially sound, profitable, and efficiently operated.Having a clear grasp of the financial metrics and their implications on a company's health allows for a more informed, accurate, and interpretable bankruptcy prediction model."
      ]
    },
    {
      "cell_type": "code",
      "execution_count": null,
      "metadata": {
        "colab": {
          "base_uri": "https://localhost:8080/"
        },
        "id": "toFrpg46vPRQ",
        "outputId": "2e550e2d-69ff-4072-e7e3-f205abb706c1"
      },
      "outputs": [
        {
          "name": "stdout",
          "output_type": "stream",
          "text": [
            "+-----------------+----------------+-----------------+-----------------+-----------------+------------------+------------------+-----------------+------------------+------------------+-----------------+-----------------+-----------------+------------------+-------------------+------------------+------------------+------------------+\n",
            "|           avg_X1|          avg_X2|           avg_X3|           avg_X4|           avg_X5|            avg_X6|            avg_X7|           avg_X8|            avg_X9|           avg_X10|          avg_X11|          avg_X12|          avg_X13|           avg_X14|            avg_X15|           avg_X16|           avg_X17|           avg_X18|\n",
            "+-----------------+----------------+-----------------+-----------------+-----------------+------------------+------------------+-----------------+------------------+------------------+-----------------+-----------------+-----------------+------------------+-------------------+------------------+------------------+------------------+\n",
            "|399.3393530651333|856.340996934866|85.88091896551715|138.5685764367816|103.7353978927201|-48.11233275862066|132.56530651340972|857.8130112068959|1183.9571722222213|1664.6309810344803|609.4300068965516|52.68765747126427|327.6161752873558|347.23395402298786|-165.10726724137967|1183.9571722222213|1266.8167480842922|1045.3885957854418|\n",
            "+-----------------+----------------+-----------------+-----------------+-----------------+------------------+------------------+-----------------+------------------+------------------+-----------------+-----------------+-----------------+------------------+-------------------+------------------+------------------+------------------+\n",
            "\n"
          ]
        }
      ],
      "source": [
        "# What's the average value of each predictor variable (X1 - X18) for \"failed\" companies?\n",
        "spark.sql(\"\"\"SELECT\n",
        "    AVG(`current_assets(X1)`) as avg_X1,\n",
        "    AVG(`cost_of_goods_sold(X2)`) as avg_X2,\n",
        "    AVG(`depreciation_and_amortization(X3)`) as avg_X3,\n",
        "    AVG(`EBITDA(X4)`) as avg_X4,\n",
        "    AVG(`inventory(X5)`) as avg_X5,\n",
        "    AVG(`net_income(X6)`) as avg_X6,\n",
        "    AVG(`total_receivables(X7)`) as avg_X7,\n",
        "    AVG(`market_value(X8)`) as avg_X8,\n",
        "    AVG(`net_sales(X9)`) as avg_X9,\n",
        "    AVG(`total_assets(X10)`) as avg_X10,\n",
        "    AVG(`total_long_term_debt(X11)`) as avg_X11,\n",
        "    AVG(`EBIT(X12)`) as avg_X12,\n",
        "    AVG(`gross_profit(X13)`) as avg_X13,\n",
        "    AVG(`total_current_liabilities(X14)`) as avg_X14,\n",
        "    AVG(`retained_earnings(X15)`) as avg_X15,\n",
        "    AVG(`total_revenue(X16)`) as avg_X16,\n",
        "    AVG(`total_liabilities(X17)`) as avg_X17,\n",
        "    AVG(`total_operating_expenses(X18)`) as avg_X18\n",
        "    FROM company_bankruptcy\n",
        "    WHERE status_label = 0\"\"\").show()"
      ]
    },
    {
      "cell_type": "markdown",
      "metadata": {
        "id": "M51hcpev7TIl"
      },
      "source": [
        "From the provided data on \"failed\" companies:\n",
        "\n",
        "**Operational Losses:** A negative net income (avg_X6) suggests these companies consistently operated at a loss.\n",
        "\n",
        "**Limited Financial Buffer:** Lower total assets (avg_X10) and a relatively high long-term debt (avg_X11) indicate financial vulnerability and potential liquidity issues.\n",
        "\n",
        "**Revenue vs. Debt:** Despite generating revenue (avg_X9), these companies had considerable debt (avg_X11 and avg_X14), hinting at possible financial mismanagement or overwhelming expenses.\n",
        "\n",
        "In summary, \"failed\" companies in this dataset exhibited consistent operational losses, had limited assets to cover liabilities, and faced significant financial challenges."
      ]
    },
    {
      "cell_type": "code",
      "execution_count": 10,
      "metadata": {
        "id": "qRiqdg0lvPTu"
      },
      "outputs": [],
      "source": [
        "import pandas as pd\n",
        "import numpy as np\n",
        "from pathlib import Path\n",
        "import csv\n",
        "from sklearn.model_selection import train_test_split\n",
        "from sklearn.linear_model import LogisticRegression\n",
        "from sklearn.metrics import classification_report\n",
        "from sklearn.metrics import accuracy_score\n",
        "from sklearn.preprocessing import StandardScaler\n",
        "\n",
        "import pydotplus\n",
        "from IPython.display import Image"
      ]
    },
    {
      "cell_type": "code",
      "execution_count": 14,
      "metadata": {
        "colab": {
          "base_uri": "https://localhost:8080/"
        },
        "id": "-JN2Mw7kvPWB",
        "outputId": "12918fb9-a2d9-41e1-bf0c-68ef752721b1"
      },
      "outputs": [
        {
          "output_type": "execute_result",
          "data": {
            "text/plain": [
              "78677    1\n",
              "78678    1\n",
              "78679    1\n",
              "78680    1\n",
              "78681    1\n",
              "Name: status_label, dtype: int64"
            ]
          },
          "metadata": {},
          "execution_count": 14
        }
      ],
      "source": [
        "# Identify the variables\n",
        "\n",
        "X.head()\n",
        "X.tail()\n",
        "y.head()\n",
        "y.tail()"
      ]
    },
    {
      "cell_type": "code",
      "execution_count": null,
      "metadata": {
        "id": "nBKmkQG95koa"
      },
      "outputs": [],
      "source": [
        "# Split the data into training and testing\n",
        "\n",
        "X_train, X_test, y_train, y_test = train_test_split(X,\n",
        "                                                    y,\n",
        "                                                    random_state=42,\n",
        "                                                    stratify=y)"
      ]
    },
    {
      "cell_type": "code",
      "execution_count": 15,
      "metadata": {
        "colab": {
          "base_uri": "https://localhost:8080/",
          "height": 75
        },
        "id": "ZtDqfflD5kxV",
        "outputId": "3431bc27-3360-4094-a872-0d434ce56676"
      },
      "outputs": [
        {
          "output_type": "execute_result",
          "data": {
            "text/plain": [
              "LogisticRegression(random_state=1)"
            ],
            "text/html": [
              "<style>#sk-container-id-1 {color: black;background-color: white;}#sk-container-id-1 pre{padding: 0;}#sk-container-id-1 div.sk-toggleable {background-color: white;}#sk-container-id-1 label.sk-toggleable__label {cursor: pointer;display: block;width: 100%;margin-bottom: 0;padding: 0.3em;box-sizing: border-box;text-align: center;}#sk-container-id-1 label.sk-toggleable__label-arrow:before {content: \"▸\";float: left;margin-right: 0.25em;color: #696969;}#sk-container-id-1 label.sk-toggleable__label-arrow:hover:before {color: black;}#sk-container-id-1 div.sk-estimator:hover label.sk-toggleable__label-arrow:before {color: black;}#sk-container-id-1 div.sk-toggleable__content {max-height: 0;max-width: 0;overflow: hidden;text-align: left;background-color: #f0f8ff;}#sk-container-id-1 div.sk-toggleable__content pre {margin: 0.2em;color: black;border-radius: 0.25em;background-color: #f0f8ff;}#sk-container-id-1 input.sk-toggleable__control:checked~div.sk-toggleable__content {max-height: 200px;max-width: 100%;overflow: auto;}#sk-container-id-1 input.sk-toggleable__control:checked~label.sk-toggleable__label-arrow:before {content: \"▾\";}#sk-container-id-1 div.sk-estimator input.sk-toggleable__control:checked~label.sk-toggleable__label {background-color: #d4ebff;}#sk-container-id-1 div.sk-label input.sk-toggleable__control:checked~label.sk-toggleable__label {background-color: #d4ebff;}#sk-container-id-1 input.sk-hidden--visually {border: 0;clip: rect(1px 1px 1px 1px);clip: rect(1px, 1px, 1px, 1px);height: 1px;margin: -1px;overflow: hidden;padding: 0;position: absolute;width: 1px;}#sk-container-id-1 div.sk-estimator {font-family: monospace;background-color: #f0f8ff;border: 1px dotted black;border-radius: 0.25em;box-sizing: border-box;margin-bottom: 0.5em;}#sk-container-id-1 div.sk-estimator:hover {background-color: #d4ebff;}#sk-container-id-1 div.sk-parallel-item::after {content: \"\";width: 100%;border-bottom: 1px solid gray;flex-grow: 1;}#sk-container-id-1 div.sk-label:hover label.sk-toggleable__label {background-color: #d4ebff;}#sk-container-id-1 div.sk-serial::before {content: \"\";position: absolute;border-left: 1px solid gray;box-sizing: border-box;top: 0;bottom: 0;left: 50%;z-index: 0;}#sk-container-id-1 div.sk-serial {display: flex;flex-direction: column;align-items: center;background-color: white;padding-right: 0.2em;padding-left: 0.2em;position: relative;}#sk-container-id-1 div.sk-item {position: relative;z-index: 1;}#sk-container-id-1 div.sk-parallel {display: flex;align-items: stretch;justify-content: center;background-color: white;position: relative;}#sk-container-id-1 div.sk-item::before, #sk-container-id-1 div.sk-parallel-item::before {content: \"\";position: absolute;border-left: 1px solid gray;box-sizing: border-box;top: 0;bottom: 0;left: 50%;z-index: -1;}#sk-container-id-1 div.sk-parallel-item {display: flex;flex-direction: column;z-index: 1;position: relative;background-color: white;}#sk-container-id-1 div.sk-parallel-item:first-child::after {align-self: flex-end;width: 50%;}#sk-container-id-1 div.sk-parallel-item:last-child::after {align-self: flex-start;width: 50%;}#sk-container-id-1 div.sk-parallel-item:only-child::after {width: 0;}#sk-container-id-1 div.sk-dashed-wrapped {border: 1px dashed gray;margin: 0 0.4em 0.5em 0.4em;box-sizing: border-box;padding-bottom: 0.4em;background-color: white;}#sk-container-id-1 div.sk-label label {font-family: monospace;font-weight: bold;display: inline-block;line-height: 1.2em;}#sk-container-id-1 div.sk-label-container {text-align: center;}#sk-container-id-1 div.sk-container {/* jupyter's `normalize.less` sets `[hidden] { display: none; }` but bootstrap.min.css set `[hidden] { display: none !important; }` so we also need the `!important` here to be able to override the default hidden behavior on the sphinx rendered scikit-learn.org. See: https://github.com/scikit-learn/scikit-learn/issues/21755 */display: inline-block !important;position: relative;}#sk-container-id-1 div.sk-text-repr-fallback {display: none;}</style><div id=\"sk-container-id-1\" class=\"sk-top-container\"><div class=\"sk-text-repr-fallback\"><pre>LogisticRegression(random_state=1)</pre><b>In a Jupyter environment, please rerun this cell to show the HTML representation or trust the notebook. <br />On GitHub, the HTML representation is unable to render, please try loading this page with nbviewer.org.</b></div><div class=\"sk-container\" hidden><div class=\"sk-item\"><div class=\"sk-estimator sk-toggleable\"><input class=\"sk-toggleable__control sk-hidden--visually\" id=\"sk-estimator-id-1\" type=\"checkbox\" checked><label for=\"sk-estimator-id-1\" class=\"sk-toggleable__label sk-toggleable__label-arrow\">LogisticRegression</label><div class=\"sk-toggleable__content\"><pre>LogisticRegression(random_state=1)</pre></div></div></div></div></div>"
            ]
          },
          "metadata": {},
          "execution_count": 15
        }
      ],
      "source": [
        "# Identify the Logistic Regression\n",
        "classifier = LogisticRegression(solver='lbfgs', random_state=1)\n",
        "\n",
        "classifier"
      ]
    },
    {
      "cell_type": "code",
      "execution_count": 16,
      "metadata": {
        "colab": {
          "base_uri": "https://localhost:8080/",
          "height": 75
        },
        "id": "htZYKhI65kz9",
        "outputId": "67e31824-ce3e-408b-c77d-5decdda8db45"
      },
      "outputs": [
        {
          "output_type": "execute_result",
          "data": {
            "text/plain": [
              "LogisticRegression(max_iter=1000)"
            ],
            "text/html": [
              "<style>#sk-container-id-2 {color: black;background-color: white;}#sk-container-id-2 pre{padding: 0;}#sk-container-id-2 div.sk-toggleable {background-color: white;}#sk-container-id-2 label.sk-toggleable__label {cursor: pointer;display: block;width: 100%;margin-bottom: 0;padding: 0.3em;box-sizing: border-box;text-align: center;}#sk-container-id-2 label.sk-toggleable__label-arrow:before {content: \"▸\";float: left;margin-right: 0.25em;color: #696969;}#sk-container-id-2 label.sk-toggleable__label-arrow:hover:before {color: black;}#sk-container-id-2 div.sk-estimator:hover label.sk-toggleable__label-arrow:before {color: black;}#sk-container-id-2 div.sk-toggleable__content {max-height: 0;max-width: 0;overflow: hidden;text-align: left;background-color: #f0f8ff;}#sk-container-id-2 div.sk-toggleable__content pre {margin: 0.2em;color: black;border-radius: 0.25em;background-color: #f0f8ff;}#sk-container-id-2 input.sk-toggleable__control:checked~div.sk-toggleable__content {max-height: 200px;max-width: 100%;overflow: auto;}#sk-container-id-2 input.sk-toggleable__control:checked~label.sk-toggleable__label-arrow:before {content: \"▾\";}#sk-container-id-2 div.sk-estimator input.sk-toggleable__control:checked~label.sk-toggleable__label {background-color: #d4ebff;}#sk-container-id-2 div.sk-label input.sk-toggleable__control:checked~label.sk-toggleable__label {background-color: #d4ebff;}#sk-container-id-2 input.sk-hidden--visually {border: 0;clip: rect(1px 1px 1px 1px);clip: rect(1px, 1px, 1px, 1px);height: 1px;margin: -1px;overflow: hidden;padding: 0;position: absolute;width: 1px;}#sk-container-id-2 div.sk-estimator {font-family: monospace;background-color: #f0f8ff;border: 1px dotted black;border-radius: 0.25em;box-sizing: border-box;margin-bottom: 0.5em;}#sk-container-id-2 div.sk-estimator:hover {background-color: #d4ebff;}#sk-container-id-2 div.sk-parallel-item::after {content: \"\";width: 100%;border-bottom: 1px solid gray;flex-grow: 1;}#sk-container-id-2 div.sk-label:hover label.sk-toggleable__label {background-color: #d4ebff;}#sk-container-id-2 div.sk-serial::before {content: \"\";position: absolute;border-left: 1px solid gray;box-sizing: border-box;top: 0;bottom: 0;left: 50%;z-index: 0;}#sk-container-id-2 div.sk-serial {display: flex;flex-direction: column;align-items: center;background-color: white;padding-right: 0.2em;padding-left: 0.2em;position: relative;}#sk-container-id-2 div.sk-item {position: relative;z-index: 1;}#sk-container-id-2 div.sk-parallel {display: flex;align-items: stretch;justify-content: center;background-color: white;position: relative;}#sk-container-id-2 div.sk-item::before, #sk-container-id-2 div.sk-parallel-item::before {content: \"\";position: absolute;border-left: 1px solid gray;box-sizing: border-box;top: 0;bottom: 0;left: 50%;z-index: -1;}#sk-container-id-2 div.sk-parallel-item {display: flex;flex-direction: column;z-index: 1;position: relative;background-color: white;}#sk-container-id-2 div.sk-parallel-item:first-child::after {align-self: flex-end;width: 50%;}#sk-container-id-2 div.sk-parallel-item:last-child::after {align-self: flex-start;width: 50%;}#sk-container-id-2 div.sk-parallel-item:only-child::after {width: 0;}#sk-container-id-2 div.sk-dashed-wrapped {border: 1px dashed gray;margin: 0 0.4em 0.5em 0.4em;box-sizing: border-box;padding-bottom: 0.4em;background-color: white;}#sk-container-id-2 div.sk-label label {font-family: monospace;font-weight: bold;display: inline-block;line-height: 1.2em;}#sk-container-id-2 div.sk-label-container {text-align: center;}#sk-container-id-2 div.sk-container {/* jupyter's `normalize.less` sets `[hidden] { display: none; }` but bootstrap.min.css set `[hidden] { display: none !important; }` so we also need the `!important` here to be able to override the default hidden behavior on the sphinx rendered scikit-learn.org. See: https://github.com/scikit-learn/scikit-learn/issues/21755 */display: inline-block !important;position: relative;}#sk-container-id-2 div.sk-text-repr-fallback {display: none;}</style><div id=\"sk-container-id-2\" class=\"sk-top-container\"><div class=\"sk-text-repr-fallback\"><pre>LogisticRegression(max_iter=1000)</pre><b>In a Jupyter environment, please rerun this cell to show the HTML representation or trust the notebook. <br />On GitHub, the HTML representation is unable to render, please try loading this page with nbviewer.org.</b></div><div class=\"sk-container\" hidden><div class=\"sk-item\"><div class=\"sk-estimator sk-toggleable\"><input class=\"sk-toggleable__control sk-hidden--visually\" id=\"sk-estimator-id-2\" type=\"checkbox\" checked><label for=\"sk-estimator-id-2\" class=\"sk-toggleable__label sk-toggleable__label-arrow\">LogisticRegression</label><div class=\"sk-toggleable__content\"><pre>LogisticRegression(max_iter=1000)</pre></div></div></div></div></div>"
            ]
          },
          "metadata": {},
          "execution_count": 16
        }
      ],
      "source": [
        "# Train the data\n",
        "from sklearn.linear_model import LogisticRegression\n",
        "\n",
        "classifier = LogisticRegression(max_iter=1000)\n",
        "classifier.fit(X_train, y_train)\n"
      ]
    },
    {
      "cell_type": "code",
      "execution_count": 17,
      "metadata": {
        "colab": {
          "base_uri": "https://localhost:8080/"
        },
        "id": "IjLGw5V65k2g",
        "outputId": "b8084860-1775-4153-ba8a-90e3bfcf5564"
      },
      "outputs": [
        {
          "output_type": "stream",
          "name": "stdout",
          "text": [
            "Training Data Score: 0.9341011994598459\n",
            "Testing Data Score: 0.932198004702294\n"
          ]
        }
      ],
      "source": [
        "import warnings\n",
        "warnings.filterwarnings(action='ignore', category=UserWarning)\n",
        "\n",
        "# Score the model\n",
        "\n",
        "# Score the model on the training data\n",
        "training_score = classifier.score(X_train, y_train)\n",
        "print(f\"Training Data Score: {training_score}\")\n",
        "\n",
        "\n",
        "testing_score = classifier.score(X_test, y_test)\n",
        "print(f\"Testing Data Score: {testing_score}\")\n"
      ]
    },
    {
      "cell_type": "code",
      "execution_count": 18,
      "metadata": {
        "colab": {
          "base_uri": "https://localhost:8080/",
          "height": 424
        },
        "id": "wM7syF-R5k5D",
        "outputId": "3d8d6bfb-fc95-4021-ccb3-7b79f992e229"
      },
      "outputs": [
        {
          "output_type": "execute_result",
          "data": {
            "text/plain": [
              "       Prediction  Actual\n",
              "58332           1       1\n",
              "66075           1       1\n",
              "77412           1       1\n",
              "57137           1       0\n",
              "9134            1       1\n",
              "...           ...     ...\n",
              "6939            1       1\n",
              "11833           1       1\n",
              "54981           1       1\n",
              "48107           1       1\n",
              "14018           1       1\n",
              "\n",
              "[15737 rows x 2 columns]"
            ],
            "text/html": [
              "\n",
              "  <div id=\"df-760feb02-a8bd-434f-bd0f-e9cd8fc79cb1\" class=\"colab-df-container\">\n",
              "    <div>\n",
              "<style scoped>\n",
              "    .dataframe tbody tr th:only-of-type {\n",
              "        vertical-align: middle;\n",
              "    }\n",
              "\n",
              "    .dataframe tbody tr th {\n",
              "        vertical-align: top;\n",
              "    }\n",
              "\n",
              "    .dataframe thead th {\n",
              "        text-align: right;\n",
              "    }\n",
              "</style>\n",
              "<table border=\"1\" class=\"dataframe\">\n",
              "  <thead>\n",
              "    <tr style=\"text-align: right;\">\n",
              "      <th></th>\n",
              "      <th>Prediction</th>\n",
              "      <th>Actual</th>\n",
              "    </tr>\n",
              "  </thead>\n",
              "  <tbody>\n",
              "    <tr>\n",
              "      <th>58332</th>\n",
              "      <td>1</td>\n",
              "      <td>1</td>\n",
              "    </tr>\n",
              "    <tr>\n",
              "      <th>66075</th>\n",
              "      <td>1</td>\n",
              "      <td>1</td>\n",
              "    </tr>\n",
              "    <tr>\n",
              "      <th>77412</th>\n",
              "      <td>1</td>\n",
              "      <td>1</td>\n",
              "    </tr>\n",
              "    <tr>\n",
              "      <th>57137</th>\n",
              "      <td>1</td>\n",
              "      <td>0</td>\n",
              "    </tr>\n",
              "    <tr>\n",
              "      <th>9134</th>\n",
              "      <td>1</td>\n",
              "      <td>1</td>\n",
              "    </tr>\n",
              "    <tr>\n",
              "      <th>...</th>\n",
              "      <td>...</td>\n",
              "      <td>...</td>\n",
              "    </tr>\n",
              "    <tr>\n",
              "      <th>6939</th>\n",
              "      <td>1</td>\n",
              "      <td>1</td>\n",
              "    </tr>\n",
              "    <tr>\n",
              "      <th>11833</th>\n",
              "      <td>1</td>\n",
              "      <td>1</td>\n",
              "    </tr>\n",
              "    <tr>\n",
              "      <th>54981</th>\n",
              "      <td>1</td>\n",
              "      <td>1</td>\n",
              "    </tr>\n",
              "    <tr>\n",
              "      <th>48107</th>\n",
              "      <td>1</td>\n",
              "      <td>1</td>\n",
              "    </tr>\n",
              "    <tr>\n",
              "      <th>14018</th>\n",
              "      <td>1</td>\n",
              "      <td>1</td>\n",
              "    </tr>\n",
              "  </tbody>\n",
              "</table>\n",
              "<p>15737 rows × 2 columns</p>\n",
              "</div>\n",
              "    <div class=\"colab-df-buttons\">\n",
              "\n",
              "  <div class=\"colab-df-container\">\n",
              "    <button class=\"colab-df-convert\" onclick=\"convertToInteractive('df-760feb02-a8bd-434f-bd0f-e9cd8fc79cb1')\"\n",
              "            title=\"Convert this dataframe to an interactive table.\"\n",
              "            style=\"display:none;\">\n",
              "\n",
              "  <svg xmlns=\"http://www.w3.org/2000/svg\" height=\"24px\" viewBox=\"0 -960 960 960\">\n",
              "    <path d=\"M120-120v-720h720v720H120Zm60-500h600v-160H180v160Zm220 220h160v-160H400v160Zm0 220h160v-160H400v160ZM180-400h160v-160H180v160Zm440 0h160v-160H620v160ZM180-180h160v-160H180v160Zm440 0h160v-160H620v160Z\"/>\n",
              "  </svg>\n",
              "    </button>\n",
              "\n",
              "  <style>\n",
              "    .colab-df-container {\n",
              "      display:flex;\n",
              "      gap: 12px;\n",
              "    }\n",
              "\n",
              "    .colab-df-convert {\n",
              "      background-color: #E8F0FE;\n",
              "      border: none;\n",
              "      border-radius: 50%;\n",
              "      cursor: pointer;\n",
              "      display: none;\n",
              "      fill: #1967D2;\n",
              "      height: 32px;\n",
              "      padding: 0 0 0 0;\n",
              "      width: 32px;\n",
              "    }\n",
              "\n",
              "    .colab-df-convert:hover {\n",
              "      background-color: #E2EBFA;\n",
              "      box-shadow: 0px 1px 2px rgba(60, 64, 67, 0.3), 0px 1px 3px 1px rgba(60, 64, 67, 0.15);\n",
              "      fill: #174EA6;\n",
              "    }\n",
              "\n",
              "    .colab-df-buttons div {\n",
              "      margin-bottom: 4px;\n",
              "    }\n",
              "\n",
              "    [theme=dark] .colab-df-convert {\n",
              "      background-color: #3B4455;\n",
              "      fill: #D2E3FC;\n",
              "    }\n",
              "\n",
              "    [theme=dark] .colab-df-convert:hover {\n",
              "      background-color: #434B5C;\n",
              "      box-shadow: 0px 1px 3px 1px rgba(0, 0, 0, 0.15);\n",
              "      filter: drop-shadow(0px 1px 2px rgba(0, 0, 0, 0.3));\n",
              "      fill: #FFFFFF;\n",
              "    }\n",
              "  </style>\n",
              "\n",
              "    <script>\n",
              "      const buttonEl =\n",
              "        document.querySelector('#df-760feb02-a8bd-434f-bd0f-e9cd8fc79cb1 button.colab-df-convert');\n",
              "      buttonEl.style.display =\n",
              "        google.colab.kernel.accessAllowed ? 'block' : 'none';\n",
              "\n",
              "      async function convertToInteractive(key) {\n",
              "        const element = document.querySelector('#df-760feb02-a8bd-434f-bd0f-e9cd8fc79cb1');\n",
              "        const dataTable =\n",
              "          await google.colab.kernel.invokeFunction('convertToInteractive',\n",
              "                                                    [key], {});\n",
              "        if (!dataTable) return;\n",
              "\n",
              "        const docLinkHtml = 'Like what you see? Visit the ' +\n",
              "          '<a target=\"_blank\" href=https://colab.research.google.com/notebooks/data_table.ipynb>data table notebook</a>'\n",
              "          + ' to learn more about interactive tables.';\n",
              "        element.innerHTML = '';\n",
              "        dataTable['output_type'] = 'display_data';\n",
              "        await google.colab.output.renderOutput(dataTable, element);\n",
              "        const docLink = document.createElement('div');\n",
              "        docLink.innerHTML = docLinkHtml;\n",
              "        element.appendChild(docLink);\n",
              "      }\n",
              "    </script>\n",
              "  </div>\n",
              "\n",
              "\n",
              "<div id=\"df-49789449-3fab-4d62-a010-698fc726a63f\">\n",
              "  <button class=\"colab-df-quickchart\" onclick=\"quickchart('df-49789449-3fab-4d62-a010-698fc726a63f')\"\n",
              "            title=\"Suggest charts.\"\n",
              "            style=\"display:none;\">\n",
              "\n",
              "<svg xmlns=\"http://www.w3.org/2000/svg\" height=\"24px\"viewBox=\"0 0 24 24\"\n",
              "     width=\"24px\">\n",
              "    <g>\n",
              "        <path d=\"M19 3H5c-1.1 0-2 .9-2 2v14c0 1.1.9 2 2 2h14c1.1 0 2-.9 2-2V5c0-1.1-.9-2-2-2zM9 17H7v-7h2v7zm4 0h-2V7h2v10zm4 0h-2v-4h2v4z\"/>\n",
              "    </g>\n",
              "</svg>\n",
              "  </button>\n",
              "\n",
              "<style>\n",
              "  .colab-df-quickchart {\n",
              "      --bg-color: #E8F0FE;\n",
              "      --fill-color: #1967D2;\n",
              "      --hover-bg-color: #E2EBFA;\n",
              "      --hover-fill-color: #174EA6;\n",
              "      --disabled-fill-color: #AAA;\n",
              "      --disabled-bg-color: #DDD;\n",
              "  }\n",
              "\n",
              "  [theme=dark] .colab-df-quickchart {\n",
              "      --bg-color: #3B4455;\n",
              "      --fill-color: #D2E3FC;\n",
              "      --hover-bg-color: #434B5C;\n",
              "      --hover-fill-color: #FFFFFF;\n",
              "      --disabled-bg-color: #3B4455;\n",
              "      --disabled-fill-color: #666;\n",
              "  }\n",
              "\n",
              "  .colab-df-quickchart {\n",
              "    background-color: var(--bg-color);\n",
              "    border: none;\n",
              "    border-radius: 50%;\n",
              "    cursor: pointer;\n",
              "    display: none;\n",
              "    fill: var(--fill-color);\n",
              "    height: 32px;\n",
              "    padding: 0;\n",
              "    width: 32px;\n",
              "  }\n",
              "\n",
              "  .colab-df-quickchart:hover {\n",
              "    background-color: var(--hover-bg-color);\n",
              "    box-shadow: 0 1px 2px rgba(60, 64, 67, 0.3), 0 1px 3px 1px rgba(60, 64, 67, 0.15);\n",
              "    fill: var(--button-hover-fill-color);\n",
              "  }\n",
              "\n",
              "  .colab-df-quickchart-complete:disabled,\n",
              "  .colab-df-quickchart-complete:disabled:hover {\n",
              "    background-color: var(--disabled-bg-color);\n",
              "    fill: var(--disabled-fill-color);\n",
              "    box-shadow: none;\n",
              "  }\n",
              "\n",
              "  .colab-df-spinner {\n",
              "    border: 2px solid var(--fill-color);\n",
              "    border-color: transparent;\n",
              "    border-bottom-color: var(--fill-color);\n",
              "    animation:\n",
              "      spin 1s steps(1) infinite;\n",
              "  }\n",
              "\n",
              "  @keyframes spin {\n",
              "    0% {\n",
              "      border-color: transparent;\n",
              "      border-bottom-color: var(--fill-color);\n",
              "      border-left-color: var(--fill-color);\n",
              "    }\n",
              "    20% {\n",
              "      border-color: transparent;\n",
              "      border-left-color: var(--fill-color);\n",
              "      border-top-color: var(--fill-color);\n",
              "    }\n",
              "    30% {\n",
              "      border-color: transparent;\n",
              "      border-left-color: var(--fill-color);\n",
              "      border-top-color: var(--fill-color);\n",
              "      border-right-color: var(--fill-color);\n",
              "    }\n",
              "    40% {\n",
              "      border-color: transparent;\n",
              "      border-right-color: var(--fill-color);\n",
              "      border-top-color: var(--fill-color);\n",
              "    }\n",
              "    60% {\n",
              "      border-color: transparent;\n",
              "      border-right-color: var(--fill-color);\n",
              "    }\n",
              "    80% {\n",
              "      border-color: transparent;\n",
              "      border-right-color: var(--fill-color);\n",
              "      border-bottom-color: var(--fill-color);\n",
              "    }\n",
              "    90% {\n",
              "      border-color: transparent;\n",
              "      border-bottom-color: var(--fill-color);\n",
              "    }\n",
              "  }\n",
              "</style>\n",
              "\n",
              "  <script>\n",
              "    async function quickchart(key) {\n",
              "      const quickchartButtonEl =\n",
              "        document.querySelector('#' + key + ' button');\n",
              "      quickchartButtonEl.disabled = true;  // To prevent multiple clicks.\n",
              "      quickchartButtonEl.classList.add('colab-df-spinner');\n",
              "      try {\n",
              "        const charts = await google.colab.kernel.invokeFunction(\n",
              "            'suggestCharts', [key], {});\n",
              "      } catch (error) {\n",
              "        console.error('Error during call to suggestCharts:', error);\n",
              "      }\n",
              "      quickchartButtonEl.classList.remove('colab-df-spinner');\n",
              "      quickchartButtonEl.classList.add('colab-df-quickchart-complete');\n",
              "    }\n",
              "    (() => {\n",
              "      let quickchartButtonEl =\n",
              "        document.querySelector('#df-49789449-3fab-4d62-a010-698fc726a63f button');\n",
              "      quickchartButtonEl.style.display =\n",
              "        google.colab.kernel.accessAllowed ? 'block' : 'none';\n",
              "    })();\n",
              "  </script>\n",
              "</div>\n",
              "    </div>\n",
              "  </div>\n"
            ]
          },
          "metadata": {},
          "execution_count": 18
        }
      ],
      "source": [
        "# Predict outcomes for test data set\n",
        "predictions = classifier.predict(X_test)\n",
        "pd.DataFrame({\"Prediction\": predictions, \"Actual\": y_test})"
      ]
    },
    {
      "cell_type": "code",
      "execution_count": 19,
      "metadata": {
        "colab": {
          "base_uri": "https://localhost:8080/"
        },
        "id": "k-yUAQQn5k7t",
        "outputId": "49f8e4d2-cbcd-49ce-8a90-4ebd0964aa08"
      },
      "outputs": [
        {
          "output_type": "execute_result",
          "data": {
            "text/plain": [
              "0.932198004702294"
            ]
          },
          "metadata": {},
          "execution_count": 19
        }
      ],
      "source": [
        "# Calculate the accuracy score\n",
        "# Display the test score\n",
        "\n",
        "accuracy_score(y_test, predictions)"
      ]
    },
    {
      "cell_type": "markdown",
      "metadata": {
        "id": "rG_HADpe8fyk"
      },
      "source": [
        "# Classification\n"
      ]
    },
    {
      "cell_type": "code",
      "execution_count": 20,
      "metadata": {
        "colab": {
          "base_uri": "https://localhost:8080/",
          "height": 256
        },
        "id": "mVtPDzS372dU",
        "outputId": "efeaa128-15d6-4ad0-f253-764597141814"
      },
      "outputs": [
        {
          "output_type": "execute_result",
          "data": {
            "text/plain": [
              "   status_label  year  current_assets(X1)  cost_of_goods_sold(X2)  \\\n",
              "0             1  1999             511.267                 833.107   \n",
              "1             1  2000             485.856                 713.811   \n",
              "2             1  2001             436.656                 526.477   \n",
              "3             1  2002             396.412                 496.747   \n",
              "4             1  2003             432.204                 523.302   \n",
              "\n",
              "   depreciation_and_amortization(X3)  EBITDA(X4)  inventory(X5)  \\\n",
              "0                             18.373      89.031        336.018   \n",
              "1                             18.577      64.367        320.590   \n",
              "2                             22.496      27.207        286.588   \n",
              "3                             27.172      30.745        259.954   \n",
              "4                             26.680      47.491        247.245   \n",
              "\n",
              "   net_income(X6)  total_receivables(X7)  market_value(X8)  ...  \\\n",
              "0          35.163                128.348          372.7519  ...   \n",
              "1          18.531                115.187          377.1180  ...   \n",
              "2         -58.939                 77.528          364.5928  ...   \n",
              "3         -12.410                 66.322          143.3295  ...   \n",
              "4           3.504                104.661          308.9071  ...   \n",
              "\n",
              "   total_assets(X10)  total_long_term_debt(X11)  EBIT(X12)  gross_profit(X13)  \\\n",
              "0            740.998                    180.447     70.658            191.226   \n",
              "1            701.854                    179.987     45.790            160.444   \n",
              "2            710.199                    217.699      4.711            112.244   \n",
              "3            686.621                    164.658      3.573            109.590   \n",
              "4            709.292                    248.666     20.811            128.656   \n",
              "\n",
              "   total_current_liabilities(X14)  retained_earnings(X15)  total_revenue(X16)  \\\n",
              "0                         163.816                 201.026            1024.333   \n",
              "1                         125.392                 204.065             874.255   \n",
              "2                         150.464                 139.603             638.721   \n",
              "3                         203.575                 124.106             606.337   \n",
              "4                         131.261                 131.884             651.958   \n",
              "\n",
              "   total_liabilities(X17)  total_operating_expenses(X18)  company_name_other  \n",
              "0                 401.483                        935.302                   1  \n",
              "1                 361.642                        809.888                   1  \n",
              "2                 399.964                        611.514                   1  \n",
              "3                 391.633                        575.592                   1  \n",
              "4                 407.608                        604.467                   1  \n",
              "\n",
              "[5 rows x 21 columns]"
            ],
            "text/html": [
              "\n",
              "  <div id=\"df-ef69cc20-5007-415f-8562-e8f80c8076a1\" class=\"colab-df-container\">\n",
              "    <div>\n",
              "<style scoped>\n",
              "    .dataframe tbody tr th:only-of-type {\n",
              "        vertical-align: middle;\n",
              "    }\n",
              "\n",
              "    .dataframe tbody tr th {\n",
              "        vertical-align: top;\n",
              "    }\n",
              "\n",
              "    .dataframe thead th {\n",
              "        text-align: right;\n",
              "    }\n",
              "</style>\n",
              "<table border=\"1\" class=\"dataframe\">\n",
              "  <thead>\n",
              "    <tr style=\"text-align: right;\">\n",
              "      <th></th>\n",
              "      <th>status_label</th>\n",
              "      <th>year</th>\n",
              "      <th>current_assets(X1)</th>\n",
              "      <th>cost_of_goods_sold(X2)</th>\n",
              "      <th>depreciation_and_amortization(X3)</th>\n",
              "      <th>EBITDA(X4)</th>\n",
              "      <th>inventory(X5)</th>\n",
              "      <th>net_income(X6)</th>\n",
              "      <th>total_receivables(X7)</th>\n",
              "      <th>market_value(X8)</th>\n",
              "      <th>...</th>\n",
              "      <th>total_assets(X10)</th>\n",
              "      <th>total_long_term_debt(X11)</th>\n",
              "      <th>EBIT(X12)</th>\n",
              "      <th>gross_profit(X13)</th>\n",
              "      <th>total_current_liabilities(X14)</th>\n",
              "      <th>retained_earnings(X15)</th>\n",
              "      <th>total_revenue(X16)</th>\n",
              "      <th>total_liabilities(X17)</th>\n",
              "      <th>total_operating_expenses(X18)</th>\n",
              "      <th>company_name_other</th>\n",
              "    </tr>\n",
              "  </thead>\n",
              "  <tbody>\n",
              "    <tr>\n",
              "      <th>0</th>\n",
              "      <td>1</td>\n",
              "      <td>1999</td>\n",
              "      <td>511.267</td>\n",
              "      <td>833.107</td>\n",
              "      <td>18.373</td>\n",
              "      <td>89.031</td>\n",
              "      <td>336.018</td>\n",
              "      <td>35.163</td>\n",
              "      <td>128.348</td>\n",
              "      <td>372.7519</td>\n",
              "      <td>...</td>\n",
              "      <td>740.998</td>\n",
              "      <td>180.447</td>\n",
              "      <td>70.658</td>\n",
              "      <td>191.226</td>\n",
              "      <td>163.816</td>\n",
              "      <td>201.026</td>\n",
              "      <td>1024.333</td>\n",
              "      <td>401.483</td>\n",
              "      <td>935.302</td>\n",
              "      <td>1</td>\n",
              "    </tr>\n",
              "    <tr>\n",
              "      <th>1</th>\n",
              "      <td>1</td>\n",
              "      <td>2000</td>\n",
              "      <td>485.856</td>\n",
              "      <td>713.811</td>\n",
              "      <td>18.577</td>\n",
              "      <td>64.367</td>\n",
              "      <td>320.590</td>\n",
              "      <td>18.531</td>\n",
              "      <td>115.187</td>\n",
              "      <td>377.1180</td>\n",
              "      <td>...</td>\n",
              "      <td>701.854</td>\n",
              "      <td>179.987</td>\n",
              "      <td>45.790</td>\n",
              "      <td>160.444</td>\n",
              "      <td>125.392</td>\n",
              "      <td>204.065</td>\n",
              "      <td>874.255</td>\n",
              "      <td>361.642</td>\n",
              "      <td>809.888</td>\n",
              "      <td>1</td>\n",
              "    </tr>\n",
              "    <tr>\n",
              "      <th>2</th>\n",
              "      <td>1</td>\n",
              "      <td>2001</td>\n",
              "      <td>436.656</td>\n",
              "      <td>526.477</td>\n",
              "      <td>22.496</td>\n",
              "      <td>27.207</td>\n",
              "      <td>286.588</td>\n",
              "      <td>-58.939</td>\n",
              "      <td>77.528</td>\n",
              "      <td>364.5928</td>\n",
              "      <td>...</td>\n",
              "      <td>710.199</td>\n",
              "      <td>217.699</td>\n",
              "      <td>4.711</td>\n",
              "      <td>112.244</td>\n",
              "      <td>150.464</td>\n",
              "      <td>139.603</td>\n",
              "      <td>638.721</td>\n",
              "      <td>399.964</td>\n",
              "      <td>611.514</td>\n",
              "      <td>1</td>\n",
              "    </tr>\n",
              "    <tr>\n",
              "      <th>3</th>\n",
              "      <td>1</td>\n",
              "      <td>2002</td>\n",
              "      <td>396.412</td>\n",
              "      <td>496.747</td>\n",
              "      <td>27.172</td>\n",
              "      <td>30.745</td>\n",
              "      <td>259.954</td>\n",
              "      <td>-12.410</td>\n",
              "      <td>66.322</td>\n",
              "      <td>143.3295</td>\n",
              "      <td>...</td>\n",
              "      <td>686.621</td>\n",
              "      <td>164.658</td>\n",
              "      <td>3.573</td>\n",
              "      <td>109.590</td>\n",
              "      <td>203.575</td>\n",
              "      <td>124.106</td>\n",
              "      <td>606.337</td>\n",
              "      <td>391.633</td>\n",
              "      <td>575.592</td>\n",
              "      <td>1</td>\n",
              "    </tr>\n",
              "    <tr>\n",
              "      <th>4</th>\n",
              "      <td>1</td>\n",
              "      <td>2003</td>\n",
              "      <td>432.204</td>\n",
              "      <td>523.302</td>\n",
              "      <td>26.680</td>\n",
              "      <td>47.491</td>\n",
              "      <td>247.245</td>\n",
              "      <td>3.504</td>\n",
              "      <td>104.661</td>\n",
              "      <td>308.9071</td>\n",
              "      <td>...</td>\n",
              "      <td>709.292</td>\n",
              "      <td>248.666</td>\n",
              "      <td>20.811</td>\n",
              "      <td>128.656</td>\n",
              "      <td>131.261</td>\n",
              "      <td>131.884</td>\n",
              "      <td>651.958</td>\n",
              "      <td>407.608</td>\n",
              "      <td>604.467</td>\n",
              "      <td>1</td>\n",
              "    </tr>\n",
              "  </tbody>\n",
              "</table>\n",
              "<p>5 rows × 21 columns</p>\n",
              "</div>\n",
              "    <div class=\"colab-df-buttons\">\n",
              "\n",
              "  <div class=\"colab-df-container\">\n",
              "    <button class=\"colab-df-convert\" onclick=\"convertToInteractive('df-ef69cc20-5007-415f-8562-e8f80c8076a1')\"\n",
              "            title=\"Convert this dataframe to an interactive table.\"\n",
              "            style=\"display:none;\">\n",
              "\n",
              "  <svg xmlns=\"http://www.w3.org/2000/svg\" height=\"24px\" viewBox=\"0 -960 960 960\">\n",
              "    <path d=\"M120-120v-720h720v720H120Zm60-500h600v-160H180v160Zm220 220h160v-160H400v160Zm0 220h160v-160H400v160ZM180-400h160v-160H180v160Zm440 0h160v-160H620v160ZM180-180h160v-160H180v160Zm440 0h160v-160H620v160Z\"/>\n",
              "  </svg>\n",
              "    </button>\n",
              "\n",
              "  <style>\n",
              "    .colab-df-container {\n",
              "      display:flex;\n",
              "      gap: 12px;\n",
              "    }\n",
              "\n",
              "    .colab-df-convert {\n",
              "      background-color: #E8F0FE;\n",
              "      border: none;\n",
              "      border-radius: 50%;\n",
              "      cursor: pointer;\n",
              "      display: none;\n",
              "      fill: #1967D2;\n",
              "      height: 32px;\n",
              "      padding: 0 0 0 0;\n",
              "      width: 32px;\n",
              "    }\n",
              "\n",
              "    .colab-df-convert:hover {\n",
              "      background-color: #E2EBFA;\n",
              "      box-shadow: 0px 1px 2px rgba(60, 64, 67, 0.3), 0px 1px 3px 1px rgba(60, 64, 67, 0.15);\n",
              "      fill: #174EA6;\n",
              "    }\n",
              "\n",
              "    .colab-df-buttons div {\n",
              "      margin-bottom: 4px;\n",
              "    }\n",
              "\n",
              "    [theme=dark] .colab-df-convert {\n",
              "      background-color: #3B4455;\n",
              "      fill: #D2E3FC;\n",
              "    }\n",
              "\n",
              "    [theme=dark] .colab-df-convert:hover {\n",
              "      background-color: #434B5C;\n",
              "      box-shadow: 0px 1px 3px 1px rgba(0, 0, 0, 0.15);\n",
              "      filter: drop-shadow(0px 1px 2px rgba(0, 0, 0, 0.3));\n",
              "      fill: #FFFFFF;\n",
              "    }\n",
              "  </style>\n",
              "\n",
              "    <script>\n",
              "      const buttonEl =\n",
              "        document.querySelector('#df-ef69cc20-5007-415f-8562-e8f80c8076a1 button.colab-df-convert');\n",
              "      buttonEl.style.display =\n",
              "        google.colab.kernel.accessAllowed ? 'block' : 'none';\n",
              "\n",
              "      async function convertToInteractive(key) {\n",
              "        const element = document.querySelector('#df-ef69cc20-5007-415f-8562-e8f80c8076a1');\n",
              "        const dataTable =\n",
              "          await google.colab.kernel.invokeFunction('convertToInteractive',\n",
              "                                                    [key], {});\n",
              "        if (!dataTable) return;\n",
              "\n",
              "        const docLinkHtml = 'Like what you see? Visit the ' +\n",
              "          '<a target=\"_blank\" href=https://colab.research.google.com/notebooks/data_table.ipynb>data table notebook</a>'\n",
              "          + ' to learn more about interactive tables.';\n",
              "        element.innerHTML = '';\n",
              "        dataTable['output_type'] = 'display_data';\n",
              "        await google.colab.output.renderOutput(dataTable, element);\n",
              "        const docLink = document.createElement('div');\n",
              "        docLink.innerHTML = docLinkHtml;\n",
              "        element.appendChild(docLink);\n",
              "      }\n",
              "    </script>\n",
              "  </div>\n",
              "\n",
              "\n",
              "<div id=\"df-76e8aa67-2bf2-402b-99f5-28381c1a7013\">\n",
              "  <button class=\"colab-df-quickchart\" onclick=\"quickchart('df-76e8aa67-2bf2-402b-99f5-28381c1a7013')\"\n",
              "            title=\"Suggest charts.\"\n",
              "            style=\"display:none;\">\n",
              "\n",
              "<svg xmlns=\"http://www.w3.org/2000/svg\" height=\"24px\"viewBox=\"0 0 24 24\"\n",
              "     width=\"24px\">\n",
              "    <g>\n",
              "        <path d=\"M19 3H5c-1.1 0-2 .9-2 2v14c0 1.1.9 2 2 2h14c1.1 0 2-.9 2-2V5c0-1.1-.9-2-2-2zM9 17H7v-7h2v7zm4 0h-2V7h2v10zm4 0h-2v-4h2v4z\"/>\n",
              "    </g>\n",
              "</svg>\n",
              "  </button>\n",
              "\n",
              "<style>\n",
              "  .colab-df-quickchart {\n",
              "      --bg-color: #E8F0FE;\n",
              "      --fill-color: #1967D2;\n",
              "      --hover-bg-color: #E2EBFA;\n",
              "      --hover-fill-color: #174EA6;\n",
              "      --disabled-fill-color: #AAA;\n",
              "      --disabled-bg-color: #DDD;\n",
              "  }\n",
              "\n",
              "  [theme=dark] .colab-df-quickchart {\n",
              "      --bg-color: #3B4455;\n",
              "      --fill-color: #D2E3FC;\n",
              "      --hover-bg-color: #434B5C;\n",
              "      --hover-fill-color: #FFFFFF;\n",
              "      --disabled-bg-color: #3B4455;\n",
              "      --disabled-fill-color: #666;\n",
              "  }\n",
              "\n",
              "  .colab-df-quickchart {\n",
              "    background-color: var(--bg-color);\n",
              "    border: none;\n",
              "    border-radius: 50%;\n",
              "    cursor: pointer;\n",
              "    display: none;\n",
              "    fill: var(--fill-color);\n",
              "    height: 32px;\n",
              "    padding: 0;\n",
              "    width: 32px;\n",
              "  }\n",
              "\n",
              "  .colab-df-quickchart:hover {\n",
              "    background-color: var(--hover-bg-color);\n",
              "    box-shadow: 0 1px 2px rgba(60, 64, 67, 0.3), 0 1px 3px 1px rgba(60, 64, 67, 0.15);\n",
              "    fill: var(--button-hover-fill-color);\n",
              "  }\n",
              "\n",
              "  .colab-df-quickchart-complete:disabled,\n",
              "  .colab-df-quickchart-complete:disabled:hover {\n",
              "    background-color: var(--disabled-bg-color);\n",
              "    fill: var(--disabled-fill-color);\n",
              "    box-shadow: none;\n",
              "  }\n",
              "\n",
              "  .colab-df-spinner {\n",
              "    border: 2px solid var(--fill-color);\n",
              "    border-color: transparent;\n",
              "    border-bottom-color: var(--fill-color);\n",
              "    animation:\n",
              "      spin 1s steps(1) infinite;\n",
              "  }\n",
              "\n",
              "  @keyframes spin {\n",
              "    0% {\n",
              "      border-color: transparent;\n",
              "      border-bottom-color: var(--fill-color);\n",
              "      border-left-color: var(--fill-color);\n",
              "    }\n",
              "    20% {\n",
              "      border-color: transparent;\n",
              "      border-left-color: var(--fill-color);\n",
              "      border-top-color: var(--fill-color);\n",
              "    }\n",
              "    30% {\n",
              "      border-color: transparent;\n",
              "      border-left-color: var(--fill-color);\n",
              "      border-top-color: var(--fill-color);\n",
              "      border-right-color: var(--fill-color);\n",
              "    }\n",
              "    40% {\n",
              "      border-color: transparent;\n",
              "      border-right-color: var(--fill-color);\n",
              "      border-top-color: var(--fill-color);\n",
              "    }\n",
              "    60% {\n",
              "      border-color: transparent;\n",
              "      border-right-color: var(--fill-color);\n",
              "    }\n",
              "    80% {\n",
              "      border-color: transparent;\n",
              "      border-right-color: var(--fill-color);\n",
              "      border-bottom-color: var(--fill-color);\n",
              "    }\n",
              "    90% {\n",
              "      border-color: transparent;\n",
              "      border-bottom-color: var(--fill-color);\n",
              "    }\n",
              "  }\n",
              "</style>\n",
              "\n",
              "  <script>\n",
              "    async function quickchart(key) {\n",
              "      const quickchartButtonEl =\n",
              "        document.querySelector('#' + key + ' button');\n",
              "      quickchartButtonEl.disabled = true;  // To prevent multiple clicks.\n",
              "      quickchartButtonEl.classList.add('colab-df-spinner');\n",
              "      try {\n",
              "        const charts = await google.colab.kernel.invokeFunction(\n",
              "            'suggestCharts', [key], {});\n",
              "      } catch (error) {\n",
              "        console.error('Error during call to suggestCharts:', error);\n",
              "      }\n",
              "      quickchartButtonEl.classList.remove('colab-df-spinner');\n",
              "      quickchartButtonEl.classList.add('colab-df-quickchart-complete');\n",
              "    }\n",
              "    (() => {\n",
              "      let quickchartButtonEl =\n",
              "        document.querySelector('#df-76e8aa67-2bf2-402b-99f5-28381c1a7013 button');\n",
              "      quickchartButtonEl.style.display =\n",
              "        google.colab.kernel.accessAllowed ? 'block' : 'none';\n",
              "    })();\n",
              "  </script>\n",
              "</div>\n",
              "    </div>\n",
              "  </div>\n"
            ]
          },
          "metadata": {},
          "execution_count": 20
        }
      ],
      "source": [
        "bankruptcy_df.head()"
      ]
    },
    {
      "cell_type": "code",
      "execution_count": null,
      "metadata": {
        "id": "v0u2PUBZ72nY"
      },
      "outputs": [],
      "source": [
        "# Split tbe data into X (features) and y (target)\n",
        "y = bankruptcy_df[\"status_label\"]\n",
        "X = bankruptcy_df.drop(columns=[\"status_label\"])"
      ]
    },
    {
      "cell_type": "code",
      "execution_count": null,
      "metadata": {
        "id": "DsSwGfIV72so"
      },
      "outputs": [],
      "source": [
        "# Split into training and testing set using train_test_split\n",
        "X_train, X_test, y_train, y_test = train_test_split(X, y)"
      ]
    },
    {
      "cell_type": "code",
      "execution_count": 21,
      "metadata": {
        "id": "NkviHiwL8U4o"
      },
      "outputs": [],
      "source": [
        "# Fit a logistic resgression classifier\n",
        "bankruptcy_logistic_regression_model = LogisticRegression(random_state=6)"
      ]
    },
    {
      "cell_type": "code",
      "execution_count": 22,
      "metadata": {
        "id": "2VFkmXuC8VCk"
      },
      "outputs": [],
      "source": [
        "# Fit and save logistic regression model using the training data\n",
        "lgr_model = bankruptcy_logistic_regression_model.fit(X_train, y_train)"
      ]
    },
    {
      "cell_type": "code",
      "execution_count": 23,
      "metadata": {
        "id": "_GZSrI8d8cYd"
      },
      "outputs": [],
      "source": [
        "# Generate training predictions\n",
        "training_predictions = lgr_model.predict(X_train)\n",
        "\n",
        "# Generate testing predictions\n",
        "testing_predictions = bankruptcy_logistic_regression_model.predict(X_test)"
      ]
    },
    {
      "cell_type": "markdown",
      "metadata": {
        "id": "Kor515FG8kDs"
      },
      "source": [
        "# Confusion Matrix\n"
      ]
    },
    {
      "cell_type": "code",
      "execution_count": 24,
      "metadata": {
        "colab": {
          "base_uri": "https://localhost:8080/"
        },
        "id": "Yp1IZrPo8cbU",
        "outputId": "47bef5d3-56b1-4bc9-d1c1-1c2dd22bde47"
      },
      "outputs": [
        {
          "output_type": "stream",
          "name": "stdout",
          "text": [
            "[[   32  4120]\n",
            " [   28 58765]]\n"
          ]
        }
      ],
      "source": [
        "# Import the model for sklearn confusion matrix\n",
        "from sklearn.metrics import confusion_matrix\n",
        "\n",
        "# Predict the labels for the training data\n",
        "training_predictions = classifier.predict(X_train)\n",
        "\n",
        "# Create and save the confusion matrix for the training data\n",
        "training_matrix = confusion_matrix(y_train, training_predictions)\n",
        "\n",
        "print(training_matrix)\n",
        "\n",
        "\n"
      ]
    },
    {
      "cell_type": "code",
      "execution_count": 25,
      "metadata": {
        "colab": {
          "base_uri": "https://localhost:8080/"
        },
        "id": "x9-aMqM78cd-",
        "outputId": "fa0ea993-8cc8-4ec5-dc25-0a1056f8316c"
      },
      "outputs": [
        {
          "output_type": "stream",
          "name": "stdout",
          "text": [
            "[[    7  1061]\n",
            " [    6 14663]]\n"
          ]
        }
      ],
      "source": [
        "# Create and save confusion matrix for testing data\n",
        "test_matrix = confusion_matrix(y_test, testing_predictions)\n",
        "\n",
        "# Print test matrix\n",
        "print(test_matrix)\n"
      ]
    },
    {
      "cell_type": "code",
      "execution_count": 26,
      "metadata": {
        "colab": {
          "base_uri": "https://localhost:8080/"
        },
        "id": "X-yKrVrQ8cgQ",
        "outputId": "dbf77cbe-8934-484c-98f3-568ee04af11f"
      },
      "outputs": [
        {
          "output_type": "stream",
          "name": "stdout",
          "text": [
            "              precision    recall  f1-score   support\n",
            "\n",
            "           0       0.53      0.01      0.02      4152\n",
            "           1       0.93      1.00      0.97     58793\n",
            "\n",
            "    accuracy                           0.93     62945\n",
            "   macro avg       0.73      0.50      0.49     62945\n",
            "weighted avg       0.91      0.93      0.90     62945\n",
            "\n"
          ]
        }
      ],
      "source": [
        "# Create training classification report\n",
        "training_report = classification_report(y_train, training_predictions)\n",
        "\n",
        "print(training_report)"
      ]
    },
    {
      "cell_type": "code",
      "execution_count": 27,
      "metadata": {
        "colab": {
          "base_uri": "https://localhost:8080/"
        },
        "id": "LJP-L42J-LQC",
        "outputId": "75e8f3a4-914b-4305-9d5d-1a65c705e097"
      },
      "outputs": [
        {
          "output_type": "stream",
          "name": "stdout",
          "text": [
            "              precision    recall  f1-score   support\n",
            "\n",
            "           0       0.54      0.01      0.01      1068\n",
            "           1       0.93      1.00      0.96     14669\n",
            "\n",
            "    accuracy                           0.93     15737\n",
            "   macro avg       0.74      0.50      0.49     15737\n",
            "weighted avg       0.91      0.93      0.90     15737\n",
            "\n"
          ]
        }
      ],
      "source": [
        "# Create testing classification report\n",
        "testing_report = classification_report(y_test, testing_predictions)\n",
        "\n",
        "# Print the testing classification report\n",
        "print(testing_report)"
      ]
    },
    {
      "cell_type": "markdown",
      "metadata": {
        "id": "2btSfUJ6HcAw"
      },
      "source": [
        "## Analysis of Classification"
      ]
    },
    {
      "cell_type": "markdown",
      "metadata": {
        "id": "RCJis-bjLJhA"
      },
      "source": [
        "## How well does the performance of the  training and test dataset compare?\n",
        "\n",
        "Answer: When it comes to Active companies, there is a 93% success rate, meanwhile for the failed companies there is only a 59% success rate. There is a lot of unpredictability within the \"failed\" companies. There could also be external factors as to why a companies goes bankrupt.  "
      ]
    },
    {
      "cell_type": "markdown",
      "metadata": {
        "id": "8jIj7tFdXqNc"
      },
      "source": [
        "## Confusion Matrix\n",
        "\n",
        "TRUE NEGATIVE (34)\t\t\tFALSE POSITIVE (3910)\n",
        "FALSE NEGATIVE (29)\t\t     TRUE POSITIVE (55038)\n",
        "\n",
        "The Confusion Matrix has 3910 false positive outcomes, meaning that there were 3910 companies that were thought to be alive, but actually went bankrupt. Due to the variables being all financial variables, and no external variables, this is the reason why the model may not have had small inaccuracies with the dataset.  \n",
        "\n",
        "## CLASSIFICATION REPORT OUTCOME FOR COMPANIES THAT ARE ALIVE\n",
        "ACCURACY = 93%\tPRECISION = 94%\tRECALL = 100% (1)\tF-1 SCORE = 97%"
      ]
    },
    {
      "cell_type": "markdown",
      "metadata": {
        "id": "ydlUQ7htKEjQ"
      },
      "source": [
        "## **RANDOM FOREST - Sree**"
      ]
    },
    {
      "cell_type": "code",
      "execution_count": 28,
      "metadata": {
        "id": "rMc2p0GTXqNd",
        "outputId": "288683cd-dc59-41e3-e747-3ce54c4bfdae",
        "colab": {
          "base_uri": "https://localhost:8080/",
          "height": 875
        }
      },
      "outputs": [
        {
          "output_type": "display_data",
          "data": {
            "text/plain": [
              "<Figure size 1400x900 with 2 Axes>"
            ],
            "image/png": "[encoded data removed]"
          },
          "metadata": {}
        }
      ],
      "source": [
        "# Heatmap to display the features collinearity\n",
        "\n",
        "import matplotlib.pyplot as plt\n",
        "import seaborn as sns\n",
        "\n",
        "bankruptcy_sree_df = bankruptcy_df.copy()\n",
        "bankruptcy_sree_df = bankruptcy_sree_df.drop(\"company_name_other\", axis=1)\n",
        "\n",
        "plt.figure(figsize=(14, 9))\n",
        "sns.heatmap(bankruptcy_sree_df.drop([\"year\"], axis=1).corr(numeric_only=True), annot=True, cmap=\"viridis\")\n",
        "plt.xticks(rotation=90)\n",
        "plt.tight_layout()\n",
        "plt.show()"
      ]
    },
    {
      "cell_type": "markdown",
      "metadata": {
        "id": "vFgS8EkdXqNd"
      },
      "source": [
        "## Feature Engineering\n",
        "There is lot of collinearity between the features, applying the feature engineering and reducing the features."
      ]
    },
    {
      "cell_type": "code",
      "execution_count": null,
      "metadata": {
        "id": "ehZo28dMXqNe"
      },
      "outputs": [],
      "source": [
        "bankruptcy_sree_df = bankruptcy_sree_df.drop(\"gross_profit(X13)\", axis=1)\n",
        "bankruptcy_sree_df = bankruptcy_sree_df.drop(\"total_revenue(X16)\", axis=1)\n",
        "bankruptcy_sree_df[\"other_costs(X19)\"] = bankruptcy_sree_df[\"total_operating_expenses(X18)\"] - bankruptcy_sree_df[\"cost_of_goods_sold(X2)\"]\n",
        "bankruptcy_sree_df = bankruptcy_sree_df.drop(\"total_operating_expenses(X18)\", axis=1)\n",
        "bankruptcy_sree_df = bankruptcy_sree_df.drop(\"EBIT(X12)\", axis=1)"
      ]
    },
    {
      "cell_type": "code",
      "execution_count": null,
      "metadata": {
        "id": "jJyz58D-HZgD"
      },
      "outputs": [],
      "source": [
        "### Splitting Data with Time frame\n",
        "\n",
        "## Training Data set consists of the data before 2012\n",
        "\n",
        "X_train_sree = bankruptcy_sree_df.loc[bankruptcy_sree_df[\"year\"] <= 2011, bankruptcy_sree_df.columns.drop([\"year\", \"status_label\"])]\n",
        "y_train_sree = bankruptcy_sree_df.loc[bankruptcy_sree_df[\"year\"] <= 2011, \"status_label\"]"
      ]
    },
    {
      "cell_type": "code",
      "execution_count": null,
      "metadata": {
        "id": "on95DAmmXqNe"
      },
      "outputs": [],
      "source": [
        "# Test Data set contains data between 2012 and 2018\n",
        "\n",
        "X_test_sree = bankruptcy_sree_df.loc[bankruptcy_sree_df[\"year\"].between(2012, 2018), bankruptcy_sree_df.columns.drop([\"year\", \"status_label\"])]\n",
        "y_test_sree = bankruptcy_sree_df.loc[bankruptcy_sree_df[\"year\"].between(2012, 2018), \"status_label\"]"
      ]
    },
    {
      "cell_type": "code",
      "execution_count": null,
      "metadata": {
        "id": "uD7NMHylnlQb"
      },
      "outputs": [],
      "source": [
        "# Creating StandardScaler instance\n",
        "scaler = StandardScaler()"
      ]
    },
    {
      "cell_type": "code",
      "execution_count": null,
      "metadata": {
        "id": "TpNSoDnPnlQb"
      },
      "outputs": [],
      "source": [
        "# Fitting Standard Scaller\n",
        "X_scaler = scaler.fit(X_train_sree)"
      ]
    },
    {
      "cell_type": "code",
      "execution_count": null,
      "metadata": {
        "id": "-dHNo794nlQc"
      },
      "outputs": [],
      "source": [
        "# Scaling data\n",
        "X_train_scaled = X_scaler.transform(X_train_sree)\n",
        "X_test_scaled = X_scaler.transform(X_test_sree)"
      ]
    },
    {
      "cell_type": "markdown",
      "metadata": {
        "id": "EqPQP9ADnlQc"
      },
      "source": [
        "## **Fitting the Random Forest Model**"
      ]
    },
    {
      "cell_type": "code",
      "execution_count": null,
      "metadata": {
        "id": "JAf5Uc0OnlQd"
      },
      "outputs": [],
      "source": [
        "from sklearn.ensemble import RandomForestClassifier\n",
        "\n",
        "# Create a random forest classifier\n",
        "rf_model = RandomForestClassifier(n_estimators=1000, random_state=90)"
      ]
    },
    {
      "cell_type": "markdown",
      "metadata": {
        "id": "GiT5W2zrnlQe"
      },
      "source": [
        "## **Making Predictions using the Random Forest Model**"
      ]
    },
    {
      "cell_type": "code",
      "execution_count": null,
      "metadata": {
        "id": "Qvd7loYBs0qM"
      },
      "outputs": [],
      "source": [
        "# Fitting the model\n",
        "rf_model = rf_model.fit(X_train_scaled, y_train_sree)"
      ]
    },
    {
      "cell_type": "code",
      "execution_count": null,
      "metadata": {
        "id": "99LpCVJEnlQe"
      },
      "outputs": [],
      "source": [
        "### **Fitting the Random Forest Model** Making predictions using the testing data\n",
        "predictions = rf_model.predict(X_test_scaled)"
      ]
    },
    {
      "cell_type": "markdown",
      "metadata": {
        "id": "epVGq2MinlQf"
      },
      "source": [
        "## **Model Evaluation**"
      ]
    },
    {
      "cell_type": "code",
      "execution_count": null,
      "metadata": {
        "id": "lf1ztHxBnlQf"
      },
      "outputs": [],
      "source": [
        "# Calculating the confusion matrix\n",
        "cm = confusion_matrix(y_test_sree, predictions)\n",
        "cm_df = pd.DataFrame(\n",
        "    cm, index=[\"Actual 0\", \"Actual 1\"], columns=[\"Predicted 0\", \"Predicted 1\"]\n",
        ")\n",
        "\n",
        "# Calculating the accuracy score\n",
        "acc_score = accuracy_score(y_test_sree, predictions)"
      ]
    },
    {
      "cell_type": "code",
      "execution_count": null,
      "metadata": {
        "colab": {
          "base_uri": "https://localhost:8080/",
          "height": 327
        },
        "id": "RbyksJx7nlQg",
        "outputId": "78711b8a-57f3-4750-f9e0-d864ac547694"
      },
      "outputs": [
        {
          "name": "stdout",
          "output_type": "stream",
          "text": [
            "Confusion Matrix\n"
          ]
        },
        {
          "data": {
            "text/html": [
              "<div>\n",
              "<style scoped>\n",
              "    .dataframe tbody tr th:only-of-type {\n",
              "        vertical-align: middle;\n",
              "    }\n",
              "\n",
              "    .dataframe tbody tr th {\n",
              "        vertical-align: top;\n",
              "    }\n",
              "\n",
              "    .dataframe thead th {\n",
              "        text-align: right;\n",
              "    }\n",
              "</style>\n",
              "<table border=\"1\" class=\"dataframe\">\n",
              "  <thead>\n",
              "    <tr style=\"text-align: right;\">\n",
              "      <th></th>\n",
              "      <th>Predicted 0</th>\n",
              "      <th>Predicted 1</th>\n",
              "    </tr>\n",
              "  </thead>\n",
              "  <tbody>\n",
              "    <tr>\n",
              "      <th>Actual 0</th>\n",
              "      <td>28</td>\n",
              "      <td>750</td>\n",
              "    </tr>\n",
              "    <tr>\n",
              "      <th>Actual 1</th>\n",
              "      <td>15</td>\n",
              "      <td>21962</td>\n",
              "    </tr>\n",
              "  </tbody>\n",
              "</table>\n",
              "</div>"
            ],
            "text/plain": [
              "          Predicted 0  Predicted 1\n",
              "Actual 0           28          750\n",
              "Actual 1           15        21962"
            ]
          },
          "metadata": {},
          "output_type": "display_data"
        },
        {
          "name": "stdout",
          "output_type": "stream",
          "text": [
            "Accuracy Score : 0.966381015161503\n",
            "Classification Report\n",
            "              precision    recall  f1-score   support\n",
            "\n",
            "           0       0.65      0.04      0.07       778\n",
            "           1       0.97      1.00      0.98     21977\n",
            "\n",
            "    accuracy                           0.97     22755\n",
            "   macro avg       0.81      0.52      0.53     22755\n",
            "weighted avg       0.96      0.97      0.95     22755\n",
            "\n"
          ]
        }
      ],
      "source": [
        "# Displaying results\n",
        "print(\"Confusion Matrix\")\n",
        "display(cm_df)\n",
        "print(f\"Accuracy Score : {acc_score}\")\n",
        "print(\"Classification Report\")\n",
        "print(classification_report(y_test_sree, predictions))"
      ]
    },
    {
      "cell_type": "markdown",
      "metadata": {
        "id": "t0vnef5DnlQh"
      },
      "source": [
        "## **Feature Importance**"
      ]
    },
    {
      "cell_type": "code",
      "execution_count": null,
      "metadata": {
        "colab": {
          "base_uri": "https://localhost:8080/"
        },
        "id": "_06rIhaRnlQh",
        "outputId": "7ee71997-5fa9-4b4b-9996-5b5ae75cef60"
      },
      "outputs": [
        {
          "data": {
            "text/plain": [
              "[(0.07529398334880769, 'EBIT(X12)'),\n",
              " (0.07079484745907969, 'total_receivables(X7)'),\n",
              " (0.06963534568429422, 'cost_of_goods_sold(X2)'),\n",
              " (0.06886555800790306, 'total_current_liabilities(X14)'),\n",
              " (0.06823491537282456, 'year'),\n",
              " (0.06807589406372659, 'net_income(X6)'),\n",
              " (0.06643792742280606, 'current_assets(X1)'),\n",
              " (0.06621746328478831, 'gross_profit(X13)'),\n",
              " (0.06581455342304557, 'net_sales(X9)'),\n",
              " (0.06538237866718168, 'depreciation_and_amortization(X3)'),\n",
              " (0.06497122304176245, 'market_value(X8)'),\n",
              " (0.06414873969095196, 'inventory(X5)'),\n",
              " (0.06346634373237242, 'total_long_term_debt(X11)'),\n",
              " (0.0620654040452271, 'EBITDA(X4)'),\n",
              " (0.06059542275522867, 'total_assets(X10)')]"
            ]
          },
          "execution_count": 79,
          "metadata": {},
          "output_type": "execute_result"
        }
      ],
      "source": [
        "# Random Forests in sklearn will automatically calculate feature importance\n",
        "importances = rf_model.feature_importances_\n",
        "# We can sort the features by their importance\n",
        "sorted(zip(rf_model.feature_importances_, X.columns), reverse=True)"
      ]
    },
    {
      "cell_type": "code",
      "execution_count": null,
      "metadata": {
        "colab": {
          "base_uri": "https://localhost:8080/",
          "height": 470
        },
        "id": "PbW7eddznlQj",
        "outputId": "4e73771e-43c0-42a6-f3fd-0e6fb14c9fa4",
        "scrolled": false
      },
      "outputs": [
        {
          "data": {
            "text/plain": [
              "<Axes: title={'center': 'Features Importances'}, ylabel='1'>"
            ]
          },
          "execution_count": 80,
          "metadata": {},
          "output_type": "execute_result"
        },
        {
          "data": {
            "image/png": "[encoded data removed]",
            "text/plain": [
              "<Figure size 640x480 with 1 Axes>"
            ]
          },
          "metadata": {},
          "output_type": "display_data"
        }
      ],
      "source": [
        "# Visualize the features by importance\n",
        "importances_df = pd.DataFrame(sorted(zip(rf_model.feature_importances_, X.columns), reverse=True))\n",
        "importances_df.set_index(importances_df[1], inplace=True)\n",
        "importances_df.drop(columns=1, inplace=True)\n",
        "importances_df.rename(columns={0: 'Feature Importances'}, inplace=True)\n",
        "importances_sorted = importances_df.sort_values(by='Feature Importances')\n",
        "importances_sorted.plot(kind='barh', color='lightgreen', title= 'Features Importances', legend=False)"
      ]
    },
    {
      "cell_type": "markdown",
      "metadata": {
        "id": "XkqJLRyyXqNk"
      },
      "source": [
        "## Conclusion\n",
        "Using the Random Forest classification technique, a machine learning algorithm was built that would identify if the company remain without bankruptcy must be targeted to enhance the market value and retained earning. Also, a mutli-class classification was done to spot which feature dominated the company's performance.\n",
        "\n",
        "A company may need to enter bankruptcy due to poor market value, earnings, increase in liabilities or long term debt. This data analytic based algorithm helps companies to predict their performance and keep them alive in the market.\n",
        "\n",
        "Need some more features to provide more accurate information on the companies not to enter the bankruptcy. Even though the accuracy is high, the model seems to be biased."
      ]
    },
    {
      "cell_type": "markdown",
      "metadata": {
        "id": "dYO9bKpTIXjd"
      },
      "source": [
        "# Gradient Boosting"
      ]
    },
    {
      "cell_type": "code",
      "execution_count": null,
      "metadata": {
        "colab": {
          "base_uri": "https://localhost:8080/"
        },
        "id": "D-J3FgE8lyB_",
        "outputId": "46b52b23-29fd-45a9-f49f-f84a7bb533f1"
      },
      "outputs": [
        {
          "name": "stdout",
          "output_type": "stream",
          "text": [
            "Performance on Training Data:\n",
            "              precision    recall  f1-score   support\n",
            "\n",
            "           0       0.35      0.96      0.51      4152\n",
            "           1       1.00      0.87      0.93     58793\n",
            "\n",
            "    accuracy                           0.88     62945\n",
            "   macro avg       0.67      0.92      0.72     62945\n",
            "weighted avg       0.95      0.88      0.90     62945\n",
            "\n",
            "\n",
            "Performance on Test Data:\n",
            "              precision    recall  f1-score   support\n",
            "\n",
            "           0       0.23      0.64      0.34      1068\n",
            "           1       0.97      0.85      0.91     14669\n",
            "\n",
            "    accuracy                           0.83     15737\n",
            "   macro avg       0.60      0.74      0.62     15737\n",
            "weighted avg       0.92      0.83      0.87     15737\n",
            "\n"
          ]
        }
      ],
      "source": [
        "import xgboost as xgb\n",
        "from sklearn.metrics import classification_report\n",
        "\n",
        "# Convert data into DMatrix format for XGBoost\n",
        "dtrain = xgb.DMatrix(X_train, label=y_train)\n",
        "dtest = xgb.DMatrix(X_test, label=y_test)\n",
        "\n",
        "# Define parameters\n",
        "\n",
        "\n",
        "param = {\n",
        "    'objective': 'binary:logistic',  # Binary classification\n",
        "    'eval_metric': 'logloss',        # Logarithmic loss metric\n",
        "    'scale_pos_weight': sum(y_train==0) / sum(y_train==1),  # Handle class imbalance\n",
        "    'max_depth': 6,                  # Max depth of the trees\n",
        "    'eta': 0.3,                      # Learning rate\n",
        "}\n",
        "\n",
        "# Training the model\n",
        "num_round = 100  # Number of boosting rounds\n",
        "bst = xgb.train(param, dtrain, num_round)\n",
        "# Predictions for training data\n",
        "train_preds_prob = bst.predict(dtrain)\n",
        "train_preds_binary = [1 if p > 0.5 else 0 for p in train_preds_prob]\n",
        "\n",
        "# Predictions for test data (you've done this part already)\n",
        "test_preds_prob = bst.predict(dtest)\n",
        "test_preds_binary = [1 if p > 0.5 else 0 for p in test_preds_prob]\n",
        "\n",
        "# Evaluate model's performance on training data\n",
        "print(\"Performance on Training Data:\")\n",
        "print(classification_report(y_train, train_preds_binary))\n",
        "\n",
        "# Evaluate model's performance on test data\n",
        "print(\"\\nPerformance on Test Data:\")\n",
        "print(classification_report(y_test, test_preds_binary))"
      ]
    },
    {
      "cell_type": "markdown",
      "metadata": {
        "id": "F066JT1tJh_d"
      },
      "source": [
        "# Analysis:\n",
        "\n",
        "In this model, the training data exhibits a high accuracy of 88%, and recall of 87% for companies that are not at risk (Class 1). This indicates the model's adeptness in pinpointing a significant majority of solvent companies during its training phase.\n",
        "\n",
        "When tested on unseen data, the model still maintains robustness, securing an 83% accuracy rate and an 85% recall for non-risk companies. Such consistency between training and testing phases underlines the model's capability to generalize well, minimizing the likelihood of making false negative predictions—i.e., mistakenly labeling a solvent company as at risk.\n",
        "\n",
        "Considering our project's prime focus, this model offers a dependable framework to accurately distinguish companies not at risk of bankruptcy, observing closely to the set objectives and metrics set out in our goal.\n",
        "\n",
        "# Limitations:\n",
        "\n",
        "**Imbalanced Dataset:**\n",
        "\n",
        "Our dataset predominantly consists of non-bankrupt companies, with only a few data points for bankrupt entities. This imbalance can skew the model's predictive capabilities.\n",
        "\n",
        "**Insufficient Features:**\n",
        "\n",
        "The current set of input features might not be comprehensive enough. Exclusively relying on the provided financial metrics might miss out on other vital bankruptcy indicators.To predict more accurately, we need to gather additional data or metrics that can contribute to recognizing the non-bankrupt nature of companies."
      ]
    }
  ],
  "metadata": {
    "colab": {
      "provenance": []
    },
    "kernelspec": {
      "display_name": "Python 3 (ipykernel)",
      "language": "python",
      "name": "python3"
    },
    "language_info": {
      "codemirror_mode": {
        "name": "ipython",
        "version": 3
      },
      "file_extension": ".py",
      "mimetype": "text/x-python",
      "name": "python",
      "nbconvert_exporter": "python",
      "pygments_lexer": "ipython3",
      "version": "3.10.13"
    }
  },
  "nbformat": 4,
  "nbformat_minor": 0
}