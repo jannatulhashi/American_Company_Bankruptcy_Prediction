{
 "cells": [
  {
   "cell_type": "markdown",
   "metadata": {
    "id": "qy7EEDS6WXn1"
   },
   "source": [
    "# Preprocessing\n"
   ]
  },
  {
   "cell_type": "code",
   "execution_count": 1,
   "metadata": {
    "executionInfo": {
     "elapsed": 213,
     "status": "ok",
     "timestamp": 1696982278779,
     "user": {
      "displayName": "Arun Balaram",
      "userId": "06182482132686253515"
     },
     "user_tz": 240
    },
    "id": "p9qDBIkHWc9M"
   },
   "outputs": [],
   "source": [
    "# Import our dependencies\n",
    "from sklearn.model_selection import train_test_split\n",
    "from sklearn.preprocessing import StandardScaler\n",
    "import pandas as pd\n",
    "import tensorflow as tf"
   ]
  },
  {
   "cell_type": "code",
   "execution_count": 2,
   "metadata": {
    "colab": {
     "base_uri": "https://localhost:8080/",
     "height": 253
    },
    "executionInfo": {
     "elapsed": 582,
     "status": "ok",
     "timestamp": 1696982279621,
     "user": {
      "displayName": "Arun Balaram",
      "userId": "06182482132686253515"
     },
     "user_tz": 240
    },
    "id": "oxENUuSzWfaX",
    "outputId": "7525a15d-96b4-46aa-b369-407a243240bd"
   },
   "outputs": [
    {
     "data": {
      "text/html": [
       "<div>\n",
       "<style scoped>\n",
       "    .dataframe tbody tr th:only-of-type {\n",
       "        vertical-align: middle;\n",
       "    }\n",
       "\n",
       "    .dataframe tbody tr th {\n",
       "        vertical-align: top;\n",
       "    }\n",
       "\n",
       "    .dataframe thead th {\n",
       "        text-align: right;\n",
       "    }\n",
       "</style>\n",
       "<table border=\"1\" class=\"dataframe\">\n",
       "  <thead>\n",
       "    <tr style=\"text-align: right;\">\n",
       "      <th></th>\n",
       "      <th>company_name</th>\n",
       "      <th>status_label</th>\n",
       "      <th>year</th>\n",
       "      <th>current_assets(X1)</th>\n",
       "      <th>cost_of_goods_sold(X2)</th>\n",
       "      <th>depreciation_and_amortization(X3)</th>\n",
       "      <th>EBITDA(X4)</th>\n",
       "      <th>inventory(X5)</th>\n",
       "      <th>net_income(X6)</th>\n",
       "      <th>total_receivables(X7)</th>\n",
       "      <th>...</th>\n",
       "      <th>net_sales(X9)</th>\n",
       "      <th>total_assets(X10)</th>\n",
       "      <th>total_long_term_debt(X11)</th>\n",
       "      <th>EBIT(X12)</th>\n",
       "      <th>gross_profit(X13)</th>\n",
       "      <th>total_current_liabilities(X14)</th>\n",
       "      <th>retained_earnings(X15)</th>\n",
       "      <th>total_revenue(X16)</th>\n",
       "      <th>total_liabilities(X17)</th>\n",
       "      <th>total_operating_expenses(X18)</th>\n",
       "    </tr>\n",
       "  </thead>\n",
       "  <tbody>\n",
       "    <tr>\n",
       "      <th>0</th>\n",
       "      <td>C_1</td>\n",
       "      <td>alive</td>\n",
       "      <td>1999</td>\n",
       "      <td>511.267</td>\n",
       "      <td>833.107</td>\n",
       "      <td>18.373</td>\n",
       "      <td>89.031</td>\n",
       "      <td>336.018</td>\n",
       "      <td>35.163</td>\n",
       "      <td>128.348</td>\n",
       "      <td>...</td>\n",
       "      <td>1024.333</td>\n",
       "      <td>740.998</td>\n",
       "      <td>180.447</td>\n",
       "      <td>70.658</td>\n",
       "      <td>191.226</td>\n",
       "      <td>163.816</td>\n",
       "      <td>201.026</td>\n",
       "      <td>1024.333</td>\n",
       "      <td>401.483</td>\n",
       "      <td>935.302</td>\n",
       "    </tr>\n",
       "    <tr>\n",
       "      <th>1</th>\n",
       "      <td>C_1</td>\n",
       "      <td>alive</td>\n",
       "      <td>2000</td>\n",
       "      <td>485.856</td>\n",
       "      <td>713.811</td>\n",
       "      <td>18.577</td>\n",
       "      <td>64.367</td>\n",
       "      <td>320.590</td>\n",
       "      <td>18.531</td>\n",
       "      <td>115.187</td>\n",
       "      <td>...</td>\n",
       "      <td>874.255</td>\n",
       "      <td>701.854</td>\n",
       "      <td>179.987</td>\n",
       "      <td>45.790</td>\n",
       "      <td>160.444</td>\n",
       "      <td>125.392</td>\n",
       "      <td>204.065</td>\n",
       "      <td>874.255</td>\n",
       "      <td>361.642</td>\n",
       "      <td>809.888</td>\n",
       "    </tr>\n",
       "    <tr>\n",
       "      <th>2</th>\n",
       "      <td>C_1</td>\n",
       "      <td>alive</td>\n",
       "      <td>2001</td>\n",
       "      <td>436.656</td>\n",
       "      <td>526.477</td>\n",
       "      <td>22.496</td>\n",
       "      <td>27.207</td>\n",
       "      <td>286.588</td>\n",
       "      <td>-58.939</td>\n",
       "      <td>77.528</td>\n",
       "      <td>...</td>\n",
       "      <td>638.721</td>\n",
       "      <td>710.199</td>\n",
       "      <td>217.699</td>\n",
       "      <td>4.711</td>\n",
       "      <td>112.244</td>\n",
       "      <td>150.464</td>\n",
       "      <td>139.603</td>\n",
       "      <td>638.721</td>\n",
       "      <td>399.964</td>\n",
       "      <td>611.514</td>\n",
       "    </tr>\n",
       "    <tr>\n",
       "      <th>3</th>\n",
       "      <td>C_1</td>\n",
       "      <td>alive</td>\n",
       "      <td>2002</td>\n",
       "      <td>396.412</td>\n",
       "      <td>496.747</td>\n",
       "      <td>27.172</td>\n",
       "      <td>30.745</td>\n",
       "      <td>259.954</td>\n",
       "      <td>-12.410</td>\n",
       "      <td>66.322</td>\n",
       "      <td>...</td>\n",
       "      <td>606.337</td>\n",
       "      <td>686.621</td>\n",
       "      <td>164.658</td>\n",
       "      <td>3.573</td>\n",
       "      <td>109.590</td>\n",
       "      <td>203.575</td>\n",
       "      <td>124.106</td>\n",
       "      <td>606.337</td>\n",
       "      <td>391.633</td>\n",
       "      <td>575.592</td>\n",
       "    </tr>\n",
       "    <tr>\n",
       "      <th>4</th>\n",
       "      <td>C_1</td>\n",
       "      <td>alive</td>\n",
       "      <td>2003</td>\n",
       "      <td>432.204</td>\n",
       "      <td>523.302</td>\n",
       "      <td>26.680</td>\n",
       "      <td>47.491</td>\n",
       "      <td>247.245</td>\n",
       "      <td>3.504</td>\n",
       "      <td>104.661</td>\n",
       "      <td>...</td>\n",
       "      <td>651.958</td>\n",
       "      <td>709.292</td>\n",
       "      <td>248.666</td>\n",
       "      <td>20.811</td>\n",
       "      <td>128.656</td>\n",
       "      <td>131.261</td>\n",
       "      <td>131.884</td>\n",
       "      <td>651.958</td>\n",
       "      <td>407.608</td>\n",
       "      <td>604.467</td>\n",
       "    </tr>\n",
       "  </tbody>\n",
       "</table>\n",
       "<p>5 rows × 21 columns</p>\n",
       "</div>"
      ],
      "text/plain": [
       "  company_name status_label  year  current_assets(X1)  cost_of_goods_sold(X2)  \\\n",
       "0          C_1        alive  1999             511.267                 833.107   \n",
       "1          C_1        alive  2000             485.856                 713.811   \n",
       "2          C_1        alive  2001             436.656                 526.477   \n",
       "3          C_1        alive  2002             396.412                 496.747   \n",
       "4          C_1        alive  2003             432.204                 523.302   \n",
       "\n",
       "   depreciation_and_amortization(X3)  EBITDA(X4)  inventory(X5)  \\\n",
       "0                             18.373      89.031        336.018   \n",
       "1                             18.577      64.367        320.590   \n",
       "2                             22.496      27.207        286.588   \n",
       "3                             27.172      30.745        259.954   \n",
       "4                             26.680      47.491        247.245   \n",
       "\n",
       "   net_income(X6)  total_receivables(X7)  ...  net_sales(X9)  \\\n",
       "0          35.163                128.348  ...       1024.333   \n",
       "1          18.531                115.187  ...        874.255   \n",
       "2         -58.939                 77.528  ...        638.721   \n",
       "3         -12.410                 66.322  ...        606.337   \n",
       "4           3.504                104.661  ...        651.958   \n",
       "\n",
       "   total_assets(X10)  total_long_term_debt(X11)  EBIT(X12)  gross_profit(X13)  \\\n",
       "0            740.998                    180.447     70.658            191.226   \n",
       "1            701.854                    179.987     45.790            160.444   \n",
       "2            710.199                    217.699      4.711            112.244   \n",
       "3            686.621                    164.658      3.573            109.590   \n",
       "4            709.292                    248.666     20.811            128.656   \n",
       "\n",
       "   total_current_liabilities(X14)  retained_earnings(X15)  total_revenue(X16)  \\\n",
       "0                         163.816                 201.026            1024.333   \n",
       "1                         125.392                 204.065             874.255   \n",
       "2                         150.464                 139.603             638.721   \n",
       "3                         203.575                 124.106             606.337   \n",
       "4                         131.261                 131.884             651.958   \n",
       "\n",
       "   total_liabilities(X17)  total_operating_expenses(X18)  \n",
       "0                 401.483                        935.302  \n",
       "1                 361.642                        809.888  \n",
       "2                 399.964                        611.514  \n",
       "3                 391.633                        575.592  \n",
       "4                 407.608                        604.467  \n",
       "\n",
       "[5 rows x 21 columns]"
      ]
     },
     "execution_count": 2,
     "metadata": {},
     "output_type": "execute_result"
    }
   ],
   "source": [
    "# Import and read the american_bankruptcy.csv.\n",
    "\n",
    "url = \"https://raw.githubusercontent.com/jannatulhashi/American_Company_Bankruptcy_Prediction/main/american_bankruptcy.csv\"\n",
    "bankruptcy_df = pd.read_csv(url)\n",
    "bankruptcy_df.head()\n"
   ]
  },
  {
   "cell_type": "markdown",
   "metadata": {
    "id": "DdTnkZjLsrGF"
   },
   "source": [
    "### Variable Name Description\n",
    "\n",
    "**X1 :** Current assets - All the assets of a company that are expected to be sold or used as a result of standard business operations over the next year\n",
    "\n",
    "**X2 :** Cost of goods sold - The total amount a company paid as a cost directly related to the sale of products\n",
    "\n",
    "**X3 :** Depreciation and amortization - Depreciation refers to the loss of value of a tangible fixed asset over\n",
    "time (such as property, machinery, buildings, and plant). Amortization refers to the loss of value of intangible assets over time.\n",
    "\n",
    "**X4 :** EBITDA - Earnings before interest, taxes, depreciation, and amortization. It is a measure of a company's overall financial performance, serving as an alternative to net income.\n",
    "\n",
    "**X5 :** Inventory - The accounting of items and raw materials that a company either uses in production or sells.\n",
    "\n",
    "**X6 :** Net Income - The overall profitability of a company after all expenses and costs have been deducted from total revenue.\n",
    "\n",
    "**X7 :** Total Receivables - The balance of money due to a firm for goods or services delivered or used but not yet paid for by customers.\n",
    "\n",
    "**X8 :** Market value - The price of an asset in a marketplace. In this dataset, it refers to the market capitalization since companies are publicly traded in the stock market.\n",
    "\n",
    "**X9 :** Net sales - The sum of a company's gross sales minus its returns, allowances, and discounts.\n",
    "\n",
    "**X10 :** Total assets - All the assets, or items of value, a business owns.\n",
    "\n",
    "**X11 :** Total Long-term debt - A company's loans and other liabilities that will not become due within one year of the balance sheet date.\n",
    "\n",
    "**X12 :** EBIT - Earnings before interest and taxes.\n",
    "\n",
    "**X13 :** Gross Profit - The profit a business makes after subtracting all the costs that are related to manufacturing and selling its products or services.\n",
    "\n",
    "**X14 :** Total Current Liabilities - The sum of accounts payable, accrued liabilities, and taxes such as Bonds payable at the end of the year, salaries, and commissions remaining.\n",
    "\n",
    "**X15 :** Retained Earnings - The amount of profit a company has left over after paying all its direct costs, indirect costs, income taxes, and its dividends to shareholders.\n",
    "\n",
    "**X16 :** Total Revenue - The amount of income that a business has made from all sales before subtracting expenses. It may include interest and dividends from investments.\n",
    "\n",
    "**X17 :** Total Liabilities - The combined debts and obligations that the company owes to outside parties.\n",
    "\n",
    "**X18 :** Total Operating Expenses - The expenses a business incurs through its normal business operations."
   ]
  },
  {
   "cell_type": "code",
   "execution_count": 3,
   "metadata": {
    "colab": {
     "base_uri": "https://localhost:8080/"
    },
    "executionInfo": {
     "elapsed": 16,
     "status": "ok",
     "timestamp": 1696982279621,
     "user": {
      "displayName": "Arun Balaram",
      "userId": "06182482132686253515"
     },
     "user_tz": 240
    },
    "id": "xygn-PsmYYbz",
    "outputId": "3beb9cd6-0174-42d0-b606-c4060f1260fc"
   },
   "outputs": [
    {
     "name": "stdout",
     "output_type": "stream",
     "text": [
      "<class 'pandas.core.frame.DataFrame'>\n",
      "RangeIndex: 78682 entries, 0 to 78681\n",
      "Data columns (total 21 columns):\n",
      " #   Column                             Non-Null Count  Dtype  \n",
      "---  ------                             --------------  -----  \n",
      " 0   company_name                       78682 non-null  object \n",
      " 1   status_label                       78682 non-null  object \n",
      " 2   year                               78682 non-null  int64  \n",
      " 3   current_assets(X1)                 78682 non-null  float64\n",
      " 4   cost_of_goods_sold(X2)             78682 non-null  float64\n",
      " 5   depreciation_and_amortization(X3)  78682 non-null  float64\n",
      " 6   EBITDA(X4)                         78682 non-null  float64\n",
      " 7   inventory(X5)                      78682 non-null  float64\n",
      " 8   net_income(X6)                     78682 non-null  float64\n",
      " 9   total_receivables(X7)              78682 non-null  float64\n",
      " 10  market_value(X8)                   78682 non-null  float64\n",
      " 11  net_sales(X9)                      78682 non-null  float64\n",
      " 12  total_assets(X10)                  78682 non-null  float64\n",
      " 13  total_long_term_debt(X11)          78682 non-null  float64\n",
      " 14  EBIT(X12)                          78682 non-null  float64\n",
      " 15  gross_profit(X13)                  78682 non-null  float64\n",
      " 16  total_current_liabilities(X14)     78682 non-null  float64\n",
      " 17  retained_earnings(X15)             78682 non-null  float64\n",
      " 18  total_revenue(X16)                 78682 non-null  float64\n",
      " 19  total_liabilities(X17)             78682 non-null  float64\n",
      " 20  total_operating_expenses(X18)      78682 non-null  float64\n",
      "dtypes: float64(18), int64(1), object(2)\n",
      "memory usage: 12.6+ MB\n"
     ]
    }
   ],
   "source": [
    "bankruptcy_df.info()"
   ]
  },
  {
   "cell_type": "code",
   "execution_count": 4,
   "metadata": {
    "colab": {
     "base_uri": "https://localhost:8080/"
    },
    "executionInfo": {
     "elapsed": 265,
     "status": "ok",
     "timestamp": 1696982279881,
     "user": {
      "displayName": "Arun Balaram",
      "userId": "06182482132686253515"
     },
     "user_tz": 240
    },
    "id": "1KQveRCSXJEd",
    "outputId": "c7caa24d-3338-4acc-d228-de45d1af8379"
   },
   "outputs": [
    {
     "data": {
      "text/plain": [
       "company_name                         0\n",
       "status_label                         0\n",
       "year                                 0\n",
       "current_assets(X1)                   0\n",
       "cost_of_goods_sold(X2)               0\n",
       "depreciation_and_amortization(X3)    0\n",
       "EBITDA(X4)                           0\n",
       "inventory(X5)                        0\n",
       "net_income(X6)                       0\n",
       "total_receivables(X7)                0\n",
       "market_value(X8)                     0\n",
       "net_sales(X9)                        0\n",
       "total_assets(X10)                    0\n",
       "total_long_term_debt(X11)            0\n",
       "EBIT(X12)                            0\n",
       "gross_profit(X13)                    0\n",
       "total_current_liabilities(X14)       0\n",
       "retained_earnings(X15)               0\n",
       "total_revenue(X16)                   0\n",
       "total_liabilities(X17)               0\n",
       "total_operating_expenses(X18)        0\n",
       "dtype: int64"
      ]
     },
     "execution_count": 4,
     "metadata": {},
     "output_type": "execute_result"
    }
   ],
   "source": [
    "# Check missing values\n",
    "\n",
    "bankruptcy_df.isnull().sum()"
   ]
  },
  {
   "cell_type": "code",
   "execution_count": 5,
   "metadata": {
    "colab": {
     "base_uri": "https://localhost:8080/"
    },
    "executionInfo": {
     "elapsed": 22,
     "status": "ok",
     "timestamp": 1696982279881,
     "user": {
      "displayName": "Arun Balaram",
      "userId": "06182482132686253515"
     },
     "user_tz": 240
    },
    "id": "Nqc48koAXl5y",
    "outputId": "c2a0d459-8e30-4b85-a2e1-53e9f752a477"
   },
   "outputs": [
    {
     "data": {
      "text/plain": [
       "company_name                          8971\n",
       "status_label                             2\n",
       "year                                    20\n",
       "current_assets(X1)                   65895\n",
       "cost_of_goods_sold(X2)               65690\n",
       "depreciation_and_amortization(X3)    36010\n",
       "EBITDA(X4)                           59060\n",
       "inventory(X5)                        38898\n",
       "net_income(X6)                       55550\n",
       "total_receivables(X7)                49577\n",
       "market_value(X8)                     77580\n",
       "net_sales(X9)                        68596\n",
       "total_assets(X10)                    71521\n",
       "total_long_term_debt(X11)            39741\n",
       "EBIT(X12)                            56949\n",
       "gross_profit(X13)                    64952\n",
       "total_current_liabilities(X14)       58685\n",
       "retained_earnings(X15)               72062\n",
       "total_revenue(X16)                   68596\n",
       "total_liabilities(X17)               64640\n",
       "total_operating_expenses(X18)        70840\n",
       "dtype: int64"
      ]
     },
     "execution_count": 5,
     "metadata": {},
     "output_type": "execute_result"
    }
   ],
   "source": [
    "# Determine the number of unique values in each column.\n",
    "bankruptcy_df.nunique()"
   ]
  },
  {
   "cell_type": "code",
   "execution_count": 6,
   "metadata": {
    "colab": {
     "base_uri": "https://localhost:8080/"
    },
    "executionInfo": {
     "elapsed": 10,
     "status": "ok",
     "timestamp": 1696982279881,
     "user": {
      "displayName": "Arun Balaram",
      "userId": "06182482132686253515"
     },
     "user_tz": 240
    },
    "id": "MfLsgfO7Ygjl",
    "outputId": "1c53ad3c-fab8-4984-ab8f-43175c938518"
   },
   "outputs": [
    {
     "data": {
      "text/plain": [
       "company_name\n",
       "C_4081    20\n",
       "C_6487    20\n",
       "C_1153    20\n",
       "C_4047    20\n",
       "C_4056    20\n",
       "          ..\n",
       "C_1498     1\n",
       "C_5908     1\n",
       "C_2814     1\n",
       "C_3997     1\n",
       "C_3408     1\n",
       "Name: count, Length: 8971, dtype: int64"
      ]
     },
     "execution_count": 6,
     "metadata": {},
     "output_type": "execute_result"
    }
   ],
   "source": [
    "# Look at company_name value counts for binning\n",
    "\n",
    "company_name_counts = bankruptcy_df[\"company_name\"].value_counts()\n",
    "company_name_counts"
   ]
  },
  {
   "cell_type": "code",
   "execution_count": 7,
   "metadata": {
    "colab": {
     "base_uri": "https://localhost:8080/"
    },
    "executionInfo": {
     "elapsed": 28131,
     "status": "ok",
     "timestamp": 1696982308008,
     "user": {
      "displayName": "Arun Balaram",
      "userId": "06182482132686253515"
     },
     "user_tz": 240
    },
    "id": "6SZvBTSrYgpr",
    "outputId": "7d892182-4f87-4de1-abb1-4f13c482f550"
   },
   "outputs": [
    {
     "data": {
      "text/plain": [
       "company_name\n",
       "other    78682\n",
       "Name: count, dtype: int64"
      ]
     },
     "execution_count": 7,
     "metadata": {},
     "output_type": "execute_result"
    }
   ],
   "source": [
    "# Choose a cutoff value and create a list of company_name to be replaced and  use the variable name `company_name_to_replace`\n",
    "\n",
    "cutoff_value = 100\n",
    "company_name_to_replace = company_name_counts[company_name_counts < cutoff_value].index.tolist()\n",
    "\n",
    "# Replace in dataframe\n",
    "for name in company_name_to_replace:\n",
    "    bankruptcy_df['company_name'] =  bankruptcy_df['company_name'].replace(name, \"other\")\n",
    "\n",
    "# Check to make sure binning was successful\n",
    "bankruptcy_df['company_name'].value_counts()"
   ]
  },
  {
   "cell_type": "code",
   "execution_count": 8,
   "metadata": {
    "executionInfo": {
     "elapsed": 17,
     "status": "ok",
     "timestamp": 1696982308009,
     "user": {
      "displayName": "Arun Balaram",
      "userId": "06182482132686253515"
     },
     "user_tz": 240
    },
    "id": "R4pwlYAuYgsn"
   },
   "outputs": [],
   "source": [
    "# Apply one-hot encoding to the `company_name`\n",
    "\n",
    "bankruptcy_df = pd.get_dummies(bankruptcy_df, columns=['company_name'])\n"
   ]
  },
  {
   "cell_type": "code",
   "execution_count": 9,
   "metadata": {
    "executionInfo": {
     "elapsed": 11,
     "status": "ok",
     "timestamp": 1696982308009,
     "user": {
      "displayName": "Arun Balaram",
      "userId": "06182482132686253515"
     },
     "user_tz": 240
    },
    "id": "iml-1xezk4Qo"
   },
   "outputs": [],
   "source": [
    "# Convert the status_label column to binary numeric values, with 'alive' represented as 1 and 'failed' as 0\n",
    "bankruptcy_df['status_label'] = bankruptcy_df['status_label'].apply(lambda x: 1 if x == 'alive' else 0)\n"
   ]
  },
  {
   "cell_type": "code",
   "execution_count": 10,
   "metadata": {
    "colab": {
     "base_uri": "https://localhost:8080/",
     "height": 718
    },
    "executionInfo": {
     "elapsed": 567,
     "status": "ok",
     "timestamp": 1696986529008,
     "user": {
      "displayName": "Arun Balaram",
      "userId": "06182482132686253515"
     },
     "user_tz": 240
    },
    "id": "4ULwyPl2YgvU",
    "outputId": "a6dab132-d0fd-4f74-85d0-65fc537795ba"
   },
   "outputs": [
    {
     "data": {
      "text/html": [
       "<div>\n",
       "<style scoped>\n",
       "    .dataframe tbody tr th:only-of-type {\n",
       "        vertical-align: middle;\n",
       "    }\n",
       "\n",
       "    .dataframe tbody tr th {\n",
       "        vertical-align: top;\n",
       "    }\n",
       "\n",
       "    .dataframe thead th {\n",
       "        text-align: right;\n",
       "    }\n",
       "</style>\n",
       "<table border=\"1\" class=\"dataframe\">\n",
       "  <thead>\n",
       "    <tr style=\"text-align: right;\">\n",
       "      <th></th>\n",
       "      <th>status_label</th>\n",
       "      <th>year</th>\n",
       "      <th>current_assets(X1)</th>\n",
       "      <th>cost_of_goods_sold(X2)</th>\n",
       "      <th>depreciation_and_amortization(X3)</th>\n",
       "      <th>EBITDA(X4)</th>\n",
       "      <th>inventory(X5)</th>\n",
       "      <th>net_income(X6)</th>\n",
       "      <th>total_receivables(X7)</th>\n",
       "      <th>market_value(X8)</th>\n",
       "      <th>...</th>\n",
       "      <th>total_assets(X10)</th>\n",
       "      <th>total_long_term_debt(X11)</th>\n",
       "      <th>EBIT(X12)</th>\n",
       "      <th>gross_profit(X13)</th>\n",
       "      <th>total_current_liabilities(X14)</th>\n",
       "      <th>retained_earnings(X15)</th>\n",
       "      <th>total_revenue(X16)</th>\n",
       "      <th>total_liabilities(X17)</th>\n",
       "      <th>total_operating_expenses(X18)</th>\n",
       "      <th>company_name_other</th>\n",
       "    </tr>\n",
       "  </thead>\n",
       "  <tbody>\n",
       "    <tr>\n",
       "      <th>78662</th>\n",
       "      <td>1</td>\n",
       "      <td>2014</td>\n",
       "      <td>58.314</td>\n",
       "      <td>1.833</td>\n",
       "      <td>0.656</td>\n",
       "      <td>-45.934</td>\n",
       "      <td>5.488</td>\n",
       "      <td>-48.205</td>\n",
       "      <td>0.470</td>\n",
       "      <td>17.0644</td>\n",
       "      <td>...</td>\n",
       "      <td>59.500</td>\n",
       "      <td>0.000</td>\n",
       "      <td>-46.590</td>\n",
       "      <td>0.995</td>\n",
       "      <td>9.143</td>\n",
       "      <td>-199.926</td>\n",
       "      <td>2.828</td>\n",
       "      <td>9.322</td>\n",
       "      <td>48.762</td>\n",
       "      <td>True</td>\n",
       "    </tr>\n",
       "    <tr>\n",
       "      <th>78663</th>\n",
       "      <td>1</td>\n",
       "      <td>2015</td>\n",
       "      <td>21.381</td>\n",
       "      <td>4.972</td>\n",
       "      <td>0.486</td>\n",
       "      <td>-33.631</td>\n",
       "      <td>1.025</td>\n",
       "      <td>-35.161</td>\n",
       "      <td>0.040</td>\n",
       "      <td>0.1996</td>\n",
       "      <td>...</td>\n",
       "      <td>21.782</td>\n",
       "      <td>0.003</td>\n",
       "      <td>-34.117</td>\n",
       "      <td>-3.656</td>\n",
       "      <td>3.521</td>\n",
       "      <td>-235.087</td>\n",
       "      <td>1.316</td>\n",
       "      <td>3.524</td>\n",
       "      <td>34.947</td>\n",
       "      <td>True</td>\n",
       "    </tr>\n",
       "    <tr>\n",
       "      <th>78664</th>\n",
       "      <td>1</td>\n",
       "      <td>2016</td>\n",
       "      <td>9.049</td>\n",
       "      <td>1.077</td>\n",
       "      <td>0.190</td>\n",
       "      <td>-12.783</td>\n",
       "      <td>0.213</td>\n",
       "      <td>-13.116</td>\n",
       "      <td>0.030</td>\n",
       "      <td>0.1309</td>\n",
       "      <td>...</td>\n",
       "      <td>9.198</td>\n",
       "      <td>0.000</td>\n",
       "      <td>-12.973</td>\n",
       "      <td>-0.532</td>\n",
       "      <td>2.391</td>\n",
       "      <td>-248.203</td>\n",
       "      <td>0.545</td>\n",
       "      <td>2.408</td>\n",
       "      <td>13.328</td>\n",
       "      <td>True</td>\n",
       "    </tr>\n",
       "    <tr>\n",
       "      <th>78665</th>\n",
       "      <td>1</td>\n",
       "      <td>2017</td>\n",
       "      <td>3.369</td>\n",
       "      <td>0.208</td>\n",
       "      <td>0.057</td>\n",
       "      <td>-10.647</td>\n",
       "      <td>0.000</td>\n",
       "      <td>-10.890</td>\n",
       "      <td>0.040</td>\n",
       "      <td>0.2231</td>\n",
       "      <td>...</td>\n",
       "      <td>3.466</td>\n",
       "      <td>0.000</td>\n",
       "      <td>-10.704</td>\n",
       "      <td>-0.155</td>\n",
       "      <td>7.152</td>\n",
       "      <td>-259.121</td>\n",
       "      <td>0.053</td>\n",
       "      <td>7.181</td>\n",
       "      <td>10.700</td>\n",
       "      <td>True</td>\n",
       "    </tr>\n",
       "    <tr>\n",
       "      <th>78666</th>\n",
       "      <td>1</td>\n",
       "      <td>2014</td>\n",
       "      <td>1578.400</td>\n",
       "      <td>324.400</td>\n",
       "      <td>86.700</td>\n",
       "      <td>211.600</td>\n",
       "      <td>205.800</td>\n",
       "      <td>-29.900</td>\n",
       "      <td>327.300</td>\n",
       "      <td>4227.5957</td>\n",
       "      <td>...</td>\n",
       "      <td>4557.600</td>\n",
       "      <td>1400.800</td>\n",
       "      <td>124.900</td>\n",
       "      <td>518.800</td>\n",
       "      <td>242.600</td>\n",
       "      <td>-354.700</td>\n",
       "      <td>843.200</td>\n",
       "      <td>2005.000</td>\n",
       "      <td>631.600</td>\n",
       "      <td>True</td>\n",
       "    </tr>\n",
       "    <tr>\n",
       "      <th>78667</th>\n",
       "      <td>1</td>\n",
       "      <td>2015</td>\n",
       "      <td>2270.500</td>\n",
       "      <td>1216.700</td>\n",
       "      <td>250.900</td>\n",
       "      <td>524.000</td>\n",
       "      <td>517.500</td>\n",
       "      <td>-308.600</td>\n",
       "      <td>1148.000</td>\n",
       "      <td>2944.0231</td>\n",
       "      <td>...</td>\n",
       "      <td>10190.200</td>\n",
       "      <td>5173.600</td>\n",
       "      <td>273.100</td>\n",
       "      <td>1325.600</td>\n",
       "      <td>1062.400</td>\n",
       "      <td>-1418.800</td>\n",
       "      <td>2542.300</td>\n",
       "      <td>7271.000</td>\n",
       "      <td>2018.300</td>\n",
       "      <td>True</td>\n",
       "    </tr>\n",
       "    <tr>\n",
       "      <th>78668</th>\n",
       "      <td>1</td>\n",
       "      <td>2016</td>\n",
       "      <td>2071.200</td>\n",
       "      <td>1723.300</td>\n",
       "      <td>342.300</td>\n",
       "      <td>723.600</td>\n",
       "      <td>416.400</td>\n",
       "      <td>-73.700</td>\n",
       "      <td>1054.800</td>\n",
       "      <td>2788.2080</td>\n",
       "      <td>...</td>\n",
       "      <td>10054.100</td>\n",
       "      <td>5122.900</td>\n",
       "      <td>381.300</td>\n",
       "      <td>1862.600</td>\n",
       "      <td>1082.700</td>\n",
       "      <td>-1248.000</td>\n",
       "      <td>3585.900</td>\n",
       "      <td>7164.300</td>\n",
       "      <td>2862.300</td>\n",
       "      <td>True</td>\n",
       "    </tr>\n",
       "    <tr>\n",
       "      <th>78669</th>\n",
       "      <td>1</td>\n",
       "      <td>2017</td>\n",
       "      <td>2340.600</td>\n",
       "      <td>1833.200</td>\n",
       "      <td>354.200</td>\n",
       "      <td>758.100</td>\n",
       "      <td>490.400</td>\n",
       "      <td>-296.200</td>\n",
       "      <td>1156.000</td>\n",
       "      <td>2850.9981</td>\n",
       "      <td>...</td>\n",
       "      <td>10252.400</td>\n",
       "      <td>5440.600</td>\n",
       "      <td>403.900</td>\n",
       "      <td>1942.700</td>\n",
       "      <td>1091.800</td>\n",
       "      <td>-1291.700</td>\n",
       "      <td>3775.900</td>\n",
       "      <td>7392.400</td>\n",
       "      <td>3017.800</td>\n",
       "      <td>True</td>\n",
       "    </tr>\n",
       "    <tr>\n",
       "      <th>78670</th>\n",
       "      <td>1</td>\n",
       "      <td>2018</td>\n",
       "      <td>2482.200</td>\n",
       "      <td>966.700</td>\n",
       "      <td>156.600</td>\n",
       "      <td>412.700</td>\n",
       "      <td>188.100</td>\n",
       "      <td>-324.400</td>\n",
       "      <td>382.400</td>\n",
       "      <td>2985.1014</td>\n",
       "      <td>...</td>\n",
       "      <td>9401.500</td>\n",
       "      <td>5350.700</td>\n",
       "      <td>256.100</td>\n",
       "      <td>994.300</td>\n",
       "      <td>1142.500</td>\n",
       "      <td>-1952.300</td>\n",
       "      <td>1961.000</td>\n",
       "      <td>7220.400</td>\n",
       "      <td>1548.300</td>\n",
       "      <td>True</td>\n",
       "    </tr>\n",
       "    <tr>\n",
       "      <th>78671</th>\n",
       "      <td>1</td>\n",
       "      <td>2013</td>\n",
       "      <td>923.200</td>\n",
       "      <td>1206.000</td>\n",
       "      <td>45.600</td>\n",
       "      <td>409.000</td>\n",
       "      <td>314.600</td>\n",
       "      <td>31.000</td>\n",
       "      <td>266.100</td>\n",
       "      <td>4243.5215</td>\n",
       "      <td>...</td>\n",
       "      <td>1979.900</td>\n",
       "      <td>1272.000</td>\n",
       "      <td>363.400</td>\n",
       "      <td>887.500</td>\n",
       "      <td>490.500</td>\n",
       "      <td>-96.200</td>\n",
       "      <td>2093.500</td>\n",
       "      <td>2035.600</td>\n",
       "      <td>1684.500</td>\n",
       "      <td>True</td>\n",
       "    </tr>\n",
       "    <tr>\n",
       "      <th>78672</th>\n",
       "      <td>1</td>\n",
       "      <td>2014</td>\n",
       "      <td>973.800</td>\n",
       "      <td>1185.500</td>\n",
       "      <td>44.000</td>\n",
       "      <td>439.300</td>\n",
       "      <td>360.600</td>\n",
       "      <td>175.200</td>\n",
       "      <td>259.900</td>\n",
       "      <td>5314.7873</td>\n",
       "      <td>...</td>\n",
       "      <td>2015.900</td>\n",
       "      <td>1215.000</td>\n",
       "      <td>395.300</td>\n",
       "      <td>932.800</td>\n",
       "      <td>531.300</td>\n",
       "      <td>-5.800</td>\n",
       "      <td>2118.300</td>\n",
       "      <td>1997.400</td>\n",
       "      <td>1679.000</td>\n",
       "      <td>True</td>\n",
       "    </tr>\n",
       "    <tr>\n",
       "      <th>78673</th>\n",
       "      <td>1</td>\n",
       "      <td>2015</td>\n",
       "      <td>735.100</td>\n",
       "      <td>1132.900</td>\n",
       "      <td>48.300</td>\n",
       "      <td>444.100</td>\n",
       "      <td>204.100</td>\n",
       "      <td>153.900</td>\n",
       "      <td>303.400</td>\n",
       "      <td>6327.7267</td>\n",
       "      <td>...</td>\n",
       "      <td>2285.300</td>\n",
       "      <td>1479.800</td>\n",
       "      <td>395.800</td>\n",
       "      <td>935.200</td>\n",
       "      <td>447.100</td>\n",
       "      <td>0.200</td>\n",
       "      <td>2068.100</td>\n",
       "      <td>2255.600</td>\n",
       "      <td>1624.000</td>\n",
       "      <td>True</td>\n",
       "    </tr>\n",
       "    <tr>\n",
       "      <th>78674</th>\n",
       "      <td>1</td>\n",
       "      <td>2016</td>\n",
       "      <td>829.300</td>\n",
       "      <td>1190.400</td>\n",
       "      <td>61.400</td>\n",
       "      <td>490.000</td>\n",
       "      <td>220.600</td>\n",
       "      <td>229.100</td>\n",
       "      <td>271.900</td>\n",
       "      <td>6097.5360</td>\n",
       "      <td>...</td>\n",
       "      <td>2247.400</td>\n",
       "      <td>1415.600</td>\n",
       "      <td>428.600</td>\n",
       "      <td>1047.600</td>\n",
       "      <td>429.600</td>\n",
       "      <td>112.300</td>\n",
       "      <td>2238.000</td>\n",
       "      <td>2131.000</td>\n",
       "      <td>1748.000</td>\n",
       "      <td>True</td>\n",
       "    </tr>\n",
       "    <tr>\n",
       "      <th>78675</th>\n",
       "      <td>1</td>\n",
       "      <td>2017</td>\n",
       "      <td>1032.700</td>\n",
       "      <td>1269.600</td>\n",
       "      <td>62.100</td>\n",
       "      <td>567.300</td>\n",
       "      <td>239.800</td>\n",
       "      <td>273.300</td>\n",
       "      <td>308.800</td>\n",
       "      <td>7563.1327</td>\n",
       "      <td>...</td>\n",
       "      <td>2542.000</td>\n",
       "      <td>1442.300</td>\n",
       "      <td>505.200</td>\n",
       "      <td>1138.600</td>\n",
       "      <td>460.800</td>\n",
       "      <td>391.500</td>\n",
       "      <td>2408.200</td>\n",
       "      <td>2136.500</td>\n",
       "      <td>1840.900</td>\n",
       "      <td>True</td>\n",
       "    </tr>\n",
       "    <tr>\n",
       "      <th>78676</th>\n",
       "      <td>1</td>\n",
       "      <td>2018</td>\n",
       "      <td>931.600</td>\n",
       "      <td>1475.900</td>\n",
       "      <td>82.500</td>\n",
       "      <td>619.000</td>\n",
       "      <td>280.300</td>\n",
       "      <td>434.900</td>\n",
       "      <td>340.300</td>\n",
       "      <td>7543.5153</td>\n",
       "      <td>...</td>\n",
       "      <td>2810.200</td>\n",
       "      <td>1409.500</td>\n",
       "      <td>536.500</td>\n",
       "      <td>1255.800</td>\n",
       "      <td>520.800</td>\n",
       "      <td>650.100</td>\n",
       "      <td>2731.700</td>\n",
       "      <td>2156.200</td>\n",
       "      <td>2112.700</td>\n",
       "      <td>True</td>\n",
       "    </tr>\n",
       "    <tr>\n",
       "      <th>78677</th>\n",
       "      <td>1</td>\n",
       "      <td>2014</td>\n",
       "      <td>233.211</td>\n",
       "      <td>43.338</td>\n",
       "      <td>14.094</td>\n",
       "      <td>45.615</td>\n",
       "      <td>3.376</td>\n",
       "      <td>25.261</td>\n",
       "      <td>22.846</td>\n",
       "      <td>756.4827</td>\n",
       "      <td>...</td>\n",
       "      <td>1099.101</td>\n",
       "      <td>184.666</td>\n",
       "      <td>31.521</td>\n",
       "      <td>60.885</td>\n",
       "      <td>28.197</td>\n",
       "      <td>28.095</td>\n",
       "      <td>104.223</td>\n",
       "      <td>225.887</td>\n",
       "      <td>58.608</td>\n",
       "      <td>True</td>\n",
       "    </tr>\n",
       "    <tr>\n",
       "      <th>78678</th>\n",
       "      <td>1</td>\n",
       "      <td>2015</td>\n",
       "      <td>105.559</td>\n",
       "      <td>59.184</td>\n",
       "      <td>42.592</td>\n",
       "      <td>202.133</td>\n",
       "      <td>2.288</td>\n",
       "      <td>129.688</td>\n",
       "      <td>54.611</td>\n",
       "      <td>527.5750</td>\n",
       "      <td>...</td>\n",
       "      <td>1865.926</td>\n",
       "      <td>770.103</td>\n",
       "      <td>159.541</td>\n",
       "      <td>231.969</td>\n",
       "      <td>88.128</td>\n",
       "      <td>157.783</td>\n",
       "      <td>291.153</td>\n",
       "      <td>880.327</td>\n",
       "      <td>89.020</td>\n",
       "      <td>True</td>\n",
       "    </tr>\n",
       "    <tr>\n",
       "      <th>78679</th>\n",
       "      <td>1</td>\n",
       "      <td>2016</td>\n",
       "      <td>63.971</td>\n",
       "      <td>69.074</td>\n",
       "      <td>65.057</td>\n",
       "      <td>79.051</td>\n",
       "      <td>2.581</td>\n",
       "      <td>-1.442</td>\n",
       "      <td>42.467</td>\n",
       "      <td>578.8868</td>\n",
       "      <td>...</td>\n",
       "      <td>1746.235</td>\n",
       "      <td>683.985</td>\n",
       "      <td>13.994</td>\n",
       "      <td>100.784</td>\n",
       "      <td>85.765</td>\n",
       "      <td>156.341</td>\n",
       "      <td>169.858</td>\n",
       "      <td>770.233</td>\n",
       "      <td>90.807</td>\n",
       "      <td>True</td>\n",
       "    </tr>\n",
       "    <tr>\n",
       "      <th>78680</th>\n",
       "      <td>1</td>\n",
       "      <td>2017</td>\n",
       "      <td>135.207</td>\n",
       "      <td>66.527</td>\n",
       "      <td>65.330</td>\n",
       "      <td>69.171</td>\n",
       "      <td>2.013</td>\n",
       "      <td>-20.401</td>\n",
       "      <td>27.217</td>\n",
       "      <td>412.6241</td>\n",
       "      <td>...</td>\n",
       "      <td>1736.110</td>\n",
       "      <td>694.035</td>\n",
       "      <td>3.841</td>\n",
       "      <td>95.357</td>\n",
       "      <td>82.010</td>\n",
       "      <td>135.941</td>\n",
       "      <td>161.884</td>\n",
       "      <td>776.697</td>\n",
       "      <td>92.713</td>\n",
       "      <td>True</td>\n",
       "    </tr>\n",
       "    <tr>\n",
       "      <th>78681</th>\n",
       "      <td>1</td>\n",
       "      <td>2018</td>\n",
       "      <td>82.589</td>\n",
       "      <td>68.817</td>\n",
       "      <td>65.201</td>\n",
       "      <td>67.262</td>\n",
       "      <td>2.112</td>\n",
       "      <td>-50.946</td>\n",
       "      <td>45.839</td>\n",
       "      <td>354.1786</td>\n",
       "      <td>...</td>\n",
       "      <td>1625.370</td>\n",
       "      <td>632.122</td>\n",
       "      <td>2.061</td>\n",
       "      <td>91.696</td>\n",
       "      <td>79.365</td>\n",
       "      <td>84.995</td>\n",
       "      <td>160.513</td>\n",
       "      <td>712.687</td>\n",
       "      <td>93.251</td>\n",
       "      <td>True</td>\n",
       "    </tr>\n",
       "  </tbody>\n",
       "</table>\n",
       "<p>20 rows × 21 columns</p>\n",
       "</div>"
      ],
      "text/plain": [
       "       status_label  year  current_assets(X1)  cost_of_goods_sold(X2)  \\\n",
       "78662             1  2014              58.314                   1.833   \n",
       "78663             1  2015              21.381                   4.972   \n",
       "78664             1  2016               9.049                   1.077   \n",
       "78665             1  2017               3.369                   0.208   \n",
       "78666             1  2014            1578.400                 324.400   \n",
       "78667             1  2015            2270.500                1216.700   \n",
       "78668             1  2016            2071.200                1723.300   \n",
       "78669             1  2017            2340.600                1833.200   \n",
       "78670             1  2018            2482.200                 966.700   \n",
       "78671             1  2013             923.200                1206.000   \n",
       "78672             1  2014             973.800                1185.500   \n",
       "78673             1  2015             735.100                1132.900   \n",
       "78674             1  2016             829.300                1190.400   \n",
       "78675             1  2017            1032.700                1269.600   \n",
       "78676             1  2018             931.600                1475.900   \n",
       "78677             1  2014             233.211                  43.338   \n",
       "78678             1  2015             105.559                  59.184   \n",
       "78679             1  2016              63.971                  69.074   \n",
       "78680             1  2017             135.207                  66.527   \n",
       "78681             1  2018              82.589                  68.817   \n",
       "\n",
       "       depreciation_and_amortization(X3)  EBITDA(X4)  inventory(X5)  \\\n",
       "78662                              0.656     -45.934          5.488   \n",
       "78663                              0.486     -33.631          1.025   \n",
       "78664                              0.190     -12.783          0.213   \n",
       "78665                              0.057     -10.647          0.000   \n",
       "78666                             86.700     211.600        205.800   \n",
       "78667                            250.900     524.000        517.500   \n",
       "78668                            342.300     723.600        416.400   \n",
       "78669                            354.200     758.100        490.400   \n",
       "78670                            156.600     412.700        188.100   \n",
       "78671                             45.600     409.000        314.600   \n",
       "78672                             44.000     439.300        360.600   \n",
       "78673                             48.300     444.100        204.100   \n",
       "78674                             61.400     490.000        220.600   \n",
       "78675                             62.100     567.300        239.800   \n",
       "78676                             82.500     619.000        280.300   \n",
       "78677                             14.094      45.615          3.376   \n",
       "78678                             42.592     202.133          2.288   \n",
       "78679                             65.057      79.051          2.581   \n",
       "78680                             65.330      69.171          2.013   \n",
       "78681                             65.201      67.262          2.112   \n",
       "\n",
       "       net_income(X6)  total_receivables(X7)  market_value(X8)  ...  \\\n",
       "78662         -48.205                  0.470           17.0644  ...   \n",
       "78663         -35.161                  0.040            0.1996  ...   \n",
       "78664         -13.116                  0.030            0.1309  ...   \n",
       "78665         -10.890                  0.040            0.2231  ...   \n",
       "78666         -29.900                327.300         4227.5957  ...   \n",
       "78667        -308.600               1148.000         2944.0231  ...   \n",
       "78668         -73.700               1054.800         2788.2080  ...   \n",
       "78669        -296.200               1156.000         2850.9981  ...   \n",
       "78670        -324.400                382.400         2985.1014  ...   \n",
       "78671          31.000                266.100         4243.5215  ...   \n",
       "78672         175.200                259.900         5314.7873  ...   \n",
       "78673         153.900                303.400         6327.7267  ...   \n",
       "78674         229.100                271.900         6097.5360  ...   \n",
       "78675         273.300                308.800         7563.1327  ...   \n",
       "78676         434.900                340.300         7543.5153  ...   \n",
       "78677          25.261                 22.846          756.4827  ...   \n",
       "78678         129.688                 54.611          527.5750  ...   \n",
       "78679          -1.442                 42.467          578.8868  ...   \n",
       "78680         -20.401                 27.217          412.6241  ...   \n",
       "78681         -50.946                 45.839          354.1786  ...   \n",
       "\n",
       "       total_assets(X10)  total_long_term_debt(X11)  EBIT(X12)  \\\n",
       "78662             59.500                      0.000    -46.590   \n",
       "78663             21.782                      0.003    -34.117   \n",
       "78664              9.198                      0.000    -12.973   \n",
       "78665              3.466                      0.000    -10.704   \n",
       "78666           4557.600                   1400.800    124.900   \n",
       "78667          10190.200                   5173.600    273.100   \n",
       "78668          10054.100                   5122.900    381.300   \n",
       "78669          10252.400                   5440.600    403.900   \n",
       "78670           9401.500                   5350.700    256.100   \n",
       "78671           1979.900                   1272.000    363.400   \n",
       "78672           2015.900                   1215.000    395.300   \n",
       "78673           2285.300                   1479.800    395.800   \n",
       "78674           2247.400                   1415.600    428.600   \n",
       "78675           2542.000                   1442.300    505.200   \n",
       "78676           2810.200                   1409.500    536.500   \n",
       "78677           1099.101                    184.666     31.521   \n",
       "78678           1865.926                    770.103    159.541   \n",
       "78679           1746.235                    683.985     13.994   \n",
       "78680           1736.110                    694.035      3.841   \n",
       "78681           1625.370                    632.122      2.061   \n",
       "\n",
       "       gross_profit(X13)  total_current_liabilities(X14)  \\\n",
       "78662              0.995                           9.143   \n",
       "78663             -3.656                           3.521   \n",
       "78664             -0.532                           2.391   \n",
       "78665             -0.155                           7.152   \n",
       "78666            518.800                         242.600   \n",
       "78667           1325.600                        1062.400   \n",
       "78668           1862.600                        1082.700   \n",
       "78669           1942.700                        1091.800   \n",
       "78670            994.300                        1142.500   \n",
       "78671            887.500                         490.500   \n",
       "78672            932.800                         531.300   \n",
       "78673            935.200                         447.100   \n",
       "78674           1047.600                         429.600   \n",
       "78675           1138.600                         460.800   \n",
       "78676           1255.800                         520.800   \n",
       "78677             60.885                          28.197   \n",
       "78678            231.969                          88.128   \n",
       "78679            100.784                          85.765   \n",
       "78680             95.357                          82.010   \n",
       "78681             91.696                          79.365   \n",
       "\n",
       "       retained_earnings(X15)  total_revenue(X16)  total_liabilities(X17)  \\\n",
       "78662                -199.926               2.828                   9.322   \n",
       "78663                -235.087               1.316                   3.524   \n",
       "78664                -248.203               0.545                   2.408   \n",
       "78665                -259.121               0.053                   7.181   \n",
       "78666                -354.700             843.200                2005.000   \n",
       "78667               -1418.800            2542.300                7271.000   \n",
       "78668               -1248.000            3585.900                7164.300   \n",
       "78669               -1291.700            3775.900                7392.400   \n",
       "78670               -1952.300            1961.000                7220.400   \n",
       "78671                 -96.200            2093.500                2035.600   \n",
       "78672                  -5.800            2118.300                1997.400   \n",
       "78673                   0.200            2068.100                2255.600   \n",
       "78674                 112.300            2238.000                2131.000   \n",
       "78675                 391.500            2408.200                2136.500   \n",
       "78676                 650.100            2731.700                2156.200   \n",
       "78677                  28.095             104.223                 225.887   \n",
       "78678                 157.783             291.153                 880.327   \n",
       "78679                 156.341             169.858                 770.233   \n",
       "78680                 135.941             161.884                 776.697   \n",
       "78681                  84.995             160.513                 712.687   \n",
       "\n",
       "       total_operating_expenses(X18)  company_name_other  \n",
       "78662                         48.762                True  \n",
       "78663                         34.947                True  \n",
       "78664                         13.328                True  \n",
       "78665                         10.700                True  \n",
       "78666                        631.600                True  \n",
       "78667                       2018.300                True  \n",
       "78668                       2862.300                True  \n",
       "78669                       3017.800                True  \n",
       "78670                       1548.300                True  \n",
       "78671                       1684.500                True  \n",
       "78672                       1679.000                True  \n",
       "78673                       1624.000                True  \n",
       "78674                       1748.000                True  \n",
       "78675                       1840.900                True  \n",
       "78676                       2112.700                True  \n",
       "78677                         58.608                True  \n",
       "78678                         89.020                True  \n",
       "78679                         90.807                True  \n",
       "78680                         92.713                True  \n",
       "78681                         93.251                True  \n",
       "\n",
       "[20 rows x 21 columns]"
      ]
     },
     "execution_count": 10,
     "metadata": {},
     "output_type": "execute_result"
    }
   ],
   "source": [
    "bankruptcy_df.tail(20)"
   ]
  },
  {
   "cell_type": "markdown",
   "metadata": {
    "id": "CcnDr9Vlenvr"
   },
   "source": [
    "Here,\n",
    "'company_name' represents the name of the company. We've applied binning and one-hot encoding to this column to reduce the number of unique values and transform it into a format suitable for modeling.\n",
    "\n",
    "'status_label', the target variable of the data set.\n",
    "\n",
    "'year', the column to split the data into training, test and verification sets.\n",
    "\n",
    "'X1' - 'X18', the 18 predictor variables."
   ]
  },
  {
   "cell_type": "code",
   "execution_count": 11,
   "metadata": {
    "executionInfo": {
     "elapsed": 284,
     "status": "ok",
     "timestamp": 1696982308286,
     "user": {
      "displayName": "Arun Balaram",
      "userId": "06182482132686253515"
     },
     "user_tz": 240
    },
    "id": "7i_thkFNYg0q"
   },
   "outputs": [],
   "source": [
    "# Split our preprocessed data into our features and target arrays\n",
    "X = bankruptcy_df.drop(columns='status_label', axis=1)\n",
    "y = bankruptcy_df[\"status_label\"]\n",
    "\n",
    "# Split the preprocessed data into a training and testing dataset\n",
    "X_train, X_test, y_train, y_test = train_test_split(X, y, test_size=0.2, random_state=42)\n"
   ]
  },
  {
   "cell_type": "code",
   "execution_count": 12,
   "metadata": {
    "executionInfo": {
     "elapsed": 13,
     "status": "ok",
     "timestamp": 1696982308287,
     "user": {
      "displayName": "Arun Balaram",
      "userId": "06182482132686253515"
     },
     "user_tz": 240
    },
    "id": "e9-eYMRmYg3P"
   },
   "outputs": [],
   "source": [
    "# Create a StandardScaler instances\n",
    "scaler = StandardScaler()\n",
    "\n",
    "# Fit the StandardScaler\n",
    "X_scaler = scaler.fit(X_train)\n",
    "\n",
    "# Scale the data\n",
    "X_train_scaled = X_scaler.transform(X_train)\n",
    "X_test_scaled = X_scaler.transform(X_test)"
   ]
  },
  {
   "cell_type": "markdown",
   "metadata": {
    "id": "cwo8HiWAgk4Q"
   },
   "source": [
    "# Compile, Train and Evaluate the Model"
   ]
  },
  {
   "cell_type": "code",
   "execution_count": 13,
   "metadata": {
    "colab": {
     "base_uri": "https://localhost:8080/"
    },
    "executionInfo": {
     "elapsed": 251,
     "status": "ok",
     "timestamp": 1696982308529,
     "user": {
      "displayName": "Arun Balaram",
      "userId": "06182482132686253515"
     },
     "user_tz": 240
    },
    "id": "9k8ciAyBYg8k",
    "outputId": "48ff86d0-d337-41fa-9115-2a5ba7ad48e1"
   },
   "outputs": [
    {
     "name": "stdout",
     "output_type": "stream",
     "text": [
      "Model: \"sequential\"\n",
      "_________________________________________________________________\n",
      " Layer (type)                Output Shape              Param #   \n",
      "=================================================================\n",
      " dense (Dense)               (None, 128)               2688      \n",
      "                                                                 \n",
      " dense_1 (Dense)             (None, 64)                8256      \n",
      "                                                                 \n",
      " dense_2 (Dense)             (None, 32)                2080      \n",
      "                                                                 \n",
      " dense_3 (Dense)             (None, 16)                528       \n",
      "                                                                 \n",
      " dense_4 (Dense)             (None, 1)                 17        \n",
      "                                                                 \n",
      "=================================================================\n",
      "Total params: 13569 (53.00 KB)\n",
      "Trainable params: 13569 (53.00 KB)\n",
      "Non-trainable params: 0 (0.00 Byte)\n",
      "_________________________________________________________________\n"
     ]
    }
   ],
   "source": [
    "# Define the model - deep neural net, i.e., the number of input features and hidden nodes for each layer.\n",
    "\n",
    "# Create a sequential model\n",
    "nn = tf.keras.models.Sequential()\n",
    "\n",
    "# Input Layer\n",
    "nn.add(tf.keras.layers.Dense(units=128, activation='relu', input_dim=X_train_scaled.shape[1]))\n",
    "\n",
    "# First Hidden Layer\n",
    "nn.add(tf.keras.layers.Dense(units=64, activation='relu'))\n",
    "\n",
    "# Second Hidden Layer\n",
    "nn.add(tf.keras.layers.Dense(units=32, activation='relu'))\n",
    "\n",
    "# Third Hidden layer\n",
    "nn.add(tf.keras.layers.Dense(units=16, activation='relu'))\n",
    "\n",
    "# Output Layer\n",
    "nn.add(tf.keras.layers.Dense(units=1, activation='sigmoid'))\n",
    "\n",
    "# Check the structure of the model\n",
    "nn.summary()\n"
   ]
  },
  {
   "cell_type": "code",
   "execution_count": 14,
   "metadata": {
    "executionInfo": {
     "elapsed": 4,
     "status": "ok",
     "timestamp": 1696982308530,
     "user": {
      "displayName": "Arun Balaram",
      "userId": "06182482132686253515"
     },
     "user_tz": 240
    },
    "id": "XjgtdNeig7nj"
   },
   "outputs": [],
   "source": [
    "# Compile the model\n",
    "nn.compile(loss='binary_crossentropy', optimizer='adam', metrics=['accuracy'])"
   ]
  },
  {
   "cell_type": "code",
   "execution_count": 15,
   "metadata": {
    "colab": {
     "base_uri": "https://localhost:8080/"
    },
    "executionInfo": {
     "elapsed": 430406,
     "status": "ok",
     "timestamp": 1696982738933,
     "user": {
      "displayName": "Arun Balaram",
      "userId": "06182482132686253515"
     },
     "user_tz": 240
    },
    "id": "4DXlAugxjBt1",
    "outputId": "b0bb4046-97e9-4bd8-f3ec-f9f180b2792e"
   },
   "outputs": [
    {
     "name": "stdout",
     "output_type": "stream",
     "text": [
      "Epoch 1/100\n",
      "1672/1672 [==============================] - 1s 670us/step - loss: 0.2350 - accuracy: 0.9340 - val_loss: 0.2288 - val_accuracy: 0.9324\n",
      "Epoch 2/100\n",
      "1672/1672 [==============================] - 1s 637us/step - loss: 0.2242 - accuracy: 0.9344 - val_loss: 0.2273 - val_accuracy: 0.9317\n",
      "Epoch 3/100\n",
      "1672/1672 [==============================] - 1s 640us/step - loss: 0.2234 - accuracy: 0.9345 - val_loss: 0.2261 - val_accuracy: 0.9330\n",
      "Epoch 4/100\n",
      "1672/1672 [==============================] - 1s 634us/step - loss: 0.2193 - accuracy: 0.9348 - val_loss: 0.2237 - val_accuracy: 0.9334\n",
      "Epoch 5/100\n",
      "1672/1672 [==============================] - 1s 710us/step - loss: 0.2174 - accuracy: 0.9353 - val_loss: 0.2228 - val_accuracy: 0.9329\n",
      "Epoch 6/100\n",
      "1672/1672 [==============================] - 1s 621us/step - loss: 0.2160 - accuracy: 0.9354 - val_loss: 0.2212 - val_accuracy: 0.9334\n",
      "Epoch 7/100\n",
      "1672/1672 [==============================] - 1s 619us/step - loss: 0.2146 - accuracy: 0.9356 - val_loss: 0.2212 - val_accuracy: 0.9330\n",
      "Epoch 8/100\n",
      "1672/1672 [==============================] - 1s 619us/step - loss: 0.2126 - accuracy: 0.9360 - val_loss: 0.2182 - val_accuracy: 0.9331\n",
      "Epoch 9/100\n",
      "1672/1672 [==============================] - 1s 619us/step - loss: 0.2116 - accuracy: 0.9366 - val_loss: 0.2194 - val_accuracy: 0.9335\n",
      "Epoch 10/100\n",
      "1672/1672 [==============================] - 1s 627us/step - loss: 0.2103 - accuracy: 0.9370 - val_loss: 0.2179 - val_accuracy: 0.9330\n",
      "Epoch 11/100\n",
      "1672/1672 [==============================] - 1s 631us/step - loss: 0.2091 - accuracy: 0.9369 - val_loss: 0.2168 - val_accuracy: 0.9336\n",
      "Epoch 12/100\n",
      "1672/1672 [==============================] - 1s 636us/step - loss: 0.2079 - accuracy: 0.9369 - val_loss: 0.2155 - val_accuracy: 0.9347\n",
      "Epoch 13/100\n",
      "1672/1672 [==============================] - 1s 635us/step - loss: 0.2058 - accuracy: 0.9378 - val_loss: 0.2302 - val_accuracy: 0.9331\n",
      "Epoch 14/100\n",
      "1672/1672 [==============================] - 1s 694us/step - loss: 0.2047 - accuracy: 0.9382 - val_loss: 0.2199 - val_accuracy: 0.9332\n",
      "Epoch 15/100\n",
      "1672/1672 [==============================] - 1s 637us/step - loss: 0.2035 - accuracy: 0.9381 - val_loss: 0.2135 - val_accuracy: 0.9347\n",
      "Epoch 16/100\n",
      "1672/1672 [==============================] - 1s 636us/step - loss: 0.2020 - accuracy: 0.9384 - val_loss: 0.2162 - val_accuracy: 0.9337\n",
      "Epoch 17/100\n",
      "1672/1672 [==============================] - 1s 637us/step - loss: 0.2016 - accuracy: 0.9390 - val_loss: 0.2178 - val_accuracy: 0.9338\n",
      "Epoch 18/100\n",
      "1672/1672 [==============================] - 1s 632us/step - loss: 0.1990 - accuracy: 0.9395 - val_loss: 0.2159 - val_accuracy: 0.9329\n",
      "Epoch 19/100\n",
      "1672/1672 [==============================] - 1s 636us/step - loss: 0.1985 - accuracy: 0.9393 - val_loss: 0.2144 - val_accuracy: 0.9349\n",
      "Epoch 20/100\n",
      "1672/1672 [==============================] - 1s 639us/step - loss: 0.1977 - accuracy: 0.9399 - val_loss: 0.2138 - val_accuracy: 0.9335\n",
      "Epoch 21/100\n",
      "1672/1672 [==============================] - 1s 639us/step - loss: 0.1967 - accuracy: 0.9399 - val_loss: 0.2189 - val_accuracy: 0.9339\n",
      "Epoch 22/100\n",
      "1672/1672 [==============================] - 1s 637us/step - loss: 0.1951 - accuracy: 0.9404 - val_loss: 0.2163 - val_accuracy: 0.9327\n",
      "Epoch 23/100\n",
      "1672/1672 [==============================] - 1s 734us/step - loss: 0.1947 - accuracy: 0.9402 - val_loss: 0.2252 - val_accuracy: 0.9349\n",
      "Epoch 24/100\n",
      "1672/1672 [==============================] - 1s 640us/step - loss: 0.1938 - accuracy: 0.9415 - val_loss: 0.2118 - val_accuracy: 0.9353\n",
      "Epoch 25/100\n",
      "1672/1672 [==============================] - 1s 642us/step - loss: 0.1932 - accuracy: 0.9412 - val_loss: 0.2127 - val_accuracy: 0.9349\n",
      "Epoch 26/100\n",
      "1672/1672 [==============================] - 1s 717us/step - loss: 0.1912 - accuracy: 0.9414 - val_loss: 0.2178 - val_accuracy: 0.9348\n",
      "Epoch 27/100\n",
      "1672/1672 [==============================] - 1s 663us/step - loss: 0.1902 - accuracy: 0.9416 - val_loss: 0.2127 - val_accuracy: 0.9350\n",
      "Epoch 28/100\n",
      "1672/1672 [==============================] - 1s 690us/step - loss: 0.1905 - accuracy: 0.9413 - val_loss: 0.2123 - val_accuracy: 0.9355\n",
      "Epoch 29/100\n",
      "1672/1672 [==============================] - 1s 638us/step - loss: 0.1888 - accuracy: 0.9417 - val_loss: 0.2252 - val_accuracy: 0.9300\n",
      "Epoch 30/100\n",
      "1672/1672 [==============================] - 1s 640us/step - loss: 0.1880 - accuracy: 0.9423 - val_loss: 0.2187 - val_accuracy: 0.9352\n",
      "Epoch 31/100\n",
      "1672/1672 [==============================] - 1s 640us/step - loss: 0.1868 - accuracy: 0.9424 - val_loss: 0.2162 - val_accuracy: 0.9358\n",
      "Epoch 32/100\n",
      "1672/1672 [==============================] - 1s 637us/step - loss: 0.1873 - accuracy: 0.9428 - val_loss: 0.2173 - val_accuracy: 0.9355\n",
      "Epoch 33/100\n",
      "1672/1672 [==============================] - 1s 638us/step - loss: 0.1859 - accuracy: 0.9432 - val_loss: 0.2176 - val_accuracy: 0.9335\n",
      "Epoch 34/100\n",
      "1672/1672 [==============================] - 1s 661us/step - loss: 0.1856 - accuracy: 0.9426 - val_loss: 0.2229 - val_accuracy: 0.9358\n",
      "Epoch 35/100\n",
      "1672/1672 [==============================] - 1s 675us/step - loss: 0.1852 - accuracy: 0.9437 - val_loss: 0.2273 - val_accuracy: 0.9339\n",
      "Epoch 36/100\n",
      "1672/1672 [==============================] - 1s 658us/step - loss: 0.1840 - accuracy: 0.9441 - val_loss: 0.2228 - val_accuracy: 0.9361\n",
      "Epoch 37/100\n",
      "1672/1672 [==============================] - 1s 713us/step - loss: 0.1827 - accuracy: 0.9441 - val_loss: 0.2232 - val_accuracy: 0.9362\n",
      "Epoch 38/100\n",
      "1672/1672 [==============================] - 1s 655us/step - loss: 0.1827 - accuracy: 0.9441 - val_loss: 0.2249 - val_accuracy: 0.9333\n",
      "Epoch 39/100\n",
      "1672/1672 [==============================] - 1s 675us/step - loss: 0.1829 - accuracy: 0.9438 - val_loss: 0.2258 - val_accuracy: 0.9341\n",
      "Epoch 40/100\n",
      "1672/1672 [==============================] - 1s 672us/step - loss: 0.1813 - accuracy: 0.9447 - val_loss: 0.2347 - val_accuracy: 0.9335\n",
      "Epoch 41/100\n",
      "1672/1672 [==============================] - 1s 644us/step - loss: 0.1821 - accuracy: 0.9447 - val_loss: 0.2204 - val_accuracy: 0.9345\n",
      "Epoch 42/100\n",
      "1672/1672 [==============================] - 1s 644us/step - loss: 0.1811 - accuracy: 0.9447 - val_loss: 0.2231 - val_accuracy: 0.9342\n",
      "Epoch 43/100\n",
      "1672/1672 [==============================] - 1s 642us/step - loss: 0.1810 - accuracy: 0.9447 - val_loss: 0.2230 - val_accuracy: 0.9352\n",
      "Epoch 44/100\n",
      "1672/1672 [==============================] - 1s 653us/step - loss: 0.1797 - accuracy: 0.9452 - val_loss: 0.2281 - val_accuracy: 0.9347\n",
      "Epoch 45/100\n",
      "1672/1672 [==============================] - 1s 663us/step - loss: 0.1788 - accuracy: 0.9456 - val_loss: 0.2314 - val_accuracy: 0.9359\n",
      "Epoch 46/100\n",
      "1672/1672 [==============================] - 1s 698us/step - loss: 0.1816 - accuracy: 0.9449 - val_loss: 0.2285 - val_accuracy: 0.9349\n",
      "Epoch 47/100\n",
      "1672/1672 [==============================] - 1s 713us/step - loss: 0.1777 - accuracy: 0.9458 - val_loss: 0.2290 - val_accuracy: 0.9355\n",
      "Epoch 48/100\n",
      "1672/1672 [==============================] - 1s 656us/step - loss: 0.1781 - accuracy: 0.9454 - val_loss: 0.2320 - val_accuracy: 0.9351\n",
      "Epoch 49/100\n",
      "1672/1672 [==============================] - 1s 670us/step - loss: 0.1777 - accuracy: 0.9464 - val_loss: 0.2507 - val_accuracy: 0.9340\n",
      "Epoch 50/100\n",
      "1672/1672 [==============================] - 1s 700us/step - loss: 0.1784 - accuracy: 0.9462 - val_loss: 0.2304 - val_accuracy: 0.9357\n",
      "Epoch 51/100\n",
      "1672/1672 [==============================] - 1s 688us/step - loss: 0.1767 - accuracy: 0.9461 - val_loss: 0.2337 - val_accuracy: 0.9360\n",
      "Epoch 52/100\n",
      "1672/1672 [==============================] - 1s 716us/step - loss: 0.1762 - accuracy: 0.9460 - val_loss: 0.2278 - val_accuracy: 0.9344\n",
      "Epoch 53/100\n",
      "1672/1672 [==============================] - 1s 718us/step - loss: 0.1760 - accuracy: 0.9466 - val_loss: 0.2423 - val_accuracy: 0.9350\n",
      "Epoch 54/100\n",
      "1672/1672 [==============================] - 1s 698us/step - loss: 0.1748 - accuracy: 0.9467 - val_loss: 0.2451 - val_accuracy: 0.9350\n",
      "Epoch 55/100\n",
      "1672/1672 [==============================] - 1s 640us/step - loss: 0.1754 - accuracy: 0.9467 - val_loss: 0.2287 - val_accuracy: 0.9354\n",
      "Epoch 56/100\n"
     ]
    },
    {
     "name": "stdout",
     "output_type": "stream",
     "text": [
      "1672/1672 [==============================] - 1s 678us/step - loss: 0.1737 - accuracy: 0.9471 - val_loss: 0.2426 - val_accuracy: 0.9363\n",
      "Epoch 57/100\n",
      "1672/1672 [==============================] - 1s 675us/step - loss: 0.1761 - accuracy: 0.9467 - val_loss: 0.2340 - val_accuracy: 0.9344\n",
      "Epoch 58/100\n",
      "1672/1672 [==============================] - 1s 726us/step - loss: 0.1743 - accuracy: 0.9464 - val_loss: 0.2360 - val_accuracy: 0.9341\n",
      "Epoch 59/100\n",
      "1672/1672 [==============================] - 1s 684us/step - loss: 0.1729 - accuracy: 0.9475 - val_loss: 0.2381 - val_accuracy: 0.9342\n",
      "Epoch 60/100\n",
      "1672/1672 [==============================] - 1s 718us/step - loss: 0.1715 - accuracy: 0.9476 - val_loss: 0.2479 - val_accuracy: 0.9353\n",
      "Epoch 61/100\n",
      "1672/1672 [==============================] - 1s 685us/step - loss: 0.1731 - accuracy: 0.9471 - val_loss: 0.2480 - val_accuracy: 0.9360\n",
      "Epoch 62/100\n",
      "1672/1672 [==============================] - 1s 636us/step - loss: 0.1725 - accuracy: 0.9470 - val_loss: 0.2465 - val_accuracy: 0.9355\n",
      "Epoch 63/100\n",
      "1672/1672 [==============================] - 1s 634us/step - loss: 0.1739 - accuracy: 0.9472 - val_loss: 0.2480 - val_accuracy: 0.9353\n",
      "Epoch 64/100\n",
      "1672/1672 [==============================] - 1s 653us/step - loss: 0.1719 - accuracy: 0.9478 - val_loss: 0.2513 - val_accuracy: 0.9354\n",
      "Epoch 65/100\n",
      "1672/1672 [==============================] - 1s 638us/step - loss: 0.1702 - accuracy: 0.9478 - val_loss: 0.2504 - val_accuracy: 0.9339\n",
      "Epoch 66/100\n",
      "1672/1672 [==============================] - 1s 661us/step - loss: 0.1711 - accuracy: 0.9477 - val_loss: 0.2567 - val_accuracy: 0.9342\n",
      "Epoch 67/100\n",
      "1672/1672 [==============================] - 1s 635us/step - loss: 0.1711 - accuracy: 0.9474 - val_loss: 0.2570 - val_accuracy: 0.9352\n",
      "Epoch 68/100\n",
      "1672/1672 [==============================] - 1s 633us/step - loss: 0.1699 - accuracy: 0.9482 - val_loss: 0.2599 - val_accuracy: 0.9361\n",
      "Epoch 69/100\n",
      "1672/1672 [==============================] - 1s 632us/step - loss: 0.1696 - accuracy: 0.9480 - val_loss: 0.2515 - val_accuracy: 0.9353\n",
      "Epoch 70/100\n",
      "1672/1672 [==============================] - 1s 633us/step - loss: 0.1698 - accuracy: 0.9480 - val_loss: 0.2462 - val_accuracy: 0.9358\n",
      "Epoch 71/100\n",
      "1672/1672 [==============================] - 1s 644us/step - loss: 0.1674 - accuracy: 0.9490 - val_loss: 0.2554 - val_accuracy: 0.9355\n",
      "Epoch 72/100\n",
      "1672/1672 [==============================] - 1s 675us/step - loss: 0.1693 - accuracy: 0.9478 - val_loss: 0.2578 - val_accuracy: 0.9344\n",
      "Epoch 73/100\n",
      "1672/1672 [==============================] - 1s 658us/step - loss: 0.1674 - accuracy: 0.9484 - val_loss: 0.2586 - val_accuracy: 0.9340\n",
      "Epoch 74/100\n",
      "1672/1672 [==============================] - 1s 645us/step - loss: 0.1695 - accuracy: 0.9478 - val_loss: 0.2571 - val_accuracy: 0.9348\n",
      "Epoch 75/100\n",
      "1672/1672 [==============================] - 1s 633us/step - loss: 0.1698 - accuracy: 0.9480 - val_loss: 0.2632 - val_accuracy: 0.9358\n",
      "Epoch 76/100\n",
      "1672/1672 [==============================] - 1s 633us/step - loss: 0.1669 - accuracy: 0.9490 - val_loss: 0.2629 - val_accuracy: 0.9353\n",
      "Epoch 77/100\n",
      "1672/1672 [==============================] - 1s 633us/step - loss: 0.1684 - accuracy: 0.9484 - val_loss: 0.2481 - val_accuracy: 0.9351\n",
      "Epoch 78/100\n",
      "1672/1672 [==============================] - 1s 634us/step - loss: 0.1665 - accuracy: 0.9493 - val_loss: 0.2566 - val_accuracy: 0.9354\n",
      "Epoch 79/100\n",
      "1672/1672 [==============================] - 1s 641us/step - loss: 0.1663 - accuracy: 0.9489 - val_loss: 0.2741 - val_accuracy: 0.9350\n",
      "Epoch 80/100\n",
      "1672/1672 [==============================] - 1s 634us/step - loss: 0.1671 - accuracy: 0.9490 - val_loss: 0.2618 - val_accuracy: 0.9338\n",
      "Epoch 81/100\n",
      "1672/1672 [==============================] - 1s 666us/step - loss: 0.1660 - accuracy: 0.9487 - val_loss: 0.2826 - val_accuracy: 0.9352\n",
      "Epoch 82/100\n",
      "1672/1672 [==============================] - 1s 705us/step - loss: 0.1658 - accuracy: 0.9489 - val_loss: 0.2558 - val_accuracy: 0.9359\n",
      "Epoch 83/100\n",
      "1672/1672 [==============================] - 1s 636us/step - loss: 0.1643 - accuracy: 0.9498 - val_loss: 0.2958 - val_accuracy: 0.9350\n",
      "Epoch 84/100\n",
      "1672/1672 [==============================] - 1s 640us/step - loss: 0.1672 - accuracy: 0.9488 - val_loss: 0.2534 - val_accuracy: 0.9371\n",
      "Epoch 85/100\n",
      "1672/1672 [==============================] - 1s 638us/step - loss: 0.1650 - accuracy: 0.9493 - val_loss: 0.2666 - val_accuracy: 0.9326\n",
      "Epoch 86/100\n",
      "1672/1672 [==============================] - 1s 676us/step - loss: 0.1643 - accuracy: 0.9492 - val_loss: 0.2579 - val_accuracy: 0.9354\n",
      "Epoch 87/100\n",
      "1672/1672 [==============================] - 1s 635us/step - loss: 0.1661 - accuracy: 0.9490 - val_loss: 0.2668 - val_accuracy: 0.9354\n",
      "Epoch 88/100\n",
      "1672/1672 [==============================] - 1s 635us/step - loss: 0.1631 - accuracy: 0.9497 - val_loss: 0.2668 - val_accuracy: 0.9363\n",
      "Epoch 89/100\n",
      "1672/1672 [==============================] - 1s 635us/step - loss: 0.1667 - accuracy: 0.9491 - val_loss: 0.2523 - val_accuracy: 0.9366\n",
      "Epoch 90/100\n",
      "1672/1672 [==============================] - 1s 633us/step - loss: 0.1638 - accuracy: 0.9496 - val_loss: 0.2577 - val_accuracy: 0.9363\n",
      "Epoch 91/100\n",
      "1672/1672 [==============================] - 1s 634us/step - loss: 0.1630 - accuracy: 0.9503 - val_loss: 0.2585 - val_accuracy: 0.9349\n",
      "Epoch 92/100\n",
      "1672/1672 [==============================] - 1s 698us/step - loss: 0.1632 - accuracy: 0.9497 - val_loss: 0.2653 - val_accuracy: 0.9370\n",
      "Epoch 93/100\n",
      "1672/1672 [==============================] - 1s 643us/step - loss: 0.1650 - accuracy: 0.9498 - val_loss: 0.2646 - val_accuracy: 0.9342\n",
      "Epoch 94/100\n",
      "1672/1672 [==============================] - 1s 709us/step - loss: 0.1632 - accuracy: 0.9499 - val_loss: 0.2627 - val_accuracy: 0.9359\n",
      "Epoch 95/100\n",
      "1672/1672 [==============================] - 1s 696us/step - loss: 0.1639 - accuracy: 0.9499 - val_loss: 0.2478 - val_accuracy: 0.9341\n",
      "Epoch 96/100\n",
      "1672/1672 [==============================] - 1s 681us/step - loss: 0.1627 - accuracy: 0.9500 - val_loss: 0.2694 - val_accuracy: 0.9350\n",
      "Epoch 97/100\n",
      "1672/1672 [==============================] - 1s 744us/step - loss: 0.1627 - accuracy: 0.9503 - val_loss: 0.2602 - val_accuracy: 0.9333\n",
      "Epoch 98/100\n",
      "1672/1672 [==============================] - 1s 686us/step - loss: 0.1628 - accuracy: 0.9498 - val_loss: 0.2940 - val_accuracy: 0.9338\n",
      "Epoch 99/100\n",
      "1672/1672 [==============================] - 1s 635us/step - loss: 0.1608 - accuracy: 0.9508 - val_loss: 0.2801 - val_accuracy: 0.9360\n",
      "Epoch 100/100\n",
      "1672/1672 [==============================] - 1s 640us/step - loss: 0.1643 - accuracy: 0.9496 - val_loss: 0.2599 - val_accuracy: 0.9357\n"
     ]
    }
   ],
   "source": [
    "# Train the model\n",
    "fit_model = nn.fit(X_train_scaled,y_train,validation_split=0.15, epochs=100)"
   ]
  },
  {
   "cell_type": "code",
   "execution_count": 20,
   "metadata": {
    "colab": {
     "base_uri": "https://localhost:8080/"
    },
    "executionInfo": {
     "elapsed": 785,
     "status": "ok",
     "timestamp": 1696982739713,
     "user": {
      "displayName": "Arun Balaram",
      "userId": "06182482132686253515"
     },
     "user_tz": 240
    },
    "id": "A1mxydRLjBxi",
    "outputId": "72155505-40c2-4da6-c1e8-74d014a76264"
   },
   "outputs": [
    {
     "name": "stdout",
     "output_type": "stream",
     "text": [
      "492/492 - 1s - loss: 0.2355 - accuracy: 0.9356 - 640ms/epoch - 1ms/step\n",
      "Loss: 0.23546384274959564, Accuracy: 0.9355658888816833\n"
     ]
    }
   ],
   "source": [
    "# Evaluate the model using the test data\n",
    "model_loss, model_accuracy = nn.evaluate(X_test_scaled,y_test,verbose=2)\n",
    "print(f\"Loss: {model_loss}, Accuracy: {model_accuracy}\")"
   ]
  },
  {
   "cell_type": "code",
   "execution_count": 21,
   "metadata": {
    "colab": {
     "base_uri": "https://localhost:8080/",
     "height": 71
    },
    "executionInfo": {
     "elapsed": 7,
     "status": "ok",
     "timestamp": 1696982739713,
     "user": {
      "displayName": "Arun Balaram",
      "userId": "06182482132686253515"
     },
     "user_tz": 240
    },
    "id": "g9L6BwyKjB29",
    "outputId": "04358922-a436-4894-c8ec-40b72de1e53c"
   },
   "outputs": [
    {
     "name": "stderr",
     "output_type": "stream",
     "text": [
      "/usr/local/lib/python3.10/dist-packages/keras/src/engine/training.py:3000: UserWarning: You are saving your model as an HDF5 file via `model.save()`. This file format is considered legacy. We recommend using instead the native Keras format, e.g. `model.save('my_model.keras')`.\n",
      "  saving_api.save_model(\n"
     ]
    },
    {
     "data": {
      "application/javascript": [
       "\n",
       "    async function download(id, filename, size) {\n",
       "      if (!google.colab.kernel.accessAllowed) {\n",
       "        return;\n",
       "      }\n",
       "      const div = document.createElement('div');\n",
       "      const label = document.createElement('label');\n",
       "      label.textContent = `Downloading \"${filename}\": `;\n",
       "      div.appendChild(label);\n",
       "      const progress = document.createElement('progress');\n",
       "      progress.max = size;\n",
       "      div.appendChild(progress);\n",
       "      document.body.appendChild(div);\n",
       "\n",
       "      const buffers = [];\n",
       "      let downloaded = 0;\n",
       "\n",
       "      const channel = await google.colab.kernel.comms.open(id);\n",
       "      // Send a message to notify the kernel that we're ready.\n",
       "      channel.send({})\n",
       "\n",
       "      for await (const message of channel.messages) {\n",
       "        // Send a message to notify the kernel that we're ready.\n",
       "        channel.send({})\n",
       "        if (message.buffers) {\n",
       "          for (const buffer of message.buffers) {\n",
       "            buffers.push(buffer);\n",
       "            downloaded += buffer.byteLength;\n",
       "            progress.value = downloaded;\n",
       "          }\n",
       "        }\n",
       "      }\n",
       "      const blob = new Blob(buffers, {type: 'application/binary'});\n",
       "      const a = document.createElement('a');\n",
       "      a.href = window.URL.createObjectURL(blob);\n",
       "      a.download = filename;\n",
       "      div.appendChild(a);\n",
       "      a.click();\n",
       "      div.remove();\n",
       "    }\n",
       "  "
      ],
      "text/plain": [
       "<IPython.core.display.Javascript object>"
      ]
     },
     "metadata": {},
     "output_type": "display_data"
    },
    {
     "data": {
      "application/javascript": [
       "download(\"download_99c061e1-61f7-4937-9301-eda198b56000\", \"american_company_bankruptcy.h5\", 210672)"
      ],
      "text/plain": [
       "<IPython.core.display.Javascript object>"
      ]
     },
     "metadata": {},
     "output_type": "display_data"
    }
   ],
   "source": [
    "# Save and export the results to an HDF5 file\n",
    "# Export model to HDF5 File\n",
    "\n",
    "from google.colab import files\n",
    "\n",
    "nn.save('/content/american_company_bankruptcy.h5')\n",
    "files.download('/content/american_company_bankruptcy.h5')\n"
   ]
  },
  {
   "cell_type": "markdown",
   "metadata": {
    "id": "9GNvBCA2n54h"
   },
   "source": [
    "# American Company Bankruptcy Analysis:\n",
    "\n",
    "**Overview of the Analysis:**\n",
    "\n",
    "The primary objective of this analysis is to predict future bankruptcy events of companies using various financial metrics and attributes. By leveraging deep learning techniques, we aim to develop a model that can accurately identify companies at risk of bankruptcy, allowing stakeholders to make informed decisions.\n",
    "\n",
    "#### Results:\n",
    "**Data Preprocessing:**\n",
    "\n",
    "**Target Variable(s) for the Model:**\n",
    "\n",
    "**status_label:** This binary variable indicates whether a company is 'alive' or 'failed'.\n",
    "\n",
    "**Features for the Model:**\n",
    "\n",
    "Financial metrics such as:\n",
    "\n",
    "- Current assets (X1)\n",
    "\n",
    "- Cost of goods sold (X2)\n",
    "\n",
    "- Depreciation and amortization (X3)\n",
    "\n",
    "- EBITDA (X4)\n",
    "\n",
    "- Inventory (X5)\n",
    "\n",
    "- Net Income (X6)\n",
    "\n",
    "- Total Receivables (X7)\n",
    "\n",
    "- Market value (X8)\n",
    "\n",
    "- Net sales (X9)\n",
    "\n",
    "- Total assets (X10)\n",
    "\n",
    "- Total Long-term debt (X11)\n",
    "\n",
    "- EBIT (X12)\n",
    "\n",
    "- Total Current Liabilities (X13)\n",
    "\n",
    "- Retained Earnings (X14)\n",
    "\n",
    "- Total Revenue (X15)\n",
    "\n",
    "- Total Liabilities (X16)\n",
    "\n",
    "- Total Operating Expenses (X18).\n",
    "\n",
    "**One-hot encoded \"company_name\".**\n",
    "\n",
    "**Variables to be Removed:**\n",
    "\n",
    "The original **\"company_name\"** column, as it was transformed into a one-hot encoded format.\n",
    "\n",
    "**Compiling, Training, and Evaluating the Model:**\n",
    "\n",
    "**Neural Network Architecture:**\n",
    "Number of Layers: 5 (1 Input, 3 Hidden, 1 Output)\n",
    "\n",
    "**Neurons:**\n",
    "\n",
    "- Input layer: 128 neurons\n",
    "\n",
    "- First hidden layer: 64 neurons\n",
    "\n",
    "- Second hidden layer: 32 neurons\n",
    "\n",
    "- Third hidden layer: 16 neurons\n",
    "\n",
    "- Output layer: 1 neuron\n",
    "\n",
    "**Activation Functions:**\n",
    "- 'relu' for input and hidden layers.\n",
    "- 'sigmoid' for the output layer.\n",
    "\n",
    "**Reason for Architecture Choice:**\n",
    "\n",
    "The choice of neurons and layers was based on the complexity of the dataset. The 'relu' activation function is commonly used in hidden layers because of its efficiency and non-linearity. The 'sigmoid' activation function is suitable for the binary classification task at hand.\n",
    "\n",
    "**Model Performance:**\n",
    "\n",
    "- Loss: 0.2724533975124359\n",
    "- Accuracy: 93.72%\n",
    "\n",
    "**Steps to Increase Model Performance:**\n",
    "\n",
    "The data was scaled using **StandardScaler**.\n",
    "One-hot encoding was applied to categorical variables.\n",
    "The dataset was split into training and testing subsets to evaluate model performance on unseen data.\n",
    "\n",
    "**Summary:**\n",
    "\n",
    "The deep learning model developed for predicting bankruptcy events has shown promising results, with an accuracy rate of approximately 93.72%. The model utilized various financial metrics as features and underwent preprocessing steps such as scaling and one-hot encoding for categorical variables.\n",
    "\n",
    "**Recommendations:**\n",
    "\n",
    "While our deep learning model has shown notable success, introducing ensemble techniques, such as Random Forest, could further enhance its accuracy.Ensemble methods often provide robust predictions by combining multiple models' outputs. Moreover, techniques like feature importance from ensemble methods can offer insights into which financial metrics are most predictive of bankruptcy."
   ]
  },
  {
   "cell_type": "code",
   "execution_count": 22,
   "metadata": {
    "colab": {
     "base_uri": "https://localhost:8080/"
    },
    "executionInfo": {
     "elapsed": 19813,
     "status": "ok",
     "timestamp": 1696982759523,
     "user": {
      "displayName": "Arun Balaram",
      "userId": "06182482132686253515"
     },
     "user_tz": 240
    },
    "id": "v6DHSPntn6q7",
    "outputId": "6e84c8c3-9dfa-4836-8d57-c8879141d403"
   },
   "outputs": [
    {
     "name": "stdout",
     "output_type": "stream",
     "text": [
      "\r",
      "0% [Working]\r",
      "            \r",
      "Hit:1 http://archive.ubuntu.com/ubuntu jammy InRelease\n",
      "\r",
      "0% [Waiting for headers] [Connecting to security.ubuntu.com (91.189.91.83)] [Co\r",
      "                                                                               \r",
      "Get:2 http://archive.ubuntu.com/ubuntu jammy-updates InRelease [119 kB]\n",
      "\r",
      "0% [2 InRelease 47.5 kB/119 kB 40%] [Connecting to security.ubuntu.com (91.189.\r",
      "                                                                               \r",
      "Get:3 https://cloud.r-project.org/bin/linux/ubuntu jammy-cran40/ InRelease [3,626 B]\n",
      "\r",
      "0% [2 InRelease 89.5 kB/119 kB 75%] [Waiting for headers] [3 InRelease 3,626 B/\r",
      "0% [2 InRelease 89.5 kB/119 kB 75%] [Waiting for headers] [Connected to ppa.lau\r",
      "0% [Waiting for headers] [Waiting for headers] [Connected to ppa.launchpadconte\r",
      "                                                                               \r",
      "Get:4 http://archive.ubuntu.com/ubuntu jammy-backports InRelease [109 kB]\n",
      "\r",
      "0% [4 InRelease 11.5 kB/109 kB 11%] [Waiting for headers] [Waiting for headers]\r",
      "                                                                               \r",
      "0% [Waiting for headers] [Waiting for headers] [Waiting for headers]\r",
      "                                                                    \r",
      "Hit:5 https://ppa.launchpadcontent.net/c2d4u.team/c2d4u4.0+/ubuntu jammy InRelease\n",
      "\r",
      "0% [Waiting for headers] [Connecting to ppa.launchpadcontent.net] [Waiting for \r",
      "                                                                               \r",
      "Hit:6 https://developer.download.nvidia.com/compute/cuda/repos/ubuntu2204/x86_64  InRelease\n",
      "\r",
      "0% [Waiting for headers] [Connected to ppa.launchpadcontent.net (185.125.190.52\r",
      "                                                                               \r",
      "Get:7 http://security.ubuntu.com/ubuntu jammy-security InRelease [110 kB]\n",
      "\r",
      "0% [7 InRelease 14.2 kB/110 kB 13%] [Connected to ppa.launchpadcontent.net (185\r",
      "                                                                               \r",
      "Hit:8 https://ppa.launchpadcontent.net/deadsnakes/ppa/ubuntu jammy InRelease\n",
      "Hit:9 https://ppa.launchpadcontent.net/graphics-drivers/ppa/ubuntu jammy InRelease\n",
      "Hit:10 https://ppa.launchpadcontent.net/ubuntugis/ppa/ubuntu jammy InRelease\n",
      "Get:11 http://archive.ubuntu.com/ubuntu jammy-updates/universe amd64 Packages [1,269 kB]\n",
      "Get:12 http://archive.ubuntu.com/ubuntu jammy-updates/main amd64 Packages [1,343 kB]\n",
      "Get:13 http://security.ubuntu.com/ubuntu jammy-security/universe amd64 Packages [1,004 kB]\n",
      "Get:14 http://security.ubuntu.com/ubuntu jammy-security/main amd64 Packages [1,081 kB]\n",
      "Fetched 5,038 kB in 2s (2,788 kB/s)\n",
      "Reading package lists... Done\n"
     ]
    }
   ],
   "source": [
    "import os\n",
    "# spark_version = 'spark-3.4.1'\n",
    "spark_version = 'spark-3.4.1'\n",
    "os.environ['SPARK_VERSION']=spark_version\n",
    "\n",
    "# Install Spark and Java\n",
    "!apt-get update\n",
    "!apt-get install openjdk-11-jdk-headless -qq > /dev/null\n",
    "!wget -q http://www.apache.org/dist/spark/$SPARK_VERSION/$SPARK_VERSION-bin-hadoop3.tgz\n",
    "!tar xf $SPARK_VERSION-bin-hadoop3.tgz\n",
    "!pip install -q findspark\n",
    "\n",
    "# Set Environment Variables\n",
    "os.environ[\"JAVA_HOME\"] = \"/usr/lib/jvm/java-11-openjdk-amd64\"\n",
    "os.environ[\"SPARK_HOME\"] = f\"/content/{spark_version}-bin-hadoop3\"\n",
    "\n",
    "# Start a SparkSession\n",
    "import findspark\n",
    "findspark.init()"
   ]
  },
  {
   "cell_type": "markdown",
   "metadata": {
    "id": "0FxTSFKJFAio"
   },
   "source": [
    "After assessing the model's accuracy, PySpark SQL was integrated to delve deeper into the main dataframe **bankruptcy_df**. The use of PySpark provides scalable and efficient data exploration, allowing for a thorough understanding of underlying trends and patterns. This PySpark SQL offered a platform to derive insights from the data, complementing the model's findings and potentially guiding further refinements."
   ]
  },
  {
   "cell_type": "code",
   "execution_count": 23,
   "metadata": {
    "colab": {
     "base_uri": "https://localhost:8080/"
    },
    "executionInfo": {
     "elapsed": 52136,
     "status": "ok",
     "timestamp": 1696982811650,
     "user": {
      "displayName": "Arun Balaram",
      "userId": "06182482132686253515"
     },
     "user_tz": 240
    },
    "id": "TjdqXs_loLUq",
    "outputId": "3ea3679a-65d7-4301-e860-8da3465adbae"
   },
   "outputs": [
    {
     "name": "stdout",
     "output_type": "stream",
     "text": [
      "+------------+----+------------------+----------------------+---------------------------------+----------+-------------+--------------+---------------------+----------------+-------------+-----------------+-------------------------+---------+-----------------+------------------------------+----------------------+------------------+----------------------+-----------------------------+------------------+\n",
      "|status_label|year|current_assets(X1)|cost_of_goods_sold(X2)|depreciation_and_amortization(X3)|EBITDA(X4)|inventory(X5)|net_income(X6)|total_receivables(X7)|market_value(X8)|net_sales(X9)|total_assets(X10)|total_long_term_debt(X11)|EBIT(X12)|gross_profit(X13)|total_current_liabilities(X14)|retained_earnings(X15)|total_revenue(X16)|total_liabilities(X17)|total_operating_expenses(X18)|company_name_other|\n",
      "+------------+----+------------------+----------------------+---------------------------------+----------+-------------+--------------+---------------------+----------------+-------------+-----------------+-------------------------+---------+-----------------+------------------------------+----------------------+------------------+----------------------+-----------------------------+------------------+\n",
      "|           1|1999|           511.267|               833.107|                           18.373|    89.031|      336.018|        35.163|              128.348|        372.7519|     1024.333|          740.998|                  180.447|   70.658|          191.226|                       163.816|               201.026|          1024.333|               401.483|                      935.302|                 1|\n",
      "|           1|2000|           485.856|               713.811|                           18.577|    64.367|       320.59|        18.531|              115.187|         377.118|      874.255|          701.854|                  179.987|    45.79|          160.444|                       125.392|               204.065|           874.255|               361.642|                      809.888|                 1|\n",
      "|           1|2001|           436.656|               526.477|                           22.496|    27.207|      286.588|       -58.939|               77.528|        364.5928|      638.721|          710.199|                  217.699|    4.711|          112.244|                       150.464|               139.603|           638.721|               399.964|                      611.514|                 1|\n",
      "|           1|2002|           396.412|               496.747|                           27.172|    30.745|      259.954|        -12.41|               66.322|        143.3295|      606.337|          686.621|                  164.658|    3.573|           109.59|                       203.575|               124.106|           606.337|               391.633|                      575.592|                 1|\n",
      "|           1|2003|           432.204|               523.302|                            26.68|    47.491|      247.245|         3.504|              104.661|        308.9071|      651.958|          709.292|                  248.666|   20.811|          128.656|                       131.261|               131.884|           651.958|               407.608|                      604.467|                 1|\n",
      "|           1|2004|           474.542|               598.172|                            27.95|    61.774|      255.477|        15.453|              127.121|        522.6794|      747.848|           732.23|                  227.159|   33.824|          149.676|                       160.025|                142.45|           747.848|               417.486|                      686.074|                 1|\n",
      "|           1|2005|           624.454|               704.081|                           29.222|    91.877|      323.592|        35.163|              136.272|        882.6283|      897.284|          978.819|                  318.576|   62.655|          193.203|                       187.788|                183.55|           897.284|               556.102|                      805.407|                 1|\n",
      "|           1|2006|           645.721|               837.171|                           32.199|   118.907|      342.593|         58.66|              181.691|       1226.1925|     1061.169|         1067.633|                  253.611|   86.708|          223.998|                       256.506|               242.153|          1061.169|                573.39|                      942.262|                 1|\n",
      "|           1|2007|           783.431|              1080.895|                           39.952|   168.522|      435.608|        75.144|              202.472|        747.5434|     1384.919|          1362.01|                  507.918|   128.57|          304.024|                       218.499|               318.184|          1384.919|               776.755|                     1216.397|                 1|\n",
      "|           1|2008|           851.312|              1110.677|                           40.551|    166.08|      477.424|        78.651|                227.3|        571.5948|     1423.976|         1377.511|                  392.984|  125.529|          313.299|                       254.418|               385.851|          1423.976|               720.616|                     1257.896|                 1|\n",
      "|           1|2009|           863.429|              1065.902|                            38.93|   134.345|      496.904|        44.628|              238.466|        777.8348|     1352.151|         1501.042|                  336.191|   95.415|          286.249|                        325.55|               389.641|          1352.151|               754.692|                     1217.806|                 1|\n",
      "|           1|2010|           913.985|              1408.071|                           59.296|   196.312|      507.274|        69.826|              296.489|       1049.8206|     1775.782|         1703.727|                  329.802|  137.016|          367.711|                        416.01|               467.485|          1775.782|               868.438|                      1579.47|                 1|\n",
      "|           1|2011|          1063.272|              1662.408|                           80.333|   222.693|      599.752|        67.723|              324.879|        485.2897|     2074.498|         2195.653|                  669.489|   142.36|           412.09|                       473.226|               486.582|          2074.498|              1329.631|                     1851.805|                 1|\n",
      "|           1|2012|            1033.7|                1714.5|                            108.6|     245.2|        582.9|          55.0|                315.4|        790.0029|       2167.1|           2136.9|                    622.2|    136.6|            452.6|                         389.0|                 542.4|            2167.1|                1217.4|                       1921.9|                 1|\n",
      "|           1|2013|            1116.9|                1581.4|                            113.4|     256.0|        632.9|          72.9|                297.9|         961.308|       2035.0|           2199.5|                    564.3|    142.6|            453.6|                         402.1|                 616.7|            2035.0|                1198.8|                       1779.0|                 1|\n",
      "|           1|2014|             954.1|                1342.7|                             92.3|      83.7|        566.7|          10.2|                231.1|       1046.3954|       1594.3|           1515.0|                     85.0|     -8.6|            251.6|                         412.0|                 603.9|            1594.3|                 669.9|                       1510.6|                 1|\n",
      "|           1|2015|             873.1|                1354.9|                             70.8|     136.9|        563.7|          47.7|                242.7|        842.5112|       1662.6|           1442.1|                    136.1|     66.1|            307.7|                         329.0|                 637.2|            1662.6|                 576.3|                       1525.7|                 1|\n",
      "|           1|2016|             888.5|                1422.7|                             71.0|     148.2|        601.1|          56.5|                251.4|       1200.3288|       1767.6|           1504.1|                    155.3|     77.2|            344.9|                         335.1|                 688.0|            1767.6|                 589.9|                       1619.4|                 1|\n",
      "|           1|2017|             942.7|                1413.2|                             40.5|     126.5|        547.9|          15.6|                203.0|        1551.458|       1748.3|           1524.7|                    177.2|     86.0|            335.1|                         333.3|                 701.2|            1748.3|                 588.4|                       1621.8|                 1|\n",
      "|           1|1999|          1029.438|               930.142|                           102.09|   413.739|      243.882|        87.635|              436.751|       7161.3749|     1926.947|         1672.529|                   11.024|  311.649|          996.805|                       412.954|               827.489|          1926.947|               423.978|                     1513.208|                 1|\n",
      "+------------+----+------------------+----------------------+---------------------------------+----------+-------------+--------------+---------------------+----------------+-------------+-----------------+-------------------------+---------+-----------------+------------------------------+----------------------+------------------+----------------------+-----------------------------+------------------+\n",
      "only showing top 20 rows\n",
      "\n"
     ]
    }
   ],
   "source": [
    "# Import packages\n",
    "from pyspark.sql import SparkSession\n",
    "import time\n",
    "\n",
    "# Create a SparkSession\n",
    "spark = SparkSession.builder.appName(\"BankruptcyAnalysis\").getOrCreate()\n",
    "spark_df = spark.createDataFrame(bankruptcy_df)\n",
    "\n",
    "# Show DataFrame\n",
    "spark_df.show()\n"
   ]
  },
  {
   "cell_type": "code",
   "execution_count": 24,
   "metadata": {
    "executionInfo": {
     "elapsed": 16,
     "status": "ok",
     "timestamp": 1696982811650,
     "user": {
      "displayName": "Arun Balaram",
      "userId": "06182482132686253515"
     },
     "user_tz": 240
    },
    "id": "Vo5I1uf5qHJO"
   },
   "outputs": [],
   "source": [
    "# Create a temporary view of the DataFrame.\n",
    "\n",
    "spark_df.createOrReplaceTempView('company_bankruptcy')"
   ]
  },
  {
   "cell_type": "code",
   "execution_count": 25,
   "metadata": {
    "colab": {
     "base_uri": "https://localhost:8080/"
    },
    "executionInfo": {
     "elapsed": 3885,
     "status": "ok",
     "timestamp": 1696982815525,
     "user": {
      "displayName": "Arun Balaram",
      "userId": "06182482132686253515"
     },
     "user_tz": 240
    },
    "id": "nOiaKFHuq24v",
    "outputId": "b7aee616-921e-4089-ba41-3b01e5aafab1"
   },
   "outputs": [
    {
     "name": "stdout",
     "output_type": "stream",
     "text": [
      "+----+--------------------------+\n",
      "|year|num_bankruptcies_companies|\n",
      "+----+--------------------------+\n",
      "|1999|                       380|\n",
      "|2000|                       404|\n",
      "|2001|                       414|\n",
      "|2002|                       414|\n",
      "|2003|                       415|\n",
      "|2004|                       404|\n",
      "|2005|                       379|\n",
      "|2006|                       366|\n",
      "|2007|                       336|\n",
      "|2008|                       284|\n",
      "|2009|                       234|\n",
      "|2010|                       218|\n",
      "|2011|                       194|\n",
      "|2012|                       182|\n",
      "|2013|                       167|\n",
      "|2014|                       142|\n",
      "|2015|                       111|\n",
      "|2016|                        83|\n",
      "|2017|                        57|\n",
      "|2018|                        36|\n",
      "+----+--------------------------+\n",
      "\n"
     ]
    }
   ],
   "source": [
    "# How many companies go bankrupt  each year?\n",
    "\n",
    "spark.sql(\"\"\"SELECT year, COUNT(*) as num_bankruptcies_companies\n",
    "             FROM company_bankruptcy\n",
    "             WHERE status_label = 0\n",
    "             GROUP BY year\n",
    "             ORDER BY year\"\"\").show()\n"
   ]
  },
  {
   "cell_type": "code",
   "execution_count": 26,
   "metadata": {
    "colab": {
     "base_uri": "https://localhost:8080/"
    },
    "executionInfo": {
     "elapsed": 2428,
     "status": "ok",
     "timestamp": 1696982817946,
     "user": {
      "displayName": "Arun Balaram",
      "userId": "06182482132686253515"
     },
     "user_tz": 240
    },
    "id": "ohZfYPtqvO-P",
    "outputId": "0993b267-f18b-4385-b757-f27058a13a4a"
   },
   "outputs": [
    {
     "name": "stdout",
     "output_type": "stream",
     "text": [
      "+----+-------------------+\n",
      "|year|num_alive_companies|\n",
      "+----+-------------------+\n",
      "|1999|               4928|\n",
      "|2000|               4822|\n",
      "|2001|               4483|\n",
      "|2002|               4237|\n",
      "|2003|               4002|\n",
      "|2004|               3944|\n",
      "|2005|               3826|\n",
      "|2006|               3762|\n",
      "|2007|               3673|\n",
      "|2008|               3573|\n",
      "|2009|               3509|\n",
      "|2010|               3407|\n",
      "|2011|               3319|\n",
      "|2012|               3303|\n",
      "|2013|               3317|\n",
      "|2014|               3362|\n",
      "|2015|               3243|\n",
      "|2016|               3108|\n",
      "|2017|               2957|\n",
      "|2018|               2687|\n",
      "+----+-------------------+\n",
      "\n"
     ]
    }
   ],
   "source": [
    "# How many companies remain alive each year?\n",
    "\n",
    "spark.sql(\"\"\"SELECT year, COUNT(*) AS num_alive_companies\n",
    "             FROM company_bankruptcy\n",
    "             WHERE status_label = 1\n",
    "             GROUP BY year\n",
    "             ORDER BY year\"\"\").show()\n"
   ]
  },
  {
   "cell_type": "code",
   "execution_count": 27,
   "metadata": {
    "colab": {
     "base_uri": "https://localhost:8080/"
    },
    "executionInfo": {
     "elapsed": 3895,
     "status": "ok",
     "timestamp": 1696982821833,
     "user": {
      "displayName": "Arun Balaram",
      "userId": "06182482132686253515"
     },
     "user_tz": 240
    },
    "id": "F1_Z2idivPGR",
    "outputId": "352c8e1c-cbe8-45ce-e53b-dbfe08b7e5a9"
   },
   "outputs": [
    {
     "name": "stdout",
     "output_type": "stream",
     "text": [
      "+----+----------------+\n",
      "|year|num_bankruptcies|\n",
      "+----+----------------+\n",
      "|2003|             415|\n",
      "|2002|             414|\n",
      "|2001|             414|\n",
      "|2004|             404|\n",
      "|2000|             404|\n",
      "|1999|             380|\n",
      "|2005|             379|\n",
      "|2006|             366|\n",
      "|2007|             336|\n",
      "|2008|             284|\n",
      "|2009|             234|\n",
      "|2010|             218|\n",
      "|2011|             194|\n",
      "|2012|             182|\n",
      "|2013|             167|\n",
      "+----+----------------+\n",
      "\n"
     ]
    }
   ],
   "source": [
    "# Which year had the highest number of bankruptcies?\n",
    "\n",
    "spark.sql(\"\"\"SELECT year, COUNT(*) as num_bankruptcies\n",
    "             FROM company_bankruptcy\n",
    "             WHERE status_label = 0\n",
    "             GROUP BY year\n",
    "             ORDER BY num_bankruptcies DESC\n",
    "             LIMIT 15\"\"\").show()"
   ]
  },
  {
   "cell_type": "code",
   "execution_count": 28,
   "metadata": {
    "colab": {
     "base_uri": "https://localhost:8080/"
    },
    "executionInfo": {
     "elapsed": 2861,
     "status": "ok",
     "timestamp": 1696982824685,
     "user": {
      "displayName": "Arun Balaram",
      "userId": "06182482132686253515"
     },
     "user_tz": 240
    },
    "id": "g2wgRPrBvPJK",
    "outputId": "3de9dc03-8aaa-4a60-82ad-7d14b64a8439"
   },
   "outputs": [
    {
     "name": "stdout",
     "output_type": "stream",
     "text": [
      "+-----------------+------------------+------------------+-----------------+-----------------+------------------+------------------+------------------+-----------------+-----------------+-----------------+-----------------+-----------------+-----------------+-----------------+-----------------+------------------+------------------+\n",
      "|           avg_X1|            avg_X2|            avg_X3|           avg_X4|           avg_X5|            avg_X6|            avg_X7|            avg_X8|           avg_X9|          avg_X10|          avg_X11|          avg_X12|          avg_X13|          avg_X14|          avg_X15|          avg_X16|           avg_X17|           avg_X18|\n",
      "+-----------------+------------------+------------------+-----------------+-----------------+------------------+------------------+------------------+-----------------+-----------------+-----------------+-----------------+-----------------+-----------------+-----------------+-----------------+------------------+------------------+\n",
      "|914.5426150798992|1646.9825630393852|123.74636357572612|393.6845858402984|208.5601020255357|141.99472572214026|297.79454660913393|3596.0151573521284|2447.871580967011|2952.555390746219|730.5169838147644|269.9380795921704|800.8891312651391|628.7487938662204|582.0347096594163|2447.871580967011|1809.5719736054052|2054.1870219977723|\n",
      "+-----------------+------------------+------------------+-----------------+-----------------+------------------+------------------+------------------+-----------------+-----------------+-----------------+-----------------+-----------------+-----------------+-----------------+-----------------+------------------+------------------+\n",
      "\n"
     ]
    }
   ],
   "source": [
    "# What's the average value of each predictor variable (X1 - X18) for \"alive\" companies?\n",
    "spark.sql(\"\"\"SELECT\n",
    "    AVG(`current_assets(X1)`) as avg_X1,\n",
    "    AVG(`cost_of_goods_sold(X2)`) as avg_X2,\n",
    "    AVG(`depreciation_and_amortization(X3)`) as avg_X3,\n",
    "    AVG(`EBITDA(X4)`) as avg_X4,\n",
    "    AVG(`inventory(X5)`) as avg_X5,\n",
    "    AVG(`net_income(X6)`) as avg_X6,\n",
    "    AVG(`total_receivables(X7)`) as avg_X7,\n",
    "    AVG(`market_value(X8)`) as avg_X8,\n",
    "    AVG(`net_sales(X9)`) as avg_X9,\n",
    "    AVG(`total_assets(X10)`) as avg_X10,\n",
    "    AVG(`total_long_term_debt(X11)`) as avg_X11,\n",
    "    AVG(`EBIT(X12)`) as avg_X12,\n",
    "    AVG(`gross_profit(X13)`) as avg_X13,\n",
    "    AVG(`total_current_liabilities(X14)`) as avg_X14,\n",
    "    AVG(`retained_earnings(X15)`) as avg_X15,\n",
    "    AVG(`total_revenue(X16)`) as avg_X16,\n",
    "    AVG(`total_liabilities(X17)`) as avg_X17,\n",
    "    AVG(`total_operating_expenses(X18)`) as avg_X18\n",
    "FROM company_bankruptcy\n",
    "WHERE status_label = 1\"\"\").show()\n",
    "\n"
   ]
  },
  {
   "cell_type": "markdown",
   "metadata": {
    "id": "OFtb1XHq5GG_"
   },
   "source": [
    "These average values, which cover diverse financial metrics from asset management to profitability indicators, consistently show positive signs. They support the notion that the \"alive\" companies in this dataset are indeed financially sound, profitable, and efficiently operated.Having a clear grasp of the financial metrics and their implications on a company's health allows for a more informed, accurate, and interpretable bankruptcy prediction model."
   ]
  },
  {
   "cell_type": "code",
   "execution_count": 29,
   "metadata": {
    "colab": {
     "base_uri": "https://localhost:8080/"
    },
    "executionInfo": {
     "elapsed": 2647,
     "status": "ok",
     "timestamp": 1696982827324,
     "user": {
      "displayName": "Arun Balaram",
      "userId": "06182482132686253515"
     },
     "user_tz": 240
    },
    "id": "toFrpg46vPRQ",
    "outputId": "2e550e2d-69ff-4072-e7e3-f205abb706c1"
   },
   "outputs": [
    {
     "name": "stdout",
     "output_type": "stream",
     "text": [
      "+-----------------+----------------+-----------------+-----------------+-----------------+------------------+------------------+-----------------+------------------+------------------+-----------------+-----------------+-----------------+------------------+-------------------+------------------+------------------+------------------+\n",
      "|           avg_X1|          avg_X2|           avg_X3|           avg_X4|           avg_X5|            avg_X6|            avg_X7|           avg_X8|            avg_X9|           avg_X10|          avg_X11|          avg_X12|          avg_X13|           avg_X14|            avg_X15|           avg_X16|           avg_X17|           avg_X18|\n",
      "+-----------------+----------------+-----------------+-----------------+-----------------+------------------+------------------+-----------------+------------------+------------------+-----------------+-----------------+-----------------+------------------+-------------------+------------------+------------------+------------------+\n",
      "|399.3393530651333|856.340996934866|85.88091896551715|138.5685764367816|103.7353978927201|-48.11233275862066|132.56530651340972|857.8130112068959|1183.9571722222213|1664.6309810344803|609.4300068965516|52.68765747126427|327.6161752873558|347.23395402298786|-165.10726724137967|1183.9571722222213|1266.8167480842922|1045.3885957854418|\n",
      "+-----------------+----------------+-----------------+-----------------+-----------------+------------------+------------------+-----------------+------------------+------------------+-----------------+-----------------+-----------------+------------------+-------------------+------------------+------------------+------------------+\n",
      "\n"
     ]
    }
   ],
   "source": [
    "# What's the average value of each predictor variable (X1 - X18) for \"failed\" companies?\n",
    "spark.sql(\"\"\"SELECT\n",
    "    AVG(`current_assets(X1)`) as avg_X1,\n",
    "    AVG(`cost_of_goods_sold(X2)`) as avg_X2,\n",
    "    AVG(`depreciation_and_amortization(X3)`) as avg_X3,\n",
    "    AVG(`EBITDA(X4)`) as avg_X4,\n",
    "    AVG(`inventory(X5)`) as avg_X5,\n",
    "    AVG(`net_income(X6)`) as avg_X6,\n",
    "    AVG(`total_receivables(X7)`) as avg_X7,\n",
    "    AVG(`market_value(X8)`) as avg_X8,\n",
    "    AVG(`net_sales(X9)`) as avg_X9,\n",
    "    AVG(`total_assets(X10)`) as avg_X10,\n",
    "    AVG(`total_long_term_debt(X11)`) as avg_X11,\n",
    "    AVG(`EBIT(X12)`) as avg_X12,\n",
    "    AVG(`gross_profit(X13)`) as avg_X13,\n",
    "    AVG(`total_current_liabilities(X14)`) as avg_X14,\n",
    "    AVG(`retained_earnings(X15)`) as avg_X15,\n",
    "    AVG(`total_revenue(X16)`) as avg_X16,\n",
    "    AVG(`total_liabilities(X17)`) as avg_X17,\n",
    "    AVG(`total_operating_expenses(X18)`) as avg_X18\n",
    "    FROM company_bankruptcy\n",
    "    WHERE status_label = 0\"\"\").show()"
   ]
  },
  {
   "cell_type": "markdown",
   "metadata": {
    "id": "M51hcpev7TIl"
   },
   "source": [
    "From the provided data on \"failed\" companies:\n",
    "\n",
    "**Operational Losses:** A negative net income (avg_X6) suggests these companies consistently operated at a loss.\n",
    "\n",
    "**Limited Financial Buffer:** Lower total assets (avg_X10) and a relatively high long-term debt (avg_X11) indicate financial vulnerability and potential liquidity issues.\n",
    "\n",
    "**Revenue vs. Debt:** Despite generating revenue (avg_X9), these companies had considerable debt (avg_X11 and avg_X14), hinting at possible financial mismanagement or overwhelming expenses.\n",
    "\n",
    "In summary, \"failed\" companies in this dataset exhibited consistent operational losses, had limited assets to cover liabilities, and faced significant financial challenges."
   ]
  },
  {
   "cell_type": "code",
   "execution_count": 17,
   "metadata": {
    "executionInfo": {
     "elapsed": 11,
     "status": "ok",
     "timestamp": 1696982827324,
     "user": {
      "displayName": "Arun Balaram",
      "userId": "06182482132686253515"
     },
     "user_tz": 240
    },
    "id": "qRiqdg0lvPTu"
   },
   "outputs": [],
   "source": [
    "import pandas as pd\n",
    "import numpy as np\n",
    "from pathlib import Path\n",
    "import csv\n",
    "from sklearn.model_selection import train_test_split\n",
    "from sklearn.linear_model import LogisticRegression\n",
    "from sklearn.metrics import classification_report\n",
    "from sklearn.metrics import accuracy_score\n",
    "from sklearn.preprocessing import StandardScaler\n",
    "\n",
    "import pydotplus\n",
    "from IPython.display import Image"
   ]
  },
  {
   "cell_type": "code",
   "execution_count": 18,
   "metadata": {
    "colab": {
     "base_uri": "https://localhost:8080/"
    },
    "executionInfo": {
     "elapsed": 9,
     "status": "ok",
     "timestamp": 1696982827325,
     "user": {
      "displayName": "Arun Balaram",
      "userId": "06182482132686253515"
     },
     "user_tz": 240
    },
    "id": "-JN2Mw7kvPWB",
    "outputId": "81df3e6c-c4ca-437d-dce5-5c01cdedf1b4"
   },
   "outputs": [
    {
     "data": {
      "text/plain": [
       "78677    1\n",
       "78678    1\n",
       "78679    1\n",
       "78680    1\n",
       "78681    1\n",
       "Name: status_label, dtype: int64"
      ]
     },
     "execution_count": 18,
     "metadata": {},
     "output_type": "execute_result"
    }
   ],
   "source": [
    "# Identify the variables\n",
    "\n",
    "X.head()\n",
    "X.tail()\n",
    "y.head()\n",
    "y.tail()"
   ]
  },
  {
   "cell_type": "code",
   "execution_count": 19,
   "metadata": {
    "executionInfo": {
     "elapsed": 288,
     "status": "ok",
     "timestamp": 1696982827607,
     "user": {
      "displayName": "Arun Balaram",
      "userId": "06182482132686253515"
     },
     "user_tz": 240
    },
    "id": "nBKmkQG95koa"
   },
   "outputs": [],
   "source": [
    "# Split the data into training and testing\n",
    "\n",
    "X_train, X_test, y_train, y_test = train_test_split(X,\n",
    "                                                    y,\n",
    "                                                    random_state=42,\n",
    "                                                    stratify=y)"
   ]
  },
  {
   "cell_type": "code",
   "execution_count": 20,
   "metadata": {
    "colab": {
     "base_uri": "https://localhost:8080/",
     "height": 74
    },
    "executionInfo": {
     "elapsed": 12,
     "status": "ok",
     "timestamp": 1696982827607,
     "user": {
      "displayName": "Arun Balaram",
      "userId": "06182482132686253515"
     },
     "user_tz": 240
    },
    "id": "ZtDqfflD5kxV",
    "outputId": "a489dadc-fa84-4291-8592-4d2e1abc052f"
   },
   "outputs": [
    {
     "data": {
      "text/html": [
       "<style>#sk-container-id-1 {color: black;}#sk-container-id-1 pre{padding: 0;}#sk-container-id-1 div.sk-toggleable {background-color: white;}#sk-container-id-1 label.sk-toggleable__label {cursor: pointer;display: block;width: 100%;margin-bottom: 0;padding: 0.3em;box-sizing: border-box;text-align: center;}#sk-container-id-1 label.sk-toggleable__label-arrow:before {content: \"▸\";float: left;margin-right: 0.25em;color: #696969;}#sk-container-id-1 label.sk-toggleable__label-arrow:hover:before {color: black;}#sk-container-id-1 div.sk-estimator:hover label.sk-toggleable__label-arrow:before {color: black;}#sk-container-id-1 div.sk-toggleable__content {max-height: 0;max-width: 0;overflow: hidden;text-align: left;background-color: #f0f8ff;}#sk-container-id-1 div.sk-toggleable__content pre {margin: 0.2em;color: black;border-radius: 0.25em;background-color: #f0f8ff;}#sk-container-id-1 input.sk-toggleable__control:checked~div.sk-toggleable__content {max-height: 200px;max-width: 100%;overflow: auto;}#sk-container-id-1 input.sk-toggleable__control:checked~label.sk-toggleable__label-arrow:before {content: \"▾\";}#sk-container-id-1 div.sk-estimator input.sk-toggleable__control:checked~label.sk-toggleable__label {background-color: #d4ebff;}#sk-container-id-1 div.sk-label input.sk-toggleable__control:checked~label.sk-toggleable__label {background-color: #d4ebff;}#sk-container-id-1 input.sk-hidden--visually {border: 0;clip: rect(1px 1px 1px 1px);clip: rect(1px, 1px, 1px, 1px);height: 1px;margin: -1px;overflow: hidden;padding: 0;position: absolute;width: 1px;}#sk-container-id-1 div.sk-estimator {font-family: monospace;background-color: #f0f8ff;border: 1px dotted black;border-radius: 0.25em;box-sizing: border-box;margin-bottom: 0.5em;}#sk-container-id-1 div.sk-estimator:hover {background-color: #d4ebff;}#sk-container-id-1 div.sk-parallel-item::after {content: \"\";width: 100%;border-bottom: 1px solid gray;flex-grow: 1;}#sk-container-id-1 div.sk-label:hover label.sk-toggleable__label {background-color: #d4ebff;}#sk-container-id-1 div.sk-serial::before {content: \"\";position: absolute;border-left: 1px solid gray;box-sizing: border-box;top: 0;bottom: 0;left: 50%;z-index: 0;}#sk-container-id-1 div.sk-serial {display: flex;flex-direction: column;align-items: center;background-color: white;padding-right: 0.2em;padding-left: 0.2em;position: relative;}#sk-container-id-1 div.sk-item {position: relative;z-index: 1;}#sk-container-id-1 div.sk-parallel {display: flex;align-items: stretch;justify-content: center;background-color: white;position: relative;}#sk-container-id-1 div.sk-item::before, #sk-container-id-1 div.sk-parallel-item::before {content: \"\";position: absolute;border-left: 1px solid gray;box-sizing: border-box;top: 0;bottom: 0;left: 50%;z-index: -1;}#sk-container-id-1 div.sk-parallel-item {display: flex;flex-direction: column;z-index: 1;position: relative;background-color: white;}#sk-container-id-1 div.sk-parallel-item:first-child::after {align-self: flex-end;width: 50%;}#sk-container-id-1 div.sk-parallel-item:last-child::after {align-self: flex-start;width: 50%;}#sk-container-id-1 div.sk-parallel-item:only-child::after {width: 0;}#sk-container-id-1 div.sk-dashed-wrapped {border: 1px dashed gray;margin: 0 0.4em 0.5em 0.4em;box-sizing: border-box;padding-bottom: 0.4em;background-color: white;}#sk-container-id-1 div.sk-label label {font-family: monospace;font-weight: bold;display: inline-block;line-height: 1.2em;}#sk-container-id-1 div.sk-label-container {text-align: center;}#sk-container-id-1 div.sk-container {/* jupyter's `normalize.less` sets `[hidden] { display: none; }` but bootstrap.min.css set `[hidden] { display: none !important; }` so we also need the `!important` here to be able to override the default hidden behavior on the sphinx rendered scikit-learn.org. See: https://github.com/scikit-learn/scikit-learn/issues/21755 */display: inline-block !important;position: relative;}#sk-container-id-1 div.sk-text-repr-fallback {display: none;}</style><div id=\"sk-container-id-1\" class=\"sk-top-container\"><div class=\"sk-text-repr-fallback\"><pre>LogisticRegression(random_state=1)</pre><b>In a Jupyter environment, please rerun this cell to show the HTML representation or trust the notebook. <br />On GitHub, the HTML representation is unable to render, please try loading this page with nbviewer.org.</b></div><div class=\"sk-container\" hidden><div class=\"sk-item\"><div class=\"sk-estimator sk-toggleable\"><input class=\"sk-toggleable__control sk-hidden--visually\" id=\"sk-estimator-id-1\" type=\"checkbox\" checked><label for=\"sk-estimator-id-1\" class=\"sk-toggleable__label sk-toggleable__label-arrow\">LogisticRegression</label><div class=\"sk-toggleable__content\"><pre>LogisticRegression(random_state=1)</pre></div></div></div></div></div>"
      ],
      "text/plain": [
       "LogisticRegression(random_state=1)"
      ]
     },
     "execution_count": 20,
     "metadata": {},
     "output_type": "execute_result"
    }
   ],
   "source": [
    "# Identify the Logistic Regression\n",
    "classifier = LogisticRegression(solver='lbfgs', random_state=1)\n",
    "\n",
    "classifier"
   ]
  },
  {
   "cell_type": "code",
   "execution_count": 21,
   "metadata": {
    "colab": {
     "base_uri": "https://localhost:8080/",
     "height": 74
    },
    "executionInfo": {
     "elapsed": 2235,
     "status": "ok",
     "timestamp": 1696984432865,
     "user": {
      "displayName": "Arun Balaram",
      "userId": "06182482132686253515"
     },
     "user_tz": 240
    },
    "id": "htZYKhI65kz9",
    "outputId": "2da4e35d-725f-4e7f-a81e-6f44d2522a3b"
   },
   "outputs": [
    {
     "data": {
      "text/html": [
       "<style>#sk-container-id-2 {color: black;}#sk-container-id-2 pre{padding: 0;}#sk-container-id-2 div.sk-toggleable {background-color: white;}#sk-container-id-2 label.sk-toggleable__label {cursor: pointer;display: block;width: 100%;margin-bottom: 0;padding: 0.3em;box-sizing: border-box;text-align: center;}#sk-container-id-2 label.sk-toggleable__label-arrow:before {content: \"▸\";float: left;margin-right: 0.25em;color: #696969;}#sk-container-id-2 label.sk-toggleable__label-arrow:hover:before {color: black;}#sk-container-id-2 div.sk-estimator:hover label.sk-toggleable__label-arrow:before {color: black;}#sk-container-id-2 div.sk-toggleable__content {max-height: 0;max-width: 0;overflow: hidden;text-align: left;background-color: #f0f8ff;}#sk-container-id-2 div.sk-toggleable__content pre {margin: 0.2em;color: black;border-radius: 0.25em;background-color: #f0f8ff;}#sk-container-id-2 input.sk-toggleable__control:checked~div.sk-toggleable__content {max-height: 200px;max-width: 100%;overflow: auto;}#sk-container-id-2 input.sk-toggleable__control:checked~label.sk-toggleable__label-arrow:before {content: \"▾\";}#sk-container-id-2 div.sk-estimator input.sk-toggleable__control:checked~label.sk-toggleable__label {background-color: #d4ebff;}#sk-container-id-2 div.sk-label input.sk-toggleable__control:checked~label.sk-toggleable__label {background-color: #d4ebff;}#sk-container-id-2 input.sk-hidden--visually {border: 0;clip: rect(1px 1px 1px 1px);clip: rect(1px, 1px, 1px, 1px);height: 1px;margin: -1px;overflow: hidden;padding: 0;position: absolute;width: 1px;}#sk-container-id-2 div.sk-estimator {font-family: monospace;background-color: #f0f8ff;border: 1px dotted black;border-radius: 0.25em;box-sizing: border-box;margin-bottom: 0.5em;}#sk-container-id-2 div.sk-estimator:hover {background-color: #d4ebff;}#sk-container-id-2 div.sk-parallel-item::after {content: \"\";width: 100%;border-bottom: 1px solid gray;flex-grow: 1;}#sk-container-id-2 div.sk-label:hover label.sk-toggleable__label {background-color: #d4ebff;}#sk-container-id-2 div.sk-serial::before {content: \"\";position: absolute;border-left: 1px solid gray;box-sizing: border-box;top: 0;bottom: 0;left: 50%;z-index: 0;}#sk-container-id-2 div.sk-serial {display: flex;flex-direction: column;align-items: center;background-color: white;padding-right: 0.2em;padding-left: 0.2em;position: relative;}#sk-container-id-2 div.sk-item {position: relative;z-index: 1;}#sk-container-id-2 div.sk-parallel {display: flex;align-items: stretch;justify-content: center;background-color: white;position: relative;}#sk-container-id-2 div.sk-item::before, #sk-container-id-2 div.sk-parallel-item::before {content: \"\";position: absolute;border-left: 1px solid gray;box-sizing: border-box;top: 0;bottom: 0;left: 50%;z-index: -1;}#sk-container-id-2 div.sk-parallel-item {display: flex;flex-direction: column;z-index: 1;position: relative;background-color: white;}#sk-container-id-2 div.sk-parallel-item:first-child::after {align-self: flex-end;width: 50%;}#sk-container-id-2 div.sk-parallel-item:last-child::after {align-self: flex-start;width: 50%;}#sk-container-id-2 div.sk-parallel-item:only-child::after {width: 0;}#sk-container-id-2 div.sk-dashed-wrapped {border: 1px dashed gray;margin: 0 0.4em 0.5em 0.4em;box-sizing: border-box;padding-bottom: 0.4em;background-color: white;}#sk-container-id-2 div.sk-label label {font-family: monospace;font-weight: bold;display: inline-block;line-height: 1.2em;}#sk-container-id-2 div.sk-label-container {text-align: center;}#sk-container-id-2 div.sk-container {/* jupyter's `normalize.less` sets `[hidden] { display: none; }` but bootstrap.min.css set `[hidden] { display: none !important; }` so we also need the `!important` here to be able to override the default hidden behavior on the sphinx rendered scikit-learn.org. See: https://github.com/scikit-learn/scikit-learn/issues/21755 */display: inline-block !important;position: relative;}#sk-container-id-2 div.sk-text-repr-fallback {display: none;}</style><div id=\"sk-container-id-2\" class=\"sk-top-container\"><div class=\"sk-text-repr-fallback\"><pre>LogisticRegression(max_iter=1000)</pre><b>In a Jupyter environment, please rerun this cell to show the HTML representation or trust the notebook. <br />On GitHub, the HTML representation is unable to render, please try loading this page with nbviewer.org.</b></div><div class=\"sk-container\" hidden><div class=\"sk-item\"><div class=\"sk-estimator sk-toggleable\"><input class=\"sk-toggleable__control sk-hidden--visually\" id=\"sk-estimator-id-2\" type=\"checkbox\" checked><label for=\"sk-estimator-id-2\" class=\"sk-toggleable__label sk-toggleable__label-arrow\">LogisticRegression</label><div class=\"sk-toggleable__content\"><pre>LogisticRegression(max_iter=1000)</pre></div></div></div></div></div>"
      ],
      "text/plain": [
       "LogisticRegression(max_iter=1000)"
      ]
     },
     "execution_count": 21,
     "metadata": {},
     "output_type": "execute_result"
    }
   ],
   "source": [
    "# Train the data\n",
    "from sklearn.linear_model import LogisticRegression\n",
    "\n",
    "classifier = LogisticRegression(max_iter=1000)\n",
    "classifier.fit(X_train, y_train)\n"
   ]
  },
  {
   "cell_type": "code",
   "execution_count": 22,
   "metadata": {
    "colab": {
     "base_uri": "https://localhost:8080/"
    },
    "executionInfo": {
     "elapsed": 229,
     "status": "ok",
     "timestamp": 1696984445743,
     "user": {
      "displayName": "Arun Balaram",
      "userId": "06182482132686253515"
     },
     "user_tz": 240
    },
    "id": "IjLGw5V65k2g",
    "outputId": "ccbbed34-798a-4321-f4b0-19998b69b7fb"
   },
   "outputs": [
    {
     "name": "stdout",
     "output_type": "stream",
     "text": [
      "Training Data Score: 0.9337242209079664\n",
      "Testing Data Score: 0.9333028315794825\n"
     ]
    }
   ],
   "source": [
    "import warnings\n",
    "warnings.filterwarnings(action='ignore', category=UserWarning)\n",
    "\n",
    "# Score the model\n",
    "\n",
    "# Score the model on the training data\n",
    "training_score = classifier.score(X_train, y_train)\n",
    "print(f\"Training Data Score: {training_score}\")\n",
    "\n",
    "\n",
    "testing_score = classifier.score(X_test, y_test)\n",
    "print(f\"Testing Data Score: {testing_score}\")\n"
   ]
  },
  {
   "cell_type": "code",
   "execution_count": 23,
   "metadata": {
    "colab": {
     "base_uri": "https://localhost:8080/",
     "height": 419
    },
    "executionInfo": {
     "elapsed": 228,
     "status": "ok",
     "timestamp": 1696984225976,
     "user": {
      "displayName": "Arun Balaram",
      "userId": "06182482132686253515"
     },
     "user_tz": 240
    },
    "id": "wM7syF-R5k5D",
    "outputId": "e070c80d-bd6c-478d-e668-0111819c9857"
   },
   "outputs": [
    {
     "data": {
      "text/html": [
       "<div>\n",
       "<style scoped>\n",
       "    .dataframe tbody tr th:only-of-type {\n",
       "        vertical-align: middle;\n",
       "    }\n",
       "\n",
       "    .dataframe tbody tr th {\n",
       "        vertical-align: top;\n",
       "    }\n",
       "\n",
       "    .dataframe thead th {\n",
       "        text-align: right;\n",
       "    }\n",
       "</style>\n",
       "<table border=\"1\" class=\"dataframe\">\n",
       "  <thead>\n",
       "    <tr style=\"text-align: right;\">\n",
       "      <th></th>\n",
       "      <th>Prediction</th>\n",
       "      <th>Actual</th>\n",
       "    </tr>\n",
       "  </thead>\n",
       "  <tbody>\n",
       "    <tr>\n",
       "      <th>16228</th>\n",
       "      <td>1</td>\n",
       "      <td>1</td>\n",
       "    </tr>\n",
       "    <tr>\n",
       "      <th>75789</th>\n",
       "      <td>1</td>\n",
       "      <td>1</td>\n",
       "    </tr>\n",
       "    <tr>\n",
       "      <th>25125</th>\n",
       "      <td>1</td>\n",
       "      <td>1</td>\n",
       "    </tr>\n",
       "    <tr>\n",
       "      <th>44037</th>\n",
       "      <td>1</td>\n",
       "      <td>1</td>\n",
       "    </tr>\n",
       "    <tr>\n",
       "      <th>20274</th>\n",
       "      <td>1</td>\n",
       "      <td>1</td>\n",
       "    </tr>\n",
       "    <tr>\n",
       "      <th>...</th>\n",
       "      <td>...</td>\n",
       "      <td>...</td>\n",
       "    </tr>\n",
       "    <tr>\n",
       "      <th>48275</th>\n",
       "      <td>1</td>\n",
       "      <td>0</td>\n",
       "    </tr>\n",
       "    <tr>\n",
       "      <th>52907</th>\n",
       "      <td>1</td>\n",
       "      <td>1</td>\n",
       "    </tr>\n",
       "    <tr>\n",
       "      <th>27394</th>\n",
       "      <td>1</td>\n",
       "      <td>1</td>\n",
       "    </tr>\n",
       "    <tr>\n",
       "      <th>22348</th>\n",
       "      <td>1</td>\n",
       "      <td>1</td>\n",
       "    </tr>\n",
       "    <tr>\n",
       "      <th>27581</th>\n",
       "      <td>1</td>\n",
       "      <td>1</td>\n",
       "    </tr>\n",
       "  </tbody>\n",
       "</table>\n",
       "<p>19671 rows × 2 columns</p>\n",
       "</div>"
      ],
      "text/plain": [
       "       Prediction  Actual\n",
       "16228           1       1\n",
       "75789           1       1\n",
       "25125           1       1\n",
       "44037           1       1\n",
       "20274           1       1\n",
       "...           ...     ...\n",
       "48275           1       0\n",
       "52907           1       1\n",
       "27394           1       1\n",
       "22348           1       1\n",
       "27581           1       1\n",
       "\n",
       "[19671 rows x 2 columns]"
      ]
     },
     "execution_count": 23,
     "metadata": {},
     "output_type": "execute_result"
    }
   ],
   "source": [
    "# Predict outcomes for test data set\n",
    "predictions = classifier.predict(X_test)\n",
    "pd.DataFrame({\"Prediction\": predictions, \"Actual\": y_test})"
   ]
  },
  {
   "cell_type": "code",
   "execution_count": 24,
   "metadata": {
    "colab": {
     "base_uri": "https://localhost:8080/"
    },
    "executionInfo": {
     "elapsed": 238,
     "status": "ok",
     "timestamp": 1696984228220,
     "user": {
      "displayName": "Arun Balaram",
      "userId": "06182482132686253515"
     },
     "user_tz": 240
    },
    "id": "k-yUAQQn5k7t",
    "outputId": "3608482e-a155-4d00-d52c-6c82b9e1c238"
   },
   "outputs": [
    {
     "data": {
      "text/plain": [
       "0.9333028315794825"
      ]
     },
     "execution_count": 24,
     "metadata": {},
     "output_type": "execute_result"
    }
   ],
   "source": [
    "# Calculate the accuracy score\n",
    "# Display the test score\n",
    "\n",
    "accuracy_score(y_test, predictions)"
   ]
  },
  {
   "cell_type": "markdown",
   "metadata": {
    "id": "rG_HADpe8fyk"
   },
   "source": [
    "# Classification\n"
   ]
  },
  {
   "cell_type": "code",
   "execution_count": 25,
   "metadata": {
    "colab": {
     "base_uri": "https://localhost:8080/",
     "height": 253
    },
    "executionInfo": {
     "elapsed": 368,
     "status": "ok",
     "timestamp": 1696983183294,
     "user": {
      "displayName": "Arun Balaram",
      "userId": "06182482132686253515"
     },
     "user_tz": 240
    },
    "id": "mVtPDzS372dU",
    "outputId": "b9bd5093-c695-42e9-bad3-d6ce409d4823"
   },
   "outputs": [
    {
     "data": {
      "text/html": [
       "<div>\n",
       "<style scoped>\n",
       "    .dataframe tbody tr th:only-of-type {\n",
       "        vertical-align: middle;\n",
       "    }\n",
       "\n",
       "    .dataframe tbody tr th {\n",
       "        vertical-align: top;\n",
       "    }\n",
       "\n",
       "    .dataframe thead th {\n",
       "        text-align: right;\n",
       "    }\n",
       "</style>\n",
       "<table border=\"1\" class=\"dataframe\">\n",
       "  <thead>\n",
       "    <tr style=\"text-align: right;\">\n",
       "      <th></th>\n",
       "      <th>status_label</th>\n",
       "      <th>year</th>\n",
       "      <th>current_assets(X1)</th>\n",
       "      <th>cost_of_goods_sold(X2)</th>\n",
       "      <th>depreciation_and_amortization(X3)</th>\n",
       "      <th>EBITDA(X4)</th>\n",
       "      <th>inventory(X5)</th>\n",
       "      <th>net_income(X6)</th>\n",
       "      <th>total_receivables(X7)</th>\n",
       "      <th>market_value(X8)</th>\n",
       "      <th>...</th>\n",
       "      <th>total_assets(X10)</th>\n",
       "      <th>total_long_term_debt(X11)</th>\n",
       "      <th>EBIT(X12)</th>\n",
       "      <th>gross_profit(X13)</th>\n",
       "      <th>total_current_liabilities(X14)</th>\n",
       "      <th>retained_earnings(X15)</th>\n",
       "      <th>total_revenue(X16)</th>\n",
       "      <th>total_liabilities(X17)</th>\n",
       "      <th>total_operating_expenses(X18)</th>\n",
       "      <th>company_name_other</th>\n",
       "    </tr>\n",
       "  </thead>\n",
       "  <tbody>\n",
       "    <tr>\n",
       "      <th>0</th>\n",
       "      <td>1</td>\n",
       "      <td>1999</td>\n",
       "      <td>511.267</td>\n",
       "      <td>833.107</td>\n",
       "      <td>18.373</td>\n",
       "      <td>89.031</td>\n",
       "      <td>336.018</td>\n",
       "      <td>35.163</td>\n",
       "      <td>128.348</td>\n",
       "      <td>372.7519</td>\n",
       "      <td>...</td>\n",
       "      <td>740.998</td>\n",
       "      <td>180.447</td>\n",
       "      <td>70.658</td>\n",
       "      <td>191.226</td>\n",
       "      <td>163.816</td>\n",
       "      <td>201.026</td>\n",
       "      <td>1024.333</td>\n",
       "      <td>401.483</td>\n",
       "      <td>935.302</td>\n",
       "      <td>True</td>\n",
       "    </tr>\n",
       "    <tr>\n",
       "      <th>1</th>\n",
       "      <td>1</td>\n",
       "      <td>2000</td>\n",
       "      <td>485.856</td>\n",
       "      <td>713.811</td>\n",
       "      <td>18.577</td>\n",
       "      <td>64.367</td>\n",
       "      <td>320.590</td>\n",
       "      <td>18.531</td>\n",
       "      <td>115.187</td>\n",
       "      <td>377.1180</td>\n",
       "      <td>...</td>\n",
       "      <td>701.854</td>\n",
       "      <td>179.987</td>\n",
       "      <td>45.790</td>\n",
       "      <td>160.444</td>\n",
       "      <td>125.392</td>\n",
       "      <td>204.065</td>\n",
       "      <td>874.255</td>\n",
       "      <td>361.642</td>\n",
       "      <td>809.888</td>\n",
       "      <td>True</td>\n",
       "    </tr>\n",
       "    <tr>\n",
       "      <th>2</th>\n",
       "      <td>1</td>\n",
       "      <td>2001</td>\n",
       "      <td>436.656</td>\n",
       "      <td>526.477</td>\n",
       "      <td>22.496</td>\n",
       "      <td>27.207</td>\n",
       "      <td>286.588</td>\n",
       "      <td>-58.939</td>\n",
       "      <td>77.528</td>\n",
       "      <td>364.5928</td>\n",
       "      <td>...</td>\n",
       "      <td>710.199</td>\n",
       "      <td>217.699</td>\n",
       "      <td>4.711</td>\n",
       "      <td>112.244</td>\n",
       "      <td>150.464</td>\n",
       "      <td>139.603</td>\n",
       "      <td>638.721</td>\n",
       "      <td>399.964</td>\n",
       "      <td>611.514</td>\n",
       "      <td>True</td>\n",
       "    </tr>\n",
       "    <tr>\n",
       "      <th>3</th>\n",
       "      <td>1</td>\n",
       "      <td>2002</td>\n",
       "      <td>396.412</td>\n",
       "      <td>496.747</td>\n",
       "      <td>27.172</td>\n",
       "      <td>30.745</td>\n",
       "      <td>259.954</td>\n",
       "      <td>-12.410</td>\n",
       "      <td>66.322</td>\n",
       "      <td>143.3295</td>\n",
       "      <td>...</td>\n",
       "      <td>686.621</td>\n",
       "      <td>164.658</td>\n",
       "      <td>3.573</td>\n",
       "      <td>109.590</td>\n",
       "      <td>203.575</td>\n",
       "      <td>124.106</td>\n",
       "      <td>606.337</td>\n",
       "      <td>391.633</td>\n",
       "      <td>575.592</td>\n",
       "      <td>True</td>\n",
       "    </tr>\n",
       "    <tr>\n",
       "      <th>4</th>\n",
       "      <td>1</td>\n",
       "      <td>2003</td>\n",
       "      <td>432.204</td>\n",
       "      <td>523.302</td>\n",
       "      <td>26.680</td>\n",
       "      <td>47.491</td>\n",
       "      <td>247.245</td>\n",
       "      <td>3.504</td>\n",
       "      <td>104.661</td>\n",
       "      <td>308.9071</td>\n",
       "      <td>...</td>\n",
       "      <td>709.292</td>\n",
       "      <td>248.666</td>\n",
       "      <td>20.811</td>\n",
       "      <td>128.656</td>\n",
       "      <td>131.261</td>\n",
       "      <td>131.884</td>\n",
       "      <td>651.958</td>\n",
       "      <td>407.608</td>\n",
       "      <td>604.467</td>\n",
       "      <td>True</td>\n",
       "    </tr>\n",
       "  </tbody>\n",
       "</table>\n",
       "<p>5 rows × 21 columns</p>\n",
       "</div>"
      ],
      "text/plain": [
       "   status_label  year  current_assets(X1)  cost_of_goods_sold(X2)  \\\n",
       "0             1  1999             511.267                 833.107   \n",
       "1             1  2000             485.856                 713.811   \n",
       "2             1  2001             436.656                 526.477   \n",
       "3             1  2002             396.412                 496.747   \n",
       "4             1  2003             432.204                 523.302   \n",
       "\n",
       "   depreciation_and_amortization(X3)  EBITDA(X4)  inventory(X5)  \\\n",
       "0                             18.373      89.031        336.018   \n",
       "1                             18.577      64.367        320.590   \n",
       "2                             22.496      27.207        286.588   \n",
       "3                             27.172      30.745        259.954   \n",
       "4                             26.680      47.491        247.245   \n",
       "\n",
       "   net_income(X6)  total_receivables(X7)  market_value(X8)  ...  \\\n",
       "0          35.163                128.348          372.7519  ...   \n",
       "1          18.531                115.187          377.1180  ...   \n",
       "2         -58.939                 77.528          364.5928  ...   \n",
       "3         -12.410                 66.322          143.3295  ...   \n",
       "4           3.504                104.661          308.9071  ...   \n",
       "\n",
       "   total_assets(X10)  total_long_term_debt(X11)  EBIT(X12)  gross_profit(X13)  \\\n",
       "0            740.998                    180.447     70.658            191.226   \n",
       "1            701.854                    179.987     45.790            160.444   \n",
       "2            710.199                    217.699      4.711            112.244   \n",
       "3            686.621                    164.658      3.573            109.590   \n",
       "4            709.292                    248.666     20.811            128.656   \n",
       "\n",
       "   total_current_liabilities(X14)  retained_earnings(X15)  total_revenue(X16)  \\\n",
       "0                         163.816                 201.026            1024.333   \n",
       "1                         125.392                 204.065             874.255   \n",
       "2                         150.464                 139.603             638.721   \n",
       "3                         203.575                 124.106             606.337   \n",
       "4                         131.261                 131.884             651.958   \n",
       "\n",
       "   total_liabilities(X17)  total_operating_expenses(X18)  company_name_other  \n",
       "0                 401.483                        935.302                True  \n",
       "1                 361.642                        809.888                True  \n",
       "2                 399.964                        611.514                True  \n",
       "3                 391.633                        575.592                True  \n",
       "4                 407.608                        604.467                True  \n",
       "\n",
       "[5 rows x 21 columns]"
      ]
     },
     "execution_count": 25,
     "metadata": {},
     "output_type": "execute_result"
    }
   ],
   "source": [
    "bankruptcy_df.head()"
   ]
  },
  {
   "cell_type": "code",
   "execution_count": 26,
   "metadata": {
    "executionInfo": {
     "elapsed": 232,
     "status": "ok",
     "timestamp": 1696983187796,
     "user": {
      "displayName": "Arun Balaram",
      "userId": "06182482132686253515"
     },
     "user_tz": 240
    },
    "id": "v0u2PUBZ72nY"
   },
   "outputs": [],
   "source": [
    "# Split tbe data into X (features) and y (target)\n",
    "y = bankruptcy_df[\"status_label\"]\n",
    "X = bankruptcy_df.drop(columns=[\"status_label\"])"
   ]
  },
  {
   "cell_type": "code",
   "execution_count": 27,
   "metadata": {
    "executionInfo": {
     "elapsed": 227,
     "status": "ok",
     "timestamp": 1696983193209,
     "user": {
      "displayName": "Arun Balaram",
      "userId": "06182482132686253515"
     },
     "user_tz": 240
    },
    "id": "DsSwGfIV72so"
   },
   "outputs": [],
   "source": [
    "# Split into training and testing set using train_test_split\n",
    "X_train, X_test, y_train, y_test = train_test_split(X, y)"
   ]
  },
  {
   "cell_type": "code",
   "execution_count": 28,
   "metadata": {
    "executionInfo": {
     "elapsed": 232,
     "status": "ok",
     "timestamp": 1696983195807,
     "user": {
      "displayName": "Arun Balaram",
      "userId": "06182482132686253515"
     },
     "user_tz": 240
    },
    "id": "NkviHiwL8U4o"
   },
   "outputs": [],
   "source": [
    "# Fit a logistic resgression classifier\n",
    "bankruptcy_logistic_regression_model = LogisticRegression(random_state=6)"
   ]
  },
  {
   "cell_type": "code",
   "execution_count": 29,
   "metadata": {
    "executionInfo": {
     "elapsed": 732,
     "status": "ok",
     "timestamp": 1696983198732,
     "user": {
      "displayName": "Arun Balaram",
      "userId": "06182482132686253515"
     },
     "user_tz": 240
    },
    "id": "2VFkmXuC8VCk"
   },
   "outputs": [],
   "source": [
    "# Fit and save logistic regression model using the training data\n",
    "lgr_model = bankruptcy_logistic_regression_model.fit(X_train, y_train)"
   ]
  },
  {
   "cell_type": "code",
   "execution_count": 30,
   "metadata": {
    "executionInfo": {
     "elapsed": 234,
     "status": "ok",
     "timestamp": 1696983200289,
     "user": {
      "displayName": "Arun Balaram",
      "userId": "06182482132686253515"
     },
     "user_tz": 240
    },
    "id": "_GZSrI8d8cYd"
   },
   "outputs": [],
   "source": [
    "# Generate training predictions\n",
    "training_predictions = lgr_model.predict(X_train)\n",
    "\n",
    "# Generate testing predictions\n",
    "testing_predictions = bankruptcy_logistic_regression_model.predict(X_test)"
   ]
  },
  {
   "cell_type": "markdown",
   "metadata": {
    "id": "Kor515FG8kDs"
   },
   "source": [
    "# Confusion Matrix\n"
   ]
  },
  {
   "cell_type": "code",
   "execution_count": 31,
   "metadata": {
    "colab": {
     "base_uri": "https://localhost:8080/"
    },
    "executionInfo": {
     "elapsed": 364,
     "status": "ok",
     "timestamp": 1696983765306,
     "user": {
      "displayName": "Arun Balaram",
      "userId": "06182482132686253515"
     },
     "user_tz": 240
    },
    "id": "Yp1IZrPo8cbU",
    "outputId": "6f7b91fb-bb12-4d0c-ba61-d48943d584a5"
   },
   "outputs": [
    {
     "name": "stdout",
     "output_type": "stream",
     "text": [
      "[[   34  3910]\n",
      " [   29 55038]]\n"
     ]
    }
   ],
   "source": [
    "# Import the model for sklearn confusion matrix\n",
    "from sklearn.metrics import confusion_matrix\n",
    "\n",
    "# Predict the labels for the training data\n",
    "training_predictions = classifier.predict(X_train)\n",
    "\n",
    "# Create and save the confusion matrix for the training data\n",
    "training_matrix = confusion_matrix(y_train, training_predictions)\n",
    "\n",
    "print(training_matrix)\n",
    "\n",
    "\n"
   ]
  },
  {
   "cell_type": "code",
   "execution_count": 32,
   "metadata": {
    "colab": {
     "base_uri": "https://localhost:8080/"
    },
    "executionInfo": {
     "elapsed": 245,
     "status": "ok",
     "timestamp": 1696983769521,
     "user": {
      "displayName": "Arun Balaram",
      "userId": "06182482132686253515"
     },
     "user_tz": 240
    },
    "id": "x9-aMqM78cd-",
    "outputId": "645541c8-92ea-4521-bad4-1e19bac27b18"
   },
   "outputs": [
    {
     "name": "stdout",
     "output_type": "stream",
     "text": [
      "[[    8  1268]\n",
      " [   19 18376]]\n"
     ]
    }
   ],
   "source": [
    "# Create and save confusion matrix for testing data\n",
    "test_matrix = confusion_matrix(y_test, testing_predictions)\n",
    "\n",
    "# Print test matrix\n",
    "print(test_matrix)\n"
   ]
  },
  {
   "cell_type": "code",
   "execution_count": 33,
   "metadata": {
    "colab": {
     "base_uri": "https://localhost:8080/"
    },
    "executionInfo": {
     "elapsed": 216,
     "status": "ok",
     "timestamp": 1696983774274,
     "user": {
      "displayName": "Arun Balaram",
      "userId": "06182482132686253515"
     },
     "user_tz": 240
    },
    "id": "X-yKrVrQ8cgQ",
    "outputId": "37dd6baf-666f-4d9b-e569-d3c1debdbd87"
   },
   "outputs": [
    {
     "name": "stdout",
     "output_type": "stream",
     "text": [
      "              precision    recall  f1-score   support\n",
      "\n",
      "           0       0.54      0.01      0.02      3944\n",
      "           1       0.93      1.00      0.97     55067\n",
      "\n",
      "    accuracy                           0.93     59011\n",
      "   macro avg       0.74      0.50      0.49     59011\n",
      "weighted avg       0.91      0.93      0.90     59011\n",
      "\n"
     ]
    }
   ],
   "source": [
    "# Create training classification report\n",
    "training_report = classification_report(y_train, training_predictions)\n",
    "\n",
    "print(training_report)"
   ]
  },
  {
   "cell_type": "code",
   "execution_count": 34,
   "metadata": {
    "colab": {
     "base_uri": "https://localhost:8080/"
    },
    "executionInfo": {
     "elapsed": 10,
     "status": "ok",
     "timestamp": 1696983777522,
     "user": {
      "displayName": "Arun Balaram",
      "userId": "06182482132686253515"
     },
     "user_tz": 240
    },
    "id": "LJP-L42J-LQC",
    "outputId": "dd551231-b5b2-469f-f565-780e6ea062db"
   },
   "outputs": [
    {
     "name": "stdout",
     "output_type": "stream",
     "text": [
      "              precision    recall  f1-score   support\n",
      "\n",
      "           0       0.30      0.01      0.01      1276\n",
      "           1       0.94      1.00      0.97     18395\n",
      "\n",
      "    accuracy                           0.93     19671\n",
      "   macro avg       0.62      0.50      0.49     19671\n",
      "weighted avg       0.89      0.93      0.90     19671\n",
      "\n"
     ]
    }
   ],
   "source": [
    "# Create testing classification report\n",
    "testing_report = classification_report(y_test, testing_predictions)\n",
    "\n",
    "# Print the testing classification report\n",
    "print(testing_report)"
   ]
  },
  {
   "cell_type": "markdown",
   "metadata": {
    "id": "2btSfUJ6HcAw"
   },
   "source": [
    "Analysis of Classification"
   ]
  },
  {
   "cell_type": "markdown",
   "metadata": {
    "id": "RCJis-bjLJhA"
   },
   "source": [
    "How well does the performance of the  training and test dataset compare?\n",
    "\n",
    "Answer: When it comes to Active companies, there is a 93% success rate, meanwhile for the failed companies there is only a 59% success rate. There is a lot of unpredictability within the \"failed\" companies. There could also be external factors as to why a companies goes bankrupt.  "
   ]
  },
  {
   "cell_type": "markdown",
   "metadata": {
    "id": "ydlUQ7htKEjQ"
   },
   "source": [
    "## **RANDOM FOREST**"
   ]
  },
  {
   "cell_type": "code",
   "execution_count": 35,
   "metadata": {
    "id": "jJyz58D-HZgD"
   },
   "outputs": [],
   "source": [
    "# Splitting into Train and Test sets\n",
    "X_train, X_test, y_train, y_test = train_test_split(X, y, random_state=78)"
   ]
  },
  {
   "cell_type": "code",
   "execution_count": 36,
   "metadata": {},
   "outputs": [],
   "source": [
    "# Creating StandardScaler instance\n",
    "scaler = StandardScaler()"
   ]
  },
  {
   "cell_type": "code",
   "execution_count": 37,
   "metadata": {},
   "outputs": [],
   "source": [
    "# Fitting Standard Scaller\n",
    "X_scaler = scaler.fit(X_train)"
   ]
  },
  {
   "cell_type": "code",
   "execution_count": 38,
   "metadata": {},
   "outputs": [],
   "source": [
    "# Scaling data\n",
    "X_train_scaled = X_scaler.transform(X_train)\n",
    "X_test_scaled = X_scaler.transform(X_test)"
   ]
  },
  {
   "cell_type": "markdown",
   "metadata": {
    "id": "ydlUQ7htKEjQ"
   },
   "source": [
    "## **Fitting the Random Forest Model**"
   ]
  },
  {
   "cell_type": "code",
   "execution_count": 57,
   "metadata": {},
   "outputs": [],
   "source": [
    "from sklearn.ensemble import RandomForestClassifier\n",
    "\n",
    "# Create a random forest classifier\n",
    "rf_model = RandomForestClassifier(n_estimators=1000, random_state=90)"
   ]
  },
  {
   "cell_type": "code",
   "execution_count": 58,
   "metadata": {},
   "outputs": [],
   "source": [
    "# Fitting the model\n",
    "rf_model = rf_model.fit(X_train_scaled, y_train)"
   ]
  },
  {
   "cell_type": "markdown",
   "metadata": {
    "id": "ydlUQ7htKEjQ"
   },
   "source": [
    "## **Making Predictions using the Random Forest Model**"
   ]
  },
  {
   "cell_type": "code",
   "execution_count": 59,
   "metadata": {},
   "outputs": [],
   "source": [
    "### **Fitting the Random Forest Model** Making predictions using the testing data\n",
    "predictions = rf_model.predict(X_test_scaled)"
   ]
  },
  {
   "cell_type": "markdown",
   "metadata": {
    "id": "ydlUQ7htKEjQ"
   },
   "source": [
    "## **Model Evaluation**"
   ]
  },
  {
   "cell_type": "code",
   "execution_count": 60,
   "metadata": {},
   "outputs": [],
   "source": [
    "# Calculating the confusion matrix\n",
    "cm = confusion_matrix(y_test, predictions)\n",
    "cm_df = pd.DataFrame(\n",
    "    cm, index=[\"Actual 0\", \"Actual 1\"], columns=[\"Predicted 0\", \"Predicted 1\"]\n",
    ")\n",
    "\n",
    "# Calculating the accuracy score\n",
    "acc_score = accuracy_score(y_test, predictions)## **Fitting the Random Forest Model**"
   ]
  },
  {
   "cell_type": "code",
   "execution_count": 61,
   "metadata": {},
   "outputs": [
    {
     "name": "stdout",
     "output_type": "stream",
     "text": [
      "Confusion Matrix\n"
     ]
    },
    {
     "data": {
      "text/html": [
       "<div>\n",
       "<style scoped>\n",
       "    .dataframe tbody tr th:only-of-type {\n",
       "        vertical-align: middle;\n",
       "    }\n",
       "\n",
       "    .dataframe tbody tr th {\n",
       "        vertical-align: top;\n",
       "    }\n",
       "\n",
       "    .dataframe thead th {\n",
       "        text-align: right;\n",
       "    }\n",
       "</style>\n",
       "<table border=\"1\" class=\"dataframe\">\n",
       "  <thead>\n",
       "    <tr style=\"text-align: right;\">\n",
       "      <th></th>\n",
       "      <th>Predicted 0</th>\n",
       "      <th>Predicted 1</th>\n",
       "    </tr>\n",
       "  </thead>\n",
       "  <tbody>\n",
       "    <tr>\n",
       "      <th>Actual 0</th>\n",
       "      <td>100</td>\n",
       "      <td>1182</td>\n",
       "    </tr>\n",
       "    <tr>\n",
       "      <th>Actual 1</th>\n",
       "      <td>9</td>\n",
       "      <td>18380</td>\n",
       "    </tr>\n",
       "  </tbody>\n",
       "</table>\n",
       "</div>"
      ],
      "text/plain": [
       "          Predicted 0  Predicted 1\n",
       "Actual 0          100         1182\n",
       "Actual 1            9        18380"
      ]
     },
     "metadata": {},
     "output_type": "display_data"
    },
    {
     "name": "stdout",
     "output_type": "stream",
     "text": [
      "Accuracy Score : 0.9394540186060698\n",
      "Classification Report\n",
      "              precision    recall  f1-score   support\n",
      "\n",
      "           0       0.92      0.08      0.14      1282\n",
      "           1       0.94      1.00      0.97     18389\n",
      "\n",
      "    accuracy                           0.94     19671\n",
      "   macro avg       0.93      0.54      0.56     19671\n",
      "weighted avg       0.94      0.94      0.91     19671\n",
      "\n"
     ]
    }
   ],
   "source": [
    "# Displaying results\n",
    "print(\"Confusion Matrix\")\n",
    "display(cm_df)\n",
    "print(f\"Accuracy Score : {acc_score}\")\n",
    "print(\"Classification Report\")\n",
    "print(classification_report(y_test, predictions))"
   ]
  },
  {
   "cell_type": "markdown",
   "metadata": {
    "id": "ydlUQ7htKEjQ"
   },
   "source": [
    "## **Feature Importance**"
   ]
  },
  {
   "cell_type": "code",
   "execution_count": 64,
   "metadata": {},
   "outputs": [
    {
     "data": {
      "text/plain": [
       "[(0.0663760958719241, 'market_value(X8)'),\n",
       " (0.061431909810363096, 'retained_earnings(X15)'),\n",
       " (0.05911346462047095, 'depreciation_and_amortization(X3)'),\n",
       " (0.05637003834347473, 'current_assets(X1)'),\n",
       " (0.05619337169331315, 'total_receivables(X7)'),\n",
       " (0.05567836048446738, 'total_liabilities(X17)'),\n",
       " (0.054536211609069, 'total_assets(X10)'),\n",
       " (0.054461586671026394, 'net_income(X6)'),\n",
       " (0.05420182617457743, 'gross_profit(X13)'),\n",
       " (0.05285428595695614, 'total_current_liabilities(X14)'),\n",
       " (0.05099402272113396, 'total_long_term_debt(X11)'),\n",
       " (0.04995015239560499, 'inventory(X5)'),\n",
       " (0.04988504236410978, 'EBITDA(X4)'),\n",
       " (0.04982600757712722, 'cost_of_goods_sold(X2)'),\n",
       " (0.04968393099917225, 'EBIT(X12)'),\n",
       " (0.048531140916836926, 'total_operating_expenses(X18)'),\n",
       " (0.04558755792532668, 'total_revenue(X16)'),\n",
       " (0.0451453648884426, 'net_sales(X9)'),\n",
       " (0.03917962897660333, 'year'),\n",
       " (0.0, 'company_name_other')]"
      ]
     },
     "execution_count": 64,
     "metadata": {},
     "output_type": "execute_result"
    }
   ],
   "source": [
    "# Random Forests in sklearn will automatically calculate feature importance\n",
    "importances = rf_model.feature_importances_\n",
    "# We can sort the features by their importance\n",
    "sorted(zip(rf_model.feature_importances_, X.columns), reverse=True)"
   ]
  },
  {
   "cell_type": "code",
   "execution_count": 65,
   "metadata": {
    "scrolled": false
   },
   "outputs": [
    {
     "data": {
      "text/plain": [
       "<Axes: title={'center': 'Features Importances'}, ylabel='1'>"
      ]
     },
     "execution_count": 65,
     "metadata": {},
     "output_type": "execute_result"
    },
    {
     "data": {
      "image/png": "[encoded data removed]",
      "text/plain": [
       "<Figure size 640x480 with 1 Axes>"
      ]
     },
     "metadata": {},
     "output_type": "display_data"
    }
   ],
   "source": [
    "# Visualize the features by importance\n",
    "importances_df = pd.DataFrame(sorted(zip(rf_model.feature_importances_, X.columns), reverse=True))\n",
    "importances_df.set_index(importances_df[1], inplace=True)\n",
    "importances_df.drop(columns=1, inplace=True)\n",
    "importances_df.rename(columns={0: 'Feature Importances'}, inplace=True)\n",
    "importances_sorted = importances_df.sort_values(by='Feature Importances')\n",
    "importances_sorted.plot(kind='barh', color='lightgreen', title= 'Features Importances', legend=False)"
   ]
  },
  {
   "cell_type": "markdown",
   "metadata": {
    "id": "ydlUQ7htKEjQ"
   },
   "source": [
    "## **RANDOM FOREST WITH REDUCED FEATURES**"
   ]
  },
  {
   "cell_type": "code",
   "execution_count": 66,
   "metadata": {},
   "outputs": [
    {
     "data": {
      "text/plain": [
       "Index(['status_label', 'year', 'current_assets(X1)', 'cost_of_goods_sold(X2)',\n",
       "       'depreciation_and_amortization(X3)', 'EBITDA(X4)', 'inventory(X5)',\n",
       "       'net_income(X6)', 'total_receivables(X7)', 'market_value(X8)',\n",
       "       'net_sales(X9)', 'total_assets(X10)', 'total_long_term_debt(X11)',\n",
       "       'EBIT(X12)', 'gross_profit(X13)', 'total_current_liabilities(X14)',\n",
       "       'retained_earnings(X15)', 'total_revenue(X16)',\n",
       "       'total_liabilities(X17)', 'total_operating_expenses(X18)',\n",
       "       'company_name_other'],\n",
       "      dtype='object')"
      ]
     },
     "execution_count": 66,
     "metadata": {},
     "output_type": "execute_result"
    }
   ],
   "source": [
    "bankruptcy_df.columns"
   ]
  },
  {
   "cell_type": "code",
   "execution_count": 67,
   "metadata": {},
   "outputs": [],
   "source": [
    "bankruptcy_sree_df = bankruptcy_df[['status_label','market_value(X8)','retained_earnings(X15)','depreciation_and_amortization(X3)','current_assets(X1)','total_receivables(X7)','total_liabilities(X17)','total_assets(X10)','net_income(X6)','gross_profit(X13)','total_current_liabilities(X14)']]"
   ]
  },
  {
   "cell_type": "code",
   "execution_count": 68,
   "metadata": {},
   "outputs": [
    {
     "data": {
      "text/html": [
       "<div>\n",
       "<style scoped>\n",
       "    .dataframe tbody tr th:only-of-type {\n",
       "        vertical-align: middle;\n",
       "    }\n",
       "\n",
       "    .dataframe tbody tr th {\n",
       "        vertical-align: top;\n",
       "    }\n",
       "\n",
       "    .dataframe thead th {\n",
       "        text-align: right;\n",
       "    }\n",
       "</style>\n",
       "<table border=\"1\" class=\"dataframe\">\n",
       "  <thead>\n",
       "    <tr style=\"text-align: right;\">\n",
       "      <th></th>\n",
       "      <th>status_label</th>\n",
       "      <th>market_value(X8)</th>\n",
       "      <th>retained_earnings(X15)</th>\n",
       "      <th>depreciation_and_amortization(X3)</th>\n",
       "      <th>current_assets(X1)</th>\n",
       "      <th>total_receivables(X7)</th>\n",
       "      <th>total_liabilities(X17)</th>\n",
       "      <th>total_assets(X10)</th>\n",
       "      <th>net_income(X6)</th>\n",
       "      <th>gross_profit(X13)</th>\n",
       "      <th>total_current_liabilities(X14)</th>\n",
       "    </tr>\n",
       "  </thead>\n",
       "  <tbody>\n",
       "    <tr>\n",
       "      <th>0</th>\n",
       "      <td>1</td>\n",
       "      <td>372.7519</td>\n",
       "      <td>201.026</td>\n",
       "      <td>18.373</td>\n",
       "      <td>511.267</td>\n",
       "      <td>128.348</td>\n",
       "      <td>401.483</td>\n",
       "      <td>740.998</td>\n",
       "      <td>35.163</td>\n",
       "      <td>191.226</td>\n",
       "      <td>163.816</td>\n",
       "    </tr>\n",
       "    <tr>\n",
       "      <th>1</th>\n",
       "      <td>1</td>\n",
       "      <td>377.1180</td>\n",
       "      <td>204.065</td>\n",
       "      <td>18.577</td>\n",
       "      <td>485.856</td>\n",
       "      <td>115.187</td>\n",
       "      <td>361.642</td>\n",
       "      <td>701.854</td>\n",
       "      <td>18.531</td>\n",
       "      <td>160.444</td>\n",
       "      <td>125.392</td>\n",
       "    </tr>\n",
       "    <tr>\n",
       "      <th>2</th>\n",
       "      <td>1</td>\n",
       "      <td>364.5928</td>\n",
       "      <td>139.603</td>\n",
       "      <td>22.496</td>\n",
       "      <td>436.656</td>\n",
       "      <td>77.528</td>\n",
       "      <td>399.964</td>\n",
       "      <td>710.199</td>\n",
       "      <td>-58.939</td>\n",
       "      <td>112.244</td>\n",
       "      <td>150.464</td>\n",
       "    </tr>\n",
       "    <tr>\n",
       "      <th>3</th>\n",
       "      <td>1</td>\n",
       "      <td>143.3295</td>\n",
       "      <td>124.106</td>\n",
       "      <td>27.172</td>\n",
       "      <td>396.412</td>\n",
       "      <td>66.322</td>\n",
       "      <td>391.633</td>\n",
       "      <td>686.621</td>\n",
       "      <td>-12.410</td>\n",
       "      <td>109.590</td>\n",
       "      <td>203.575</td>\n",
       "    </tr>\n",
       "    <tr>\n",
       "      <th>4</th>\n",
       "      <td>1</td>\n",
       "      <td>308.9071</td>\n",
       "      <td>131.884</td>\n",
       "      <td>26.680</td>\n",
       "      <td>432.204</td>\n",
       "      <td>104.661</td>\n",
       "      <td>407.608</td>\n",
       "      <td>709.292</td>\n",
       "      <td>3.504</td>\n",
       "      <td>128.656</td>\n",
       "      <td>131.261</td>\n",
       "    </tr>\n",
       "  </tbody>\n",
       "</table>\n",
       "</div>"
      ],
      "text/plain": [
       "   status_label  market_value(X8)  retained_earnings(X15)  \\\n",
       "0             1          372.7519                 201.026   \n",
       "1             1          377.1180                 204.065   \n",
       "2             1          364.5928                 139.603   \n",
       "3             1          143.3295                 124.106   \n",
       "4             1          308.9071                 131.884   \n",
       "\n",
       "   depreciation_and_amortization(X3)  current_assets(X1)  \\\n",
       "0                             18.373             511.267   \n",
       "1                             18.577             485.856   \n",
       "2                             22.496             436.656   \n",
       "3                             27.172             396.412   \n",
       "4                             26.680             432.204   \n",
       "\n",
       "   total_receivables(X7)  total_liabilities(X17)  total_assets(X10)  \\\n",
       "0                128.348                 401.483            740.998   \n",
       "1                115.187                 361.642            701.854   \n",
       "2                 77.528                 399.964            710.199   \n",
       "3                 66.322                 391.633            686.621   \n",
       "4                104.661                 407.608            709.292   \n",
       "\n",
       "   net_income(X6)  gross_profit(X13)  total_current_liabilities(X14)  \n",
       "0          35.163            191.226                         163.816  \n",
       "1          18.531            160.444                         125.392  \n",
       "2         -58.939            112.244                         150.464  \n",
       "3         -12.410            109.590                         203.575  \n",
       "4           3.504            128.656                         131.261  "
      ]
     },
     "execution_count": 68,
     "metadata": {},
     "output_type": "execute_result"
    }
   ],
   "source": [
    "bankruptcy_sree_df.head()"
   ]
  },
  {
   "cell_type": "code",
   "execution_count": 70,
   "metadata": {},
   "outputs": [],
   "source": [
    "# Split our preprocessed data into our features and target arrays\n",
    "X = bankruptcy_sree_df.drop(columns='status_label', axis=1)\n",
    "y = bankruptcy_sree_df[\"status_label\"]"
   ]
  },
  {
   "cell_type": "code",
   "execution_count": 71,
   "metadata": {},
   "outputs": [],
   "source": [
    "# Creating StandardScaler instance\n",
    "scaler = StandardScaler()"
   ]
  },
  {
   "cell_type": "code",
   "execution_count": 72,
   "metadata": {},
   "outputs": [],
   "source": [
    "# Fitting Standard Scaller\n",
    "X_scaler = scaler.fit(X_train)"
   ]
  },
  {
   "cell_type": "code",
   "execution_count": 73,
   "metadata": {},
   "outputs": [],
   "source": [
    "# Scaling data\n",
    "X_train_scaled = X_scaler.transform(X_train)\n",
    "X_test_scaled = X_scaler.transform(X_test)"
   ]
  },
  {
   "cell_type": "markdown",
   "metadata": {
    "id": "ydlUQ7htKEjQ"
   },
   "source": [
    "## **Fitting the Random Forest Model**"
   ]
  },
  {
   "cell_type": "code",
   "execution_count": 74,
   "metadata": {},
   "outputs": [],
   "source": [
    "from sklearn.ensemble import RandomForestClassifier\n",
    "\n",
    "# Create a random forest classifier\n",
    "rf_model = RandomForestClassifier(n_estimators=1000, random_state=90)"
   ]
  },
  {
   "cell_type": "code",
   "execution_count": 75,
   "metadata": {},
   "outputs": [],
   "source": [
    "# Fitting the model\n",
    "rf_model = rf_model.fit(X_train_scaled, y_train)"
   ]
  },
  {
   "cell_type": "markdown",
   "metadata": {
    "id": "ydlUQ7htKEjQ"
   },
   "source": [
    "## **Making Predictions using the Random Forest Model**"
   ]
  },
  {
   "cell_type": "code",
   "execution_count": 76,
   "metadata": {},
   "outputs": [],
   "source": [
    "### **Fitting the Random Forest Model** Making predictions using the testing data\n",
    "predictions = rf_model.predict(X_test_scaled)"
   ]
  },
  {
   "cell_type": "markdown",
   "metadata": {
    "id": "ydlUQ7htKEjQ"
   },
   "source": [
    "## **Model Evaluation**"
   ]
  },
  {
   "cell_type": "code",
   "execution_count": 77,
   "metadata": {},
   "outputs": [],
   "source": [
    "# Calculating the confusion matrix\n",
    "cm = confusion_matrix(y_test, predictions)\n",
    "cm_df = pd.DataFrame(\n",
    "    cm, index=[\"Actual 0\", \"Actual 1\"], columns=[\"Predicted 0\", \"Predicted 1\"]\n",
    ")\n",
    "\n",
    "# Calculating the accuracy score\n",
    "acc_score = accuracy_score(y_test, predictions)## **Fitting the Random Forest Model**"
   ]
  },
  {
   "cell_type": "code",
   "execution_count": 78,
   "metadata": {},
   "outputs": [
    {
     "name": "stdout",
     "output_type": "stream",
     "text": [
      "Confusion Matrix\n"
     ]
    },
    {
     "data": {
      "text/html": [
       "<div>\n",
       "<style scoped>\n",
       "    .dataframe tbody tr th:only-of-type {\n",
       "        vertical-align: middle;\n",
       "    }\n",
       "\n",
       "    .dataframe tbody tr th {\n",
       "        vertical-align: top;\n",
       "    }\n",
       "\n",
       "    .dataframe thead th {\n",
       "        text-align: right;\n",
       "    }\n",
       "</style>\n",
       "<table border=\"1\" class=\"dataframe\">\n",
       "  <thead>\n",
       "    <tr style=\"text-align: right;\">\n",
       "      <th></th>\n",
       "      <th>Predicted 0</th>\n",
       "      <th>Predicted 1</th>\n",
       "    </tr>\n",
       "  </thead>\n",
       "  <tbody>\n",
       "    <tr>\n",
       "      <th>Actual 0</th>\n",
       "      <td>100</td>\n",
       "      <td>1182</td>\n",
       "    </tr>\n",
       "    <tr>\n",
       "      <th>Actual 1</th>\n",
       "      <td>9</td>\n",
       "      <td>18380</td>\n",
       "    </tr>\n",
       "  </tbody>\n",
       "</table>\n",
       "</div>"
      ],
      "text/plain": [
       "          Predicted 0  Predicted 1\n",
       "Actual 0          100         1182\n",
       "Actual 1            9        18380"
      ]
     },
     "metadata": {},
     "output_type": "display_data"
    },
    {
     "name": "stdout",
     "output_type": "stream",
     "text": [
      "Accuracy Score : 0.9394540186060698\n",
      "Classification Report\n",
      "              precision    recall  f1-score   support\n",
      "\n",
      "           0       0.92      0.08      0.14      1282\n",
      "           1       0.94      1.00      0.97     18389\n",
      "\n",
      "    accuracy                           0.94     19671\n",
      "   macro avg       0.93      0.54      0.56     19671\n",
      "weighted avg       0.94      0.94      0.91     19671\n",
      "\n"
     ]
    }
   ],
   "source": [
    "# Displaying results\n",
    "print(\"Confusion Matrix\")\n",
    "display(cm_df)\n",
    "print(f\"Accuracy Score : {acc_score}\")\n",
    "print(\"Classification Report\")\n",
    "print(classification_report(y_test, predictions))"
   ]
  },
  {
   "cell_type": "markdown",
   "metadata": {
    "id": "ydlUQ7htKEjQ"
   },
   "source": [
    "## **Feature Importance**"
   ]
  },
  {
   "cell_type": "code",
   "execution_count": 79,
   "metadata": {},
   "outputs": [
    {
     "data": {
      "text/plain": [
       "[(0.0663760958719241, 'gross_profit(X13)'),\n",
       " (0.05911346462047095, 'current_assets(X1)'),\n",
       " (0.05637003834347473, 'retained_earnings(X15)'),\n",
       " (0.05619337169331315, 'net_income(X6)'),\n",
       " (0.054461586671026394, 'total_assets(X10)'),\n",
       " (0.04995015239560499, 'total_liabilities(X17)'),\n",
       " (0.04988504236410978, 'total_receivables(X7)'),\n",
       " (0.04982600757712722, 'depreciation_and_amortization(X3)'),\n",
       " (0.0451453648884426, 'total_current_liabilities(X14)'),\n",
       " (0.03917962897660333, 'market_value(X8)')]"
      ]
     },
     "execution_count": 79,
     "metadata": {},
     "output_type": "execute_result"
    }
   ],
   "source": [
    "# Random Forests in sklearn will automatically calculate feature importance\n",
    "importances = rf_model.feature_importances_\n",
    "# We can sort the features by their importance\n",
    "sorted(zip(rf_model.feature_importances_, X.columns), reverse=True)"
   ]
  },
  {
   "cell_type": "code",
   "execution_count": 80,
   "metadata": {
    "scrolled": false
   },
   "outputs": [
    {
     "data": {
      "text/plain": [
       "<Axes: title={'center': 'Features Importances'}, ylabel='1'>"
      ]
     },
     "execution_count": 80,
     "metadata": {},
     "output_type": "execute_result"
    },
    {
     "data": {
      "image/png": "[encoded data removed]",
      "text/plain": [
       "<Figure size 640x480 with 1 Axes>"
      ]
     },
     "metadata": {},
     "output_type": "display_data"
    }
   ],
   "source": [
    "# Visualize the features by importance\n",
    "importances_df = pd.DataFrame(sorted(zip(rf_model.feature_importances_, X.columns), reverse=True))\n",
    "importances_df.set_index(importances_df[1], inplace=True)\n",
    "importances_df.drop(columns=1, inplace=True)\n",
    "importances_df.rename(columns={0: 'Feature Importances'}, inplace=True)\n",
    "importances_sorted = importances_df.sort_values(by='Feature Importances')\n",
    "importances_sorted.plot(kind='barh', color='lightgreen', title= 'Features Importances', legend=False)"
   ]
  }
 ],
 "metadata": {
  "colab": {
   "provenance": []
  },
  "kernelspec": {
   "display_name": "Python 3 (ipykernel)",
   "language": "python",
   "name": "python3"
  },
  "language_info": {
   "codemirror_mode": {
    "name": "ipython",
    "version": 3
   },
   "file_extension": ".py",
   "mimetype": "text/x-python",
   "name": "python",
   "nbconvert_exporter": "python",
   "pygments_lexer": "ipython3",
   "version": "3.10.13"
  }
 },
 "nbformat": 4,
 "nbformat_minor": 1
}
